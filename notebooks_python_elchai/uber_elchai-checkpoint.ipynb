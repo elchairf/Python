{
 "cells": [
  {
   "cell_type": "code",
   "execution_count": 1,
   "id": "bcd08309",
   "metadata": {},
   "outputs": [],
   "source": [
    "# שלום רב מצורף פה סקריפט בפייתון ידידותי למשתמש ודאטא אנליסט שמקבל נתונים ומריץ עליהם בדיקות \n",
    "#הנתונים הן של נסיעות באובר\n",
    "# This Python 3 environment comes with many helpful analytics libraries installed\n",
    "# It is defined by the kaggle/python Docker image: https://github.com/kaggle/docker-python\n",
    "# For example, here's several helpful packages to load\n",
    "\n",
    "import numpy as np # linear algebra\n",
    "import pandas as pd # data processing, CSV file I/O (e.g. pd.read_csv)\n"
   ]
  },
  {
   "cell_type": "code",
   "execution_count": 2,
   "id": "9d042eb4",
   "metadata": {},
   "outputs": [],
   "source": [
    "data = pd.read_csv('UberDataset.csv')"
   ]
  },
  {
   "cell_type": "code",
   "execution_count": 3,
   "id": "b3e702ef",
   "metadata": {},
   "outputs": [
    {
     "name": "stdout",
     "output_type": "stream",
     "text": [
      "            START_DATE          END_DATE  CATEGORY             START  \\\n",
      "0     01-01-2016 21:11  01-01-2016 21:17  Business       Fort Pierce   \n",
      "1     01-02-2016 01:25  01-02-2016 01:37  Business       Fort Pierce   \n",
      "2     01-02-2016 20:25  01-02-2016 20:38  Business       Fort Pierce   \n",
      "3     01-05-2016 17:31  01-05-2016 17:45  Business       Fort Pierce   \n",
      "4     01-06-2016 14:42  01-06-2016 15:49  Business       Fort Pierce   \n",
      "...                ...               ...       ...               ...   \n",
      "1151  12/31/2016 13:24  12/31/2016 13:42  Business           Kar?chi   \n",
      "1152  12/31/2016 15:03  12/31/2016 15:38  Business  Unknown Location   \n",
      "1153  12/31/2016 21:32  12/31/2016 21:50  Business        Katunayake   \n",
      "1154  12/31/2016 22:08  12/31/2016 23:51  Business           Gampaha   \n",
      "1155            Totals               NaN       NaN               NaN   \n",
      "\n",
      "                  STOP    MILES          PURPOSE  \n",
      "0          Fort Pierce      5.1   Meal/Entertain  \n",
      "1          Fort Pierce      5.0              NaN  \n",
      "2          Fort Pierce      4.8  Errand/Supplies  \n",
      "3          Fort Pierce      4.7          Meeting  \n",
      "4      West Palm Beach     63.7   Customer Visit  \n",
      "...                ...      ...              ...  \n",
      "1151  Unknown Location      3.9   Temporary Site  \n",
      "1152  Unknown Location     16.2          Meeting  \n",
      "1153           Gampaha      6.4   Temporary Site  \n",
      "1154         Ilukwatta     48.2   Temporary Site  \n",
      "1155               NaN  12204.7              NaN  \n",
      "\n",
      "[1156 rows x 7 columns]\n"
     ]
    }
   ],
   "source": [
    "print(data)"
   ]
  },
  {
   "cell_type": "code",
   "execution_count": 5,
   "id": "4b3546b6",
   "metadata": {
    "scrolled": true
   },
   "outputs": [],
   "source": [
    "import matplotlib.pyplot as plt"
   ]
  },
  {
   "cell_type": "code",
   "execution_count": 6,
   "id": "00d59bd9",
   "metadata": {},
   "outputs": [
    {
     "data": {
      "text/html": [
       "<div>\n",
       "<style scoped>\n",
       "    .dataframe tbody tr th:only-of-type {\n",
       "        vertical-align: middle;\n",
       "    }\n",
       "\n",
       "    .dataframe tbody tr th {\n",
       "        vertical-align: top;\n",
       "    }\n",
       "\n",
       "    .dataframe thead th {\n",
       "        text-align: right;\n",
       "    }\n",
       "</style>\n",
       "<table border=\"1\" class=\"dataframe\">\n",
       "  <thead>\n",
       "    <tr style=\"text-align: right;\">\n",
       "      <th></th>\n",
       "      <th>START_DATE</th>\n",
       "      <th>END_DATE</th>\n",
       "      <th>CATEGORY</th>\n",
       "      <th>START</th>\n",
       "      <th>STOP</th>\n",
       "      <th>MILES</th>\n",
       "      <th>PURPOSE</th>\n",
       "    </tr>\n",
       "  </thead>\n",
       "  <tbody>\n",
       "    <tr>\n",
       "      <th>0</th>\n",
       "      <td>01-01-2016 21:11</td>\n",
       "      <td>01-01-2016 21:17</td>\n",
       "      <td>Business</td>\n",
       "      <td>Fort Pierce</td>\n",
       "      <td>Fort Pierce</td>\n",
       "      <td>5.1</td>\n",
       "      <td>Meal/Entertain</td>\n",
       "    </tr>\n",
       "    <tr>\n",
       "      <th>1</th>\n",
       "      <td>01-02-2016 01:25</td>\n",
       "      <td>01-02-2016 01:37</td>\n",
       "      <td>Business</td>\n",
       "      <td>Fort Pierce</td>\n",
       "      <td>Fort Pierce</td>\n",
       "      <td>5.0</td>\n",
       "      <td>NaN</td>\n",
       "    </tr>\n",
       "    <tr>\n",
       "      <th>2</th>\n",
       "      <td>01-02-2016 20:25</td>\n",
       "      <td>01-02-2016 20:38</td>\n",
       "      <td>Business</td>\n",
       "      <td>Fort Pierce</td>\n",
       "      <td>Fort Pierce</td>\n",
       "      <td>4.8</td>\n",
       "      <td>Errand/Supplies</td>\n",
       "    </tr>\n",
       "    <tr>\n",
       "      <th>3</th>\n",
       "      <td>01-05-2016 17:31</td>\n",
       "      <td>01-05-2016 17:45</td>\n",
       "      <td>Business</td>\n",
       "      <td>Fort Pierce</td>\n",
       "      <td>Fort Pierce</td>\n",
       "      <td>4.7</td>\n",
       "      <td>Meeting</td>\n",
       "    </tr>\n",
       "    <tr>\n",
       "      <th>4</th>\n",
       "      <td>01-06-2016 14:42</td>\n",
       "      <td>01-06-2016 15:49</td>\n",
       "      <td>Business</td>\n",
       "      <td>Fort Pierce</td>\n",
       "      <td>West Palm Beach</td>\n",
       "      <td>63.7</td>\n",
       "      <td>Customer Visit</td>\n",
       "    </tr>\n",
       "  </tbody>\n",
       "</table>\n",
       "</div>"
      ],
      "text/plain": [
       "         START_DATE          END_DATE  CATEGORY        START             STOP  \\\n",
       "0  01-01-2016 21:11  01-01-2016 21:17  Business  Fort Pierce      Fort Pierce   \n",
       "1  01-02-2016 01:25  01-02-2016 01:37  Business  Fort Pierce      Fort Pierce   \n",
       "2  01-02-2016 20:25  01-02-2016 20:38  Business  Fort Pierce      Fort Pierce   \n",
       "3  01-05-2016 17:31  01-05-2016 17:45  Business  Fort Pierce      Fort Pierce   \n",
       "4  01-06-2016 14:42  01-06-2016 15:49  Business  Fort Pierce  West Palm Beach   \n",
       "\n",
       "   MILES          PURPOSE  \n",
       "0    5.1   Meal/Entertain  \n",
       "1    5.0              NaN  \n",
       "2    4.8  Errand/Supplies  \n",
       "3    4.7          Meeting  \n",
       "4   63.7   Customer Visit  "
      ]
     },
     "execution_count": 6,
     "metadata": {},
     "output_type": "execute_result"
    }
   ],
   "source": [
    "data.head()"
   ]
  },
  {
   "cell_type": "code",
   "execution_count": 9,
   "id": "5a5077da",
   "metadata": {},
   "outputs": [
    {
     "name": "stdout",
     "output_type": "stream",
     "text": [
      "<class 'pandas.core.frame.DataFrame'>\n",
      "RangeIndex: 1156 entries, 0 to 1155\n",
      "Data columns (total 7 columns):\n",
      " #   Column      Non-Null Count  Dtype  \n",
      "---  ------      --------------  -----  \n",
      " 0   START_DATE  1156 non-null   object \n",
      " 1   END_DATE    1155 non-null   object \n",
      " 2   CATEGORY    1155 non-null   object \n",
      " 3   START       1155 non-null   object \n",
      " 4   STOP        1155 non-null   object \n",
      " 5   MILES       1156 non-null   float64\n",
      " 6   PURPOSE     653 non-null    object \n",
      "dtypes: float64(1), object(6)\n",
      "memory usage: 63.3+ KB\n"
     ]
    }
   ],
   "source": [
    "data.info()\n",
    "# נותן לי מידע על הנתונים"
   ]
  },
  {
   "cell_type": "code",
   "execution_count": 11,
   "id": "8cb627c2",
   "metadata": {},
   "outputs": [
    {
     "name": "stdout",
     "output_type": "stream",
     "text": [
      "              MILES\n",
      "count   1156.000000\n",
      "mean      21.115398\n",
      "std      359.299007\n",
      "min        0.500000\n",
      "25%        2.900000\n",
      "50%        6.000000\n",
      "75%       10.400000\n",
      "max    12204.700000\n"
     ]
    }
   ],
   "source": [
    "print(data.describe())\n",
    "# נותן לי ערכים סטטיסטיים\n",
    "# נתן לי בעיקר על המספרים"
   ]
  },
  {
   "cell_type": "code",
   "execution_count": 12,
   "id": "127ebdb4",
   "metadata": {},
   "outputs": [
    {
     "name": "stdout",
     "output_type": "stream",
     "text": [
      "Business    1078\n",
      "Personal      77\n",
      "Name: CATEGORY, dtype: int64\n"
     ]
    }
   ],
   "source": [
    "print(data['CATEGORY'].value_counts())\n",
    "# התפלגות הערכים ב קטגוריות"
   ]
  },
  {
   "cell_type": "code",
   "execution_count": 29,
   "id": "9638ecb0",
   "metadata": {},
   "outputs": [
    {
     "name": "stdout",
     "output_type": "stream",
     "text": [
      "                index  START\n",
      "0                Cary    201\n",
      "1    Unknown Location    148\n",
      "2         Morrisville     85\n",
      "3         Whitebridge     68\n",
      "4           Islamabad     57\n",
      "..                ...    ...\n",
      "172          Florence      1\n",
      "173         Ridgeland      1\n",
      "174     Daytona Beach      1\n",
      "175          Sky Lake      1\n",
      "176           Gampaha      1\n",
      "\n",
      "[177 rows x 2 columns]\n"
     ]
    }
   ],
   "source": [
    "print(data['START'].value_counts().reset_index())"
   ]
  },
  {
   "cell_type": "code",
   "execution_count": 30,
   "id": "37d15f6f",
   "metadata": {},
   "outputs": [],
   "source": [
    "df_start_stat= data['START'].value_counts().reset_index()"
   ]
  },
  {
   "cell_type": "code",
   "execution_count": 31,
   "id": "17cce283",
   "metadata": {},
   "outputs": [
    {
     "name": "stdout",
     "output_type": "stream",
     "text": [
      "                index  START\n",
      "0                Cary    201\n",
      "1    Unknown Location    148\n",
      "2         Morrisville     85\n",
      "3         Whitebridge     68\n",
      "4           Islamabad     57\n",
      "..                ...    ...\n",
      "172          Florence      1\n",
      "173         Ridgeland      1\n",
      "174     Daytona Beach      1\n",
      "175          Sky Lake      1\n",
      "176           Gampaha      1\n",
      "\n",
      "[177 rows x 2 columns]\n"
     ]
    }
   ],
   "source": [
    "print (df_start_stat)"
   ]
  },
  {
   "cell_type": "code",
   "execution_count": 32,
   "id": "be77d045",
   "metadata": {},
   "outputs": [],
   "source": [
    "df_start_stat=pd.DataFrame(data['START'].value_counts().reset_index())\n",
    "# שים לב חשוב לשים אינדקס משום שזה מוסיף עמודה לפלט"
   ]
  },
  {
   "cell_type": "code",
   "execution_count": 33,
   "id": "81e805de",
   "metadata": {},
   "outputs": [
    {
     "name": "stdout",
     "output_type": "stream",
     "text": [
      "                index  START\n",
      "0                Cary    201\n",
      "1    Unknown Location    148\n",
      "2         Morrisville     85\n",
      "3         Whitebridge     68\n",
      "4           Islamabad     57\n",
      "..                ...    ...\n",
      "172          Florence      1\n",
      "173         Ridgeland      1\n",
      "174     Daytona Beach      1\n",
      "175          Sky Lake      1\n",
      "176           Gampaha      1\n",
      "\n",
      "[177 rows x 2 columns]\n"
     ]
    }
   ],
   "source": [
    "print (df_start_stat)"
   ]
  },
  {
   "cell_type": "code",
   "execution_count": 36,
   "id": "7ab36d40",
   "metadata": {},
   "outputs": [],
   "source": [
    "df_start_stat.columns = [\"name_of_place\",\"count\"]"
   ]
  },
  {
   "cell_type": "code",
   "execution_count": 38,
   "id": "ed8887f7",
   "metadata": {},
   "outputs": [
    {
     "name": "stdout",
     "output_type": "stream",
     "text": [
      "        name_of_place  count\n",
      "0                Cary    201\n",
      "1    Unknown Location    148\n",
      "2         Morrisville     85\n",
      "3         Whitebridge     68\n",
      "4           Islamabad     57\n",
      "..                ...    ...\n",
      "172          Florence      1\n",
      "173         Ridgeland      1\n",
      "174     Daytona Beach      1\n",
      "175          Sky Lake      1\n",
      "176           Gampaha      1\n",
      "\n",
      "[177 rows x 2 columns]\n"
     ]
    }
   ],
   "source": [
    "print(df_start_stat)\n"
   ]
  },
  {
   "cell_type": "code",
   "execution_count": 39,
   "id": "14623c51",
   "metadata": {},
   "outputs": [],
   "source": [
    "df_start_stat.to_csv(\"start_stat_output.csv\")"
   ]
  },
  {
   "cell_type": "code",
   "execution_count": 41,
   "id": "b720c0f2",
   "metadata": {},
   "outputs": [
    {
     "name": "stdout",
     "output_type": "stream",
     "text": [
      "24409.4\n"
     ]
    }
   ],
   "source": [
    "# נחשב כמה מיילים נסענו\n",
    "\n",
    "total_miles= data['MILES'].sum()\n",
    "print(total_miles)"
   ]
  },
  {
   "cell_type": "code",
   "execution_count": 42,
   "id": "f0cbc77e",
   "metadata": {},
   "outputs": [
    {
     "name": "stdout",
     "output_type": "stream",
     "text": [
      "              MILES\n",
      "count   1156.000000\n",
      "mean      21.115398\n",
      "std      359.299007\n",
      "min        0.500000\n",
      "25%        2.900000\n",
      "50%        6.000000\n",
      "75%       10.400000\n",
      "max    12204.700000\n"
     ]
    }
   ],
   "source": [
    "print(data.describe())\n",
    "# נותן לי ערכים סטטיסטיים\n",
    "# נתן לי בעיקר על המספרים"
   ]
  },
  {
   "cell_type": "code",
   "execution_count": 44,
   "id": "940bf828",
   "metadata": {},
   "outputs": [
    {
     "name": "stdout",
     "output_type": "stream",
     "text": [
      "count     1156.000000\n",
      "mean        21.115398\n",
      "std        359.299007\n",
      "min          0.500000\n",
      "25%          2.900000\n",
      "50%          6.000000\n",
      "75%         10.400000\n",
      "max      12204.700000\n",
      "Name: MILES, dtype: float64\n"
     ]
    }
   ],
   "source": [
    "print(data['MILES'].describe())\n",
    "#דוגמא שתתן את הכל"
   ]
  },
  {
   "cell_type": "code",
   "execution_count": 48,
   "id": "26917ef4",
   "metadata": {},
   "outputs": [
    {
     "name": "stdout",
     "output_type": "stream",
     "text": [
      "21.11539792387542\n"
     ]
    }
   ],
   "source": [
    "#אם הייתי רוצה לחשב לבד את הממוצע\n",
    "avg_miles= data['MILES'].mean()\n",
    "print(avg_miles)\n",
    "\n",
    "# אבל לא צריך חח\n"
   ]
  },
  {
   "cell_type": "code",
   "execution_count": 50,
   "id": "49833887",
   "metadata": {},
   "outputs": [
    {
     "name": "stdout",
     "output_type": "stream",
     "text": [
      "Business    1078\n",
      "Personal      77\n",
      "Name: CATEGORY, dtype: int64\n"
     ]
    }
   ],
   "source": [
    "# כמה ערכים יש בקטגוריה מסוימת?\n",
    "\n",
    "print(data['CATEGORY'].value_counts())\n",
    "\n",
    "# צריך להתחיל לשים לב איך עובדת דרישה\n",
    "# table_name['amooda'].known_func_that_get_data()מבנה אחיג"
   ]
  },
  {
   "cell_type": "code",
   "execution_count": 52,
   "id": "57ae3e45",
   "metadata": {},
   "outputs": [
    {
     "name": "stdout",
     "output_type": "stream",
     "text": [
      "Total miles driven : 24409.4\n"
     ]
    }
   ],
   "source": [
    "#נחשב סכום של עמודה בלי לסתכל\n",
    "# הוספנו פלט שמחושב כמו שצריך\n",
    "\n",
    "print('Total miles driven :' , data['MILES'].sum())"
   ]
  },
  {
   "cell_type": "code",
   "execution_count": 53,
   "id": "4f00e063",
   "metadata": {},
   "outputs": [
    {
     "name": "stdout",
     "output_type": "stream",
     "text": [
      "average miles driven : 21.11539792387542\n"
     ]
    }
   ],
   "source": [
    "# נציג את המיילים הממוצעים כפלט\n",
    "print('average miles driven :' , data['MILES'].mean())"
   ]
  },
  {
   "cell_type": "code",
   "execution_count": 55,
   "id": "78cb7f00",
   "metadata": {},
   "outputs": [
    {
     "name": "stdout",
     "output_type": "stream",
     "text": [
      "Number of missing values in PURPOSE column: START_DATE      0\n",
      "END_DATE        1\n",
      "CATEGORY        1\n",
      "START           1\n",
      "STOP            1\n",
      "MILES           0\n",
      "PURPOSE       503\n",
      "dtype: int64\n"
     ]
    }
   ],
   "source": [
    "# נבדוק איפה חסר דאטא\n",
    "# בעזרת \n",
    "print('Number of missing values in PURPOSE column:',data.isnull().sum() )"
   ]
  },
  {
   "cell_type": "code",
   "execution_count": null,
   "id": "6ee152dc",
   "metadata": {},
   "outputs": [],
   "source": [
    "# כעת נבצע ויזואליזציות\n"
   ]
  }
 ],
 "metadata": {
  "kernelspec": {
   "display_name": "Python 3 (ipykernel)",
   "language": "python",
   "name": "python3"
  },
  "language_info": {
   "codemirror_mode": {
    "name": "ipython",
    "version": 3
   },
   "file_extension": ".py",
   "mimetype": "text/x-python",
   "name": "python",
   "nbconvert_exporter": "python",
   "pygments_lexer": "ipython3",
   "version": "3.9.13"
  }
 },
 "nbformat": 4,
 "nbformat_minor": 5
}
