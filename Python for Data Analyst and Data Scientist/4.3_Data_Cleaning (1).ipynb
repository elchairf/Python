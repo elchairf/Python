{
 "cells": [
  {
   "cell_type": "markdown",
   "metadata": {},
   "source": [
    "### Data source: https://www.kaggle.com/anthonypino/melbourne-housing-market"
   ]
  },
  {
   "cell_type": "code",
   "execution_count": null,
   "metadata": {},
   "outputs": [],
   "source": [
    "# Remember to change the datafile to the name you store on your own computer.\n",
    "datafile = \"C:\\\\Users\\\\Anat\\\\PythonCode\\\\resources\\\\lesson4.3_MELBOURNE_HOUSE_PRICES_LESS.csv\" "
   ]
  },
  {
   "cell_type": "code",
   "execution_count": null,
   "metadata": {},
   "outputs": [],
   "source": [
    "import pandas as pd\n",
    "import numpy as np"
   ]
  },
  {
   "cell_type": "markdown",
   "metadata": {},
   "source": [
    "<h4><b>read_csv</b>: A pandas function that reads a comma separated file</h4>\n",
    "read_csv will try to format the data so that it is the correct type and will report any typing problems<br>\n",
    "It will also look for a header row. \n",
    "<br>http://pandas.pydata.org/pandas-docs/stable/generated/pandas.read_csv.html"
   ]
  },
  {
   "cell_type": "code",
   "execution_count": null,
   "metadata": {
    "scrolled": true
   },
   "outputs": [],
   "source": [
    "data = pd.read_csv(datafile)\n",
    "data"
   ]
  },
  {
   "cell_type": "markdown",
   "metadata": {},
   "source": [
    "<h4>Let's examine our data</h4>"
   ]
  },
  {
   "cell_type": "code",
   "execution_count": null,
   "metadata": {},
   "outputs": [],
   "source": [
    "data.info()"
   ]
  },
  {
   "cell_type": "markdown",
   "metadata": {},
   "source": [
    "<h4>Looks like Unique Key really is a unique key and can serve as an index</h4>"
   ]
  },
  {
   "cell_type": "code",
   "execution_count": null,
   "metadata": {},
   "outputs": [],
   "source": [
    "data = pd.read_csv(datafile,index_col='Address')"
   ]
  },
  {
   "cell_type": "code",
   "execution_count": null,
   "metadata": {},
   "outputs": [],
   "source": [
    "data.iloc[1:10]"
   ]
  },
  {
   "cell_type": "markdown",
   "metadata": {},
   "source": [
    "<h4>Columns 4 has mixed types</h4>"
   ]
  },
  {
   "cell_type": "markdown",
   "metadata": {},
   "source": [
    "<h4>Column 4 is incident zip</h4>\n",
    "Let's examine it<br>\n",
    "The unique() function returns unique values in a column"
   ]
  },
  {
   "cell_type": "code",
   "execution_count": null,
   "metadata": {},
   "outputs": [],
   "source": [
    "data['Postcode'].unique()"
   ]
  },
  {
   "cell_type": "markdown",
   "metadata": {},
   "source": [
    "<h4>Some issues</h4>\n",
    "<li>Sometimes zip is a float, other times it is a str\n",
    "<li>Zipcodes that are represented as floats and start with 0 are missing the first digit\n",
    "<li>Some zipcodes have the 4 digit extension added. Comparison becomes tough\n",
    "<li>What the heck is zip 0?\n",
    "<li>What about the missing (nan) values? The ? (question mark)? \"UNKNOWN\"?"
   ]
  },
  {
   "cell_type": "markdown",
   "metadata": {},
   "source": [
    "<h2>The first step in data cleaning is to:</h2>\n",
    "<h3>Decide what to do with \"bad\" data (missing, wrong etc.). Convert to Nan or delete the record.</h3>\n",
    "<h3>Make sure all data in a column is in the correct format (convert floats to ints, get rid of unnecessary chars)</h3>\n",
    "<h3>Decide what to do with missing values (NaNs)</h3>"
   ]
  },
  {
   "cell_type": "code",
   "execution_count": null,
   "metadata": {},
   "outputs": [],
   "source": [
    "def fix_postcode(input_postcode):\n",
    "    try:\n",
    "        input_postcode = int(float(input_postcode))\n",
    "    except:\n",
    "        try:\n",
    "            input_postcode = int(input_postcode.split('-')[0])\n",
    "        except:\n",
    "            return np.NaN\n",
    "    if input_postcode < 1000 or input_postcode > 9999:\n",
    "        return np.NaN\n",
    "    return str(input_postcode)\n",
    "        "
   ]
  },
  {
   "cell_type": "markdown",
   "metadata": {},
   "source": [
    "<h4>And test it</h4>"
   ]
  },
  {
   "cell_type": "code",
   "execution_count": null,
   "metadata": {},
   "outputs": [],
   "source": [
    "fix_postcode('3211.00')"
   ]
  },
  {
   "cell_type": "code",
   "execution_count": null,
   "metadata": {},
   "outputs": [],
   "source": [
    "fix_postcode('1211-2')"
   ]
  },
  {
   "cell_type": "markdown",
   "metadata": {},
   "source": [
    "<h3>Next, we'll apply this function to every element in input postcode to get a revised column</h3>\n",
    "<h4>The pandas function \"apply\" applies a function to a dataframe column\n",
    "<li>fix_postcode will be applied to each element of the Postcode column and we replace the existing column with the modified one"
   ]
  },
  {
   "cell_type": "code",
   "execution_count": null,
   "metadata": {},
   "outputs": [],
   "source": [
    "data['Postcode'] = data['Postcode'].apply(fix_postcode)"
   ]
  },
  {
   "cell_type": "code",
   "execution_count": null,
   "metadata": {},
   "outputs": [],
   "source": [
    "data['Postcode'].unique()"
   ]
  },
  {
   "cell_type": "markdown",
   "metadata": {},
   "source": [
    "<h3>Finally, we'll get rid of all rows that have postcode == Nan</h3>\n",
    "<li>We don't have to, that's just a choice we're making</li>"
   ]
  },
  {
   "cell_type": "code",
   "execution_count": null,
   "metadata": {},
   "outputs": [],
   "source": [
    "data = data[data['Postcode'].notnull()]"
   ]
  },
  {
   "cell_type": "code",
   "execution_count": null,
   "metadata": {},
   "outputs": [],
   "source": [
    "#data['Postcode'].notnull()"
   ]
  },
  {
   "cell_type": "code",
   "execution_count": null,
   "metadata": {},
   "outputs": [],
   "source": [
    "data"
   ]
  },
  {
   "cell_type": "markdown",
   "metadata": {},
   "source": [
    "<h3>Let's take a look at the columns again</h3>"
   ]
  },
  {
   "cell_type": "code",
   "execution_count": null,
   "metadata": {},
   "outputs": [],
   "source": [
    "data.info()"
   ]
  },
  {
   "cell_type": "markdown",
   "metadata": {},
   "source": [
    "<h3>Price also has missing values</h3>\n",
    "<h3>Let's get rid of them</h3>"
   ]
  },
  {
   "cell_type": "code",
   "execution_count": null,
   "metadata": {},
   "outputs": [],
   "source": [
    "data = data[(data['Price'].notnull())]"
   ]
  },
  {
   "cell_type": "code",
   "execution_count": null,
   "metadata": {},
   "outputs": [],
   "source": [
    "data.info()"
   ]
  },
  {
   "cell_type": "markdown",
   "metadata": {},
   "source": [
    "<h4>Let's look at the number of houses sold per subburb</h4>"
   ]
  },
  {
   "cell_type": "code",
   "execution_count": null,
   "metadata": {},
   "outputs": [],
   "source": [
    "data.groupby('Suburb').count()"
   ]
  },
  {
   "cell_type": "markdown",
   "metadata": {},
   "source": [
    "#### lets calculate the average price per area"
   ]
  },
  {
   "cell_type": "code",
   "execution_count": null,
   "metadata": {},
   "outputs": [],
   "source": [
    "data[['Price','CouncilArea']].groupby('CouncilArea').mean()"
   ]
  },
  {
   "cell_type": "code",
   "execution_count": null,
   "metadata": {},
   "outputs": [],
   "source": [
    "data2= data.copy()"
   ]
  },
  {
   "cell_type": "code",
   "execution_count": null,
   "metadata": {},
   "outputs": [],
   "source": [
    "id(data)"
   ]
  },
  {
   "cell_type": "code",
   "execution_count": null,
   "metadata": {},
   "outputs": [],
   "source": [
    "id(data2)"
   ]
  },
  {
   "cell_type": "markdown",
   "metadata": {},
   "source": [
    "### calculate avg price at each suburb"
   ]
  },
  {
   "cell_type": "code",
   "execution_count": null,
   "metadata": {},
   "outputs": [],
   "source": [
    "data.groupby('Suburb')['Price'].mean()"
   ]
  },
  {
   "cell_type": "markdown",
   "metadata": {},
   "source": [
    "### let's add a column that contains the size of a property relative to the average size in the district :\n",
    "#### we first calculate average number of rooms in the each district \n",
    "#### then we will calculate the relative size (i.e. number of rooms)"
   ]
  },
  {
   "cell_type": "code",
   "execution_count": null,
   "metadata": {},
   "outputs": [],
   "source": [
    "data['Avg_room_num'] = data['Rooms'].groupby(data['CouncilArea']).transform('mean')"
   ]
  },
  {
   "cell_type": "code",
   "execution_count": null,
   "metadata": {},
   "outputs": [],
   "source": [
    "data"
   ]
  },
  {
   "cell_type": "code",
   "execution_count": null,
   "metadata": {},
   "outputs": [],
   "source": [
    "data['Rel_room_num'] = data.apply(lambda row: row.Rooms/row.Avg_room_num, axis=1)\n",
    "#data['Rooms']/data['Avg_room_num']"
   ]
  },
  {
   "cell_type": "markdown",
   "metadata": {},
   "source": [
    "<h4>Dealing with time</h4>\n",
    "<li>Dates and times are best converted to datetime\n",
    "<li>That way they will be useful for analysis because we can compute timedelta objects"
   ]
  },
  {
   "cell_type": "code",
   "execution_count": null,
   "metadata": {},
   "outputs": [],
   "source": [
    "data.loc[1,'Date']"
   ]
  },
  {
   "cell_type": "code",
   "execution_count": null,
   "metadata": {},
   "outputs": [],
   "source": [
    "type(data.loc[1,'Date'])"
   ]
  },
  {
   "cell_type": "code",
   "execution_count": null,
   "metadata": {},
   "outputs": [],
   "source": [
    "import datetime\n",
    "data['Date'] = data['Date'].apply(lambda x:datetime.datetime.strptime(x,'%d/%m/%Y'))\n"
   ]
  },
  {
   "cell_type": "markdown",
   "metadata": {},
   "source": [
    "### Additional datetime components    \n",
    "<li>%Y: Year (4 digits)\n",
    "<li>%m: Month\n",
    "<li>%d: Day of month\n",
    "<li>%H: Hour (24 hour)\n",
    "<li>%M: Minutes\n",
    "<li>%S: Seconds\n",
    "<li>%f: Microseconds\n",
    "<br>\n",
    "<a href = https://stackabuse.com/converting-strings-to-datetime-in-python/>For more information</a>"
   ]
  },
  {
   "cell_type": "markdown",
   "metadata": {},
   "source": [
    "### Try different date formats for yourself:"
   ]
  },
  {
   "cell_type": "code",
   "execution_count": null,
   "metadata": {},
   "outputs": [],
   "source": [
    "str1 = \"2018-06-29 08:15:27.243860\"\n",
    "datetime.datetime.strptime(str1,'%Y-%m-%d %H:%M:%S.%f')"
   ]
  },
  {
   "cell_type": "code",
   "execution_count": null,
   "metadata": {},
   "outputs": [],
   "source": [
    "str2 = \"2019-11-01 00:00:02 UTC\"\n",
    "datetime.datetime.strptime(str2,'%Y-%m-%d %H:%M:%S UTC')"
   ]
  },
  {
   "cell_type": "code",
   "execution_count": null,
   "metadata": {},
   "outputs": [],
   "source": [
    "type(data.loc[1,'Date'])"
   ]
  },
  {
   "cell_type": "markdown",
   "metadata": {},
   "source": [
    "<h2>Finally, let's write a function that incorporates all our changes</h2>\n",
    "## this is usefull in order to run everything together"
   ]
  },
  {
   "cell_type": "code",
   "execution_count": null,
   "metadata": {},
   "outputs": [],
   "source": [
    "def read_real_estate_data(datafile):\n",
    "    import pandas as pd\n",
    "    import numpy as np\n",
    "    #Add the fix_zip function\n",
    "    def fix_postcode(input_postcode):\n",
    "        try:\n",
    "            input_postcode = int(float(input_postcode))\n",
    "        except:\n",
    "            try:\n",
    "                input_postcode = int(input_postcode.split('-')[0])\n",
    "            except:\n",
    "                return np.NaN\n",
    "        if input_postcode < 1000 or input_postcode > 9999:\n",
    "            return np.NaN\n",
    "        return str(input_postcode)\n",
    "    \n",
    "    #Read the file\n",
    "    df = pd.read_csv(datafile)\n",
    "    \n",
    "    #fix the zip\n",
    "    df['Postcode'] = df['Postcode'].apply(fix_postcode)\n",
    "    \n",
    "    #drop all rows that have any nans in them (note the easier syntax!)\n",
    "    \n",
    "    df = df.dropna(how='any')    \n",
    "    \n",
    "    #Convert times to datetime and create a processing time column\n",
    "    data['Avg_room_num'] = data.groupby('CouncilArea')['Rooms'].transform('mean')\n",
    "    data['Rel_room_num'] = data.apply(lambda row: row.Rooms/row.Avg_room_num, axis=1) #data['Rooms']/data['Avg_room_num']\n",
    "    \n",
    "    import datetime\n",
    "    df['Date'] = df['Date'].apply(lambda x:datetime.datetime.strptime(x,'%d/%m/%Y'))    \n",
    "   \n",
    "    return df\n",
    "    "
   ]
  },
  {
   "cell_type": "code",
   "execution_count": null,
   "metadata": {},
   "outputs": [],
   "source": [
    "df = read_real_estate_data(datafile)\n",
    "df.info()"
   ]
  },
  {
   "cell_type": "markdown",
   "metadata": {},
   "source": [
    "### this code creates a pivot table of the mean price for each room number and Type combination:\n"
   ]
  },
  {
   "cell_type": "code",
   "execution_count": null,
   "metadata": {},
   "outputs": [],
   "source": [
    "\n",
    "pd.pivot_table(df, index = 'Rooms', columns = 'Type', values = 'Price', aggfunc= 'mean' )"
   ]
  }
 ],
 "metadata": {
  "anaconda-cloud": {},
  "kernelspec": {
   "display_name": "Python 3 (ipykernel)",
   "language": "python",
   "name": "python3"
  },
  "language_info": {
   "codemirror_mode": {
    "name": "ipython",
    "version": 3
   },
   "file_extension": ".py",
   "mimetype": "text/x-python",
   "name": "python",
   "nbconvert_exporter": "python",
   "pygments_lexer": "ipython3",
   "version": "3.9.13"
  }
 },
 "nbformat": 4,
 "nbformat_minor": 1
}
