{
 "cells": [
  {
   "cell_type": "markdown",
   "metadata": {},
   "source": [
    "<h1>Pandas</h1>"
   ]
  },
  {
   "cell_type": "code",
   "execution_count": 136,
   "metadata": {
    "scrolled": true
   },
   "outputs": [
    {
     "name": "stdout",
     "output_type": "stream",
     "text": [
      "Requirement already satisfied: pandas-datareader in c:\\users\\anat\\anaconda3\\lib\\site-packages (0.9.0)\n",
      "Requirement already satisfied: pandas>=0.23 in c:\\users\\anat\\anaconda3\\lib\\site-packages (from pandas-datareader) (1.2.0)\n",
      "Requirement already satisfied: requests>=2.19.0 in c:\\users\\anat\\anaconda3\\lib\\site-packages (from pandas-datareader) (2.22.0)\n",
      "Requirement already satisfied: lxml in c:\\users\\anat\\anaconda3\\lib\\site-packages (from pandas-datareader) (4.4.1)\n",
      "Requirement already satisfied: python-dateutil>=2.7.3 in c:\\users\\anat\\anaconda3\\lib\\site-packages (from pandas>=0.23->pandas-datareader) (2.8.0)\n",
      "Requirement already satisfied: numpy>=1.16.5 in c:\\users\\anat\\anaconda3\\lib\\site-packages (from pandas>=0.23->pandas-datareader) (1.19.5)\n",
      "Requirement already satisfied: pytz>=2017.3 in c:\\users\\anat\\anaconda3\\lib\\site-packages (from pandas>=0.23->pandas-datareader) (2019.3)\n",
      "Requirement already satisfied: six>=1.5 in c:\\users\\anat\\anaconda3\\lib\\site-packages (from python-dateutil>=2.7.3->pandas>=0.23->pandas-datareader) (1.12.0)\n",
      "Requirement already satisfied: idna<2.9,>=2.5 in c:\\users\\anat\\anaconda3\\lib\\site-packages (from requests>=2.19.0->pandas-datareader) (2.8)\n",
      "Requirement already satisfied: urllib3!=1.25.0,!=1.25.1,<1.26,>=1.21.1 in c:\\users\\anat\\anaconda3\\lib\\site-packages (from requests>=2.19.0->pandas-datareader) (1.25.10)\n",
      "Requirement already satisfied: certifi>=2017.4.17 in c:\\users\\anat\\anaconda3\\lib\\site-packages (from requests>=2.19.0->pandas-datareader) (2019.9.11)\n",
      "Requirement already satisfied: chardet<3.1.0,>=3.0.2 in c:\\users\\anat\\anaconda3\\lib\\site-packages (from requests>=2.19.0->pandas-datareader) (3.0.4)\n",
      "Requirement already satisfied: html5lib==1.0b8 in c:\\users\\anat\\anaconda3\\lib\\site-packages (1.0b8)\n",
      "Requirement already satisfied: six in c:\\users\\anat\\anaconda3\\lib\\site-packages (from html5lib==1.0b8) (1.12.0)\n"
     ]
    },
    {
     "name": "stderr",
     "output_type": "stream",
     "text": [
      "WARNING: Retrying (Retry(total=4, connect=None, read=None, redirect=None, status=None)) after connection broken by 'ReadTimeoutError(\"HTTPSConnectionPool(host='pypi.org', port=443): Read timed out. (read timeout=15)\")': /simple/html5lib/\n",
      "WARNING: Retrying (Retry(total=3, connect=None, read=None, redirect=None, status=None)) after connection broken by 'ReadTimeoutError(\"HTTPSConnectionPool(host='pypi.org', port=443): Read timed out. (read timeout=15)\")': /simple/html5lib/\n",
      "WARNING: Retrying (Retry(total=2, connect=None, read=None, redirect=None, status=None)) after connection broken by 'ReadTimeoutError(\"HTTPSConnectionPool(host='pypi.org', port=443): Read timed out. (read timeout=15)\")': /simple/html5lib/\n",
      "WARNING: Retrying (Retry(total=1, connect=None, read=None, redirect=None, status=None)) after connection broken by 'ReadTimeoutError(\"HTTPSConnectionPool(host='pypi.org', port=443): Read timed out. (read timeout=15)\")': /simple/html5lib/\n",
      "WARNING: Retrying (Retry(total=0, connect=None, read=None, redirect=None, status=None)) after connection broken by 'ReadTimeoutError(\"HTTPSConnectionPool(host='pypi.org', port=443): Read timed out. (read timeout=15)\")': /simple/html5lib/\n"
     ]
    }
   ],
   "source": [
    "#installing pandas libraries\n",
    "!pip install pandas-datareader  \n",
    "# for reading files\n",
    "!pip install --upgrade html5lib==1.0b8  \n",
    "# for reading html\n",
    "\n",
    "#There is a bug in the latest version of html5lib so install an earlier version\n",
    "#Restart kernel after installing html5lib"
   ]
  },
  {
   "cell_type": "markdown",
   "metadata": {},
   "source": [
    "<h2>Imports</h2>"
   ]
  },
  {
   "cell_type": "code",
   "execution_count": 137,
   "metadata": {},
   "outputs": [],
   "source": [
    "import pandas as pd #pandas library\n",
    "from pandas_datareader import data #data readers (google, html, etc.)\n",
    "#The following line ensures that graphs are rendered in the notebook (and not in another window)\n",
    "%matplotlib inline \n",
    "import numpy as np\n",
    "import matplotlib.pyplot as plt #Plotting library\n",
    "import datetime as dt #datetime for timeseries support"
   ]
  },
  {
   "cell_type": "markdown",
   "metadata": {},
   "source": [
    "<h2>The structure of a dataframe</h2>"
   ]
  },
  {
   "cell_type": "code",
   "execution_count": 138,
   "metadata": {},
   "outputs": [],
   "source": [
    "d = pd.DataFrame([[1,2,3],[\"4\",5,6]],columns=['A','B','C']) "
   ]
  },
  {
   "cell_type": "code",
   "execution_count": null,
   "metadata": {},
   "outputs": [],
   "source": []
  },
  {
   "cell_type": "markdown",
   "metadata": {},
   "source": [
    "<h3>Accessing columns and rows</h3>"
   ]
  },
  {
   "cell_type": "code",
   "execution_count": 139,
   "metadata": {},
   "outputs": [
    {
     "name": "stdout",
     "output_type": "stream",
     "text": [
      "2291373725768\n"
     ]
    },
    {
     "data": {
      "text/html": [
       "<div>\n",
       "<style scoped>\n",
       "    .dataframe tbody tr th:only-of-type {\n",
       "        vertical-align: middle;\n",
       "    }\n",
       "\n",
       "    .dataframe tbody tr th {\n",
       "        vertical-align: top;\n",
       "    }\n",
       "\n",
       "    .dataframe thead th {\n",
       "        text-align: right;\n",
       "    }\n",
       "</style>\n",
       "<table border=\"1\" class=\"dataframe\">\n",
       "  <thead>\n",
       "    <tr style=\"text-align: right;\">\n",
       "      <th></th>\n",
       "      <th>row_label</th>\n",
       "      <th>A</th>\n",
       "      <th>B</th>\n",
       "      <th>C</th>\n",
       "    </tr>\n",
       "  </thead>\n",
       "  <tbody>\n",
       "    <tr>\n",
       "      <th>0</th>\n",
       "      <td>r1</td>\n",
       "      <td>00</td>\n",
       "      <td>01</td>\n",
       "      <td>02</td>\n",
       "    </tr>\n",
       "    <tr>\n",
       "      <th>1</th>\n",
       "      <td>r2</td>\n",
       "      <td>10</td>\n",
       "      <td>11</td>\n",
       "      <td>12</td>\n",
       "    </tr>\n",
       "    <tr>\n",
       "      <th>2</th>\n",
       "      <td>r3</td>\n",
       "      <td>20</td>\n",
       "      <td>21</td>\n",
       "      <td>22</td>\n",
       "    </tr>\n",
       "  </tbody>\n",
       "</table>\n",
       "</div>"
      ],
      "text/plain": [
       "  row_label   A   B   C\n",
       "0        r1  00  01  02\n",
       "1        r2  10  11  12\n",
       "2        r3  20  21  22"
      ]
     },
     "execution_count": 139,
     "metadata": {},
     "output_type": "execute_result"
    }
   ],
   "source": [
    "df = pd.DataFrame([['r1','00','01','02'],['r2','10','11','12'],['r3','20','21','22']],columns=['row_label','A','B','C'])\n",
    "print(id(df))\n",
    "df\n"
   ]
  },
  {
   "cell_type": "code",
   "execution_count": 140,
   "metadata": {},
   "outputs": [
    {
     "name": "stdout",
     "output_type": "stream",
     "text": [
      "2291373725768\n"
     ]
    },
    {
     "data": {
      "text/html": [
       "<div>\n",
       "<style scoped>\n",
       "    .dataframe tbody tr th:only-of-type {\n",
       "        vertical-align: middle;\n",
       "    }\n",
       "\n",
       "    .dataframe tbody tr th {\n",
       "        vertical-align: top;\n",
       "    }\n",
       "\n",
       "    .dataframe thead th {\n",
       "        text-align: right;\n",
       "    }\n",
       "</style>\n",
       "<table border=\"1\" class=\"dataframe\">\n",
       "  <thead>\n",
       "    <tr style=\"text-align: right;\">\n",
       "      <th></th>\n",
       "      <th>A</th>\n",
       "      <th>B</th>\n",
       "      <th>C</th>\n",
       "    </tr>\n",
       "    <tr>\n",
       "      <th>row_label</th>\n",
       "      <th></th>\n",
       "      <th></th>\n",
       "      <th></th>\n",
       "    </tr>\n",
       "  </thead>\n",
       "  <tbody>\n",
       "    <tr>\n",
       "      <th>r1</th>\n",
       "      <td>00</td>\n",
       "      <td>01</td>\n",
       "      <td>02</td>\n",
       "    </tr>\n",
       "    <tr>\n",
       "      <th>r2</th>\n",
       "      <td>10</td>\n",
       "      <td>11</td>\n",
       "      <td>12</td>\n",
       "    </tr>\n",
       "    <tr>\n",
       "      <th>r3</th>\n",
       "      <td>20</td>\n",
       "      <td>21</td>\n",
       "      <td>22</td>\n",
       "    </tr>\n",
       "  </tbody>\n",
       "</table>\n",
       "</div>"
      ],
      "text/plain": [
       "            A   B   C\n",
       "row_label            \n",
       "r1         00  01  02\n",
       "r2         10  11  12\n",
       "r3         20  21  22"
      ]
     },
     "execution_count": 140,
     "metadata": {},
     "output_type": "execute_result"
    }
   ],
   "source": [
    "df.set_index('row_label',inplace=True) # inplace = True means that the dataframe is changed. if it was false - a new df is created\n",
    "print(id(df))\n",
    "df"
   ]
  },
  {
   "cell_type": "markdown",
   "metadata": {},
   "source": [
    "<h3>Getting column data</h3>"
   ]
  },
  {
   "cell_type": "code",
   "execution_count": 141,
   "metadata": {},
   "outputs": [
    {
     "data": {
      "text/plain": [
       "row_label\n",
       "r1    01\n",
       "r2    11\n",
       "r3    21\n",
       "Name: B, dtype: object"
      ]
     },
     "execution_count": 141,
     "metadata": {},
     "output_type": "execute_result"
    }
   ],
   "source": [
    "df['B']"
   ]
  },
  {
   "cell_type": "code",
   "execution_count": 142,
   "metadata": {},
   "outputs": [
    {
     "name": "stdout",
     "output_type": "stream",
     "text": [
      "<class 'pandas.core.series.Series'>\n",
      "<class 'pandas.core.frame.DataFrame'>\n"
     ]
    }
   ],
   "source": [
    "print(type(df['B']))\n",
    "print(type(df))"
   ]
  },
  {
   "cell_type": "markdown",
   "metadata": {},
   "source": [
    "<h3>Getting row data</h3>"
   ]
  },
  {
   "cell_type": "code",
   "execution_count": 143,
   "metadata": {},
   "outputs": [
    {
     "data": {
      "text/plain": [
       "A    00\n",
       "B    01\n",
       "C    02\n",
       "Name: r1, dtype: object"
      ]
     },
     "execution_count": 143,
     "metadata": {},
     "output_type": "execute_result"
    }
   ],
   "source": [
    "df.loc['r1']  # a row of a DF is like an element of a dictionary"
   ]
  },
  {
   "cell_type": "code",
   "execution_count": 144,
   "metadata": {},
   "outputs": [
    {
     "data": {
      "text/plain": [
       "pandas.core.series.Series"
      ]
     },
     "execution_count": 144,
     "metadata": {},
     "output_type": "execute_result"
    }
   ],
   "source": [
    "type(df.loc['r1'])"
   ]
  },
  {
   "cell_type": "markdown",
   "metadata": {},
   "source": [
    "<h3>Getting a row by row number</h3>"
   ]
  },
  {
   "cell_type": "code",
   "execution_count": 145,
   "metadata": {},
   "outputs": [
    {
     "data": {
      "text/plain": [
       "A    00\n",
       "B    01\n",
       "C    02\n",
       "Name: r1, dtype: object"
      ]
     },
     "execution_count": 145,
     "metadata": {},
     "output_type": "execute_result"
    }
   ],
   "source": [
    "df.iloc[0] #this is faster than by row index"
   ]
  },
  {
   "cell_type": "markdown",
   "metadata": {},
   "source": [
    "<h3>Getting multiple columns<h3>"
   ]
  },
  {
   "cell_type": "code",
   "execution_count": 146,
   "metadata": {},
   "outputs": [
    {
     "data": {
      "text/html": [
       "<div>\n",
       "<style scoped>\n",
       "    .dataframe tbody tr th:only-of-type {\n",
       "        vertical-align: middle;\n",
       "    }\n",
       "\n",
       "    .dataframe tbody tr th {\n",
       "        vertical-align: top;\n",
       "    }\n",
       "\n",
       "    .dataframe thead th {\n",
       "        text-align: right;\n",
       "    }\n",
       "</style>\n",
       "<table border=\"1\" class=\"dataframe\">\n",
       "  <thead>\n",
       "    <tr style=\"text-align: right;\">\n",
       "      <th></th>\n",
       "      <th>B</th>\n",
       "      <th>A</th>\n",
       "    </tr>\n",
       "    <tr>\n",
       "      <th>row_label</th>\n",
       "      <th></th>\n",
       "      <th></th>\n",
       "    </tr>\n",
       "  </thead>\n",
       "  <tbody>\n",
       "    <tr>\n",
       "      <th>r1</th>\n",
       "      <td>01</td>\n",
       "      <td>00</td>\n",
       "    </tr>\n",
       "    <tr>\n",
       "      <th>r2</th>\n",
       "      <td>11</td>\n",
       "      <td>10</td>\n",
       "    </tr>\n",
       "    <tr>\n",
       "      <th>r3</th>\n",
       "      <td>21</td>\n",
       "      <td>20</td>\n",
       "    </tr>\n",
       "  </tbody>\n",
       "</table>\n",
       "</div>"
      ],
      "text/plain": [
       "            B   A\n",
       "row_label        \n",
       "r1         01  00\n",
       "r2         11  10\n",
       "r3         21  20"
      ]
     },
     "execution_count": 146,
     "metadata": {},
     "output_type": "execute_result"
    }
   ],
   "source": [
    "df[['B','A']] #Note that the column identifiers are in a list"
   ]
  },
  {
   "cell_type": "markdown",
   "metadata": {},
   "source": [
    "<h3>Getting a specific cell</h3>"
   ]
  },
  {
   "cell_type": "code",
   "execution_count": 147,
   "metadata": {},
   "outputs": [
    {
     "data": {
      "text/plain": [
       "'11'"
      ]
     },
     "execution_count": 147,
     "metadata": {},
     "output_type": "execute_result"
    }
   ],
   "source": [
    "df.loc['r2','B']"
   ]
  },
  {
   "cell_type": "code",
   "execution_count": 148,
   "metadata": {},
   "outputs": [
    {
     "data": {
      "text/plain": [
       "'11'"
      ]
     },
     "execution_count": 148,
     "metadata": {},
     "output_type": "execute_result"
    }
   ],
   "source": [
    "df.loc['r2']['B'] # chaining... the same result but not the same thing as in the cell above"
   ]
  },
  {
   "cell_type": "code",
   "execution_count": 149,
   "metadata": {},
   "outputs": [
    {
     "data": {
      "text/plain": [
       "2292309006832"
      ]
     },
     "execution_count": 149,
     "metadata": {},
     "output_type": "execute_result"
    }
   ],
   "source": [
    "id(df.loc['r2','B'])"
   ]
  },
  {
   "cell_type": "markdown",
   "metadata": {},
   "source": [
    "<h3>Slicing</h3>"
   ]
  },
  {
   "cell_type": "code",
   "execution_count": 150,
   "metadata": {},
   "outputs": [
    {
     "data": {
      "text/html": [
       "<div>\n",
       "<style scoped>\n",
       "    .dataframe tbody tr th:only-of-type {\n",
       "        vertical-align: middle;\n",
       "    }\n",
       "\n",
       "    .dataframe tbody tr th {\n",
       "        vertical-align: top;\n",
       "    }\n",
       "\n",
       "    .dataframe thead th {\n",
       "        text-align: right;\n",
       "    }\n",
       "</style>\n",
       "<table border=\"1\" class=\"dataframe\">\n",
       "  <thead>\n",
       "    <tr style=\"text-align: right;\">\n",
       "      <th></th>\n",
       "      <th>A</th>\n",
       "      <th>B</th>\n",
       "      <th>C</th>\n",
       "    </tr>\n",
       "    <tr>\n",
       "      <th>row_label</th>\n",
       "      <th></th>\n",
       "      <th></th>\n",
       "      <th></th>\n",
       "    </tr>\n",
       "  </thead>\n",
       "  <tbody>\n",
       "    <tr>\n",
       "      <th>r1</th>\n",
       "      <td>00</td>\n",
       "      <td>01</td>\n",
       "      <td>02</td>\n",
       "    </tr>\n",
       "    <tr>\n",
       "      <th>r2</th>\n",
       "      <td>10</td>\n",
       "      <td>11</td>\n",
       "      <td>12</td>\n",
       "    </tr>\n",
       "  </tbody>\n",
       "</table>\n",
       "</div>"
      ],
      "text/plain": [
       "            A   B   C\n",
       "row_label            \n",
       "r1         00  01  02\n",
       "r2         10  11  12"
      ]
     },
     "execution_count": 150,
     "metadata": {},
     "output_type": "execute_result"
    }
   ],
   "source": [
    "df.loc['r1':'r2']"
   ]
  },
  {
   "cell_type": "code",
   "execution_count": 151,
   "metadata": {},
   "outputs": [
    {
     "data": {
      "text/html": [
       "<div>\n",
       "<style scoped>\n",
       "    .dataframe tbody tr th:only-of-type {\n",
       "        vertical-align: middle;\n",
       "    }\n",
       "\n",
       "    .dataframe tbody tr th {\n",
       "        vertical-align: top;\n",
       "    }\n",
       "\n",
       "    .dataframe thead th {\n",
       "        text-align: right;\n",
       "    }\n",
       "</style>\n",
       "<table border=\"1\" class=\"dataframe\">\n",
       "  <thead>\n",
       "    <tr style=\"text-align: right;\">\n",
       "      <th></th>\n",
       "      <th>B</th>\n",
       "      <th>C</th>\n",
       "    </tr>\n",
       "    <tr>\n",
       "      <th>row_label</th>\n",
       "      <th></th>\n",
       "      <th></th>\n",
       "    </tr>\n",
       "  </thead>\n",
       "  <tbody>\n",
       "    <tr>\n",
       "      <th>r1</th>\n",
       "      <td>01</td>\n",
       "      <td>02</td>\n",
       "    </tr>\n",
       "    <tr>\n",
       "      <th>r2</th>\n",
       "      <td>11</td>\n",
       "      <td>12</td>\n",
       "    </tr>\n",
       "  </tbody>\n",
       "</table>\n",
       "</div>"
      ],
      "text/plain": [
       "            B   C\n",
       "row_label        \n",
       "r1         01  02\n",
       "r2         11  12"
      ]
     },
     "execution_count": 151,
     "metadata": {},
     "output_type": "execute_result"
    }
   ],
   "source": [
    "df.loc['r1':'r2','B':'C']"
   ]
  },
  {
   "cell_type": "code",
   "execution_count": 152,
   "metadata": {},
   "outputs": [
    {
     "data": {
      "text/html": [
       "<div>\n",
       "<style scoped>\n",
       "    .dataframe tbody tr th:only-of-type {\n",
       "        vertical-align: middle;\n",
       "    }\n",
       "\n",
       "    .dataframe tbody tr th {\n",
       "        vertical-align: top;\n",
       "    }\n",
       "\n",
       "    .dataframe thead th {\n",
       "        text-align: right;\n",
       "    }\n",
       "</style>\n",
       "<table border=\"1\" class=\"dataframe\">\n",
       "  <thead>\n",
       "    <tr style=\"text-align: right;\">\n",
       "      <th></th>\n",
       "      <th>A</th>\n",
       "      <th>B</th>\n",
       "      <th>C</th>\n",
       "    </tr>\n",
       "    <tr>\n",
       "      <th>row_label</th>\n",
       "      <th></th>\n",
       "      <th></th>\n",
       "      <th></th>\n",
       "    </tr>\n",
       "  </thead>\n",
       "  <tbody>\n",
       "    <tr>\n",
       "      <th>r1</th>\n",
       "      <td>00</td>\n",
       "      <td>01</td>\n",
       "      <td>02</td>\n",
       "    </tr>\n",
       "    <tr>\n",
       "      <th>r2</th>\n",
       "      <td>10</td>\n",
       "      <td>11</td>\n",
       "      <td>12</td>\n",
       "    </tr>\n",
       "  </tbody>\n",
       "</table>\n",
       "</div>"
      ],
      "text/plain": [
       "            A   B   C\n",
       "row_label            \n",
       "r1         00  01  02\n",
       "r2         10  11  12"
      ]
     },
     "execution_count": 152,
     "metadata": {},
     "output_type": "execute_result"
    }
   ],
   "source": [
    "df.head(2)"
   ]
  },
  {
   "cell_type": "markdown",
   "metadata": {},
   "source": [
    "<h2>Pandas datareader</h2>\n",
    "<li>Access data from html tables on any web page</li>\n",
    "<li>Get data from google finance</li>\n",
    "<li>Get data from the federal reserve</li>"
   ]
  },
  {
   "cell_type": "markdown",
   "metadata": {},
   "source": [
    "<h3>HTML Tables</h3>\n",
    "<li>Pandas datareader can read a table in an html page into a dataframe\n",
    "<li>the read_html function returns a list of all dataframes with one dataframe for each html table on the page"
   ]
  },
  {
   "cell_type": "markdown",
   "metadata": {},
   "source": [
    "<table>\n",
    "    <tr><td>1</td><td>2</td></tr>\n",
    "    <tr><td>3</td><td>4</td></tr>\n",
    "</table>"
   ]
  },
  {
   "cell_type": "markdown",
   "metadata": {},
   "source": [
    "<h4>Example: Read the tables from an html page</h4>"
   ]
  },
  {
   "cell_type": "markdown",
   "metadata": {},
   "source": [
    "Unfortunately, the orginal bloomberg link doesn't work, here we use another website."
   ]
  },
  {
   "cell_type": "code",
   "execution_count": 153,
   "metadata": {},
   "outputs": [
    {
     "name": "stdout",
     "output_type": "stream",
     "text": [
      "2\n"
     ]
    }
   ],
   "source": [
    "df_list = pd.read_html('https://www.x-rates.com/table/?from=USD&amount=1')  # looks for table tags and returns a list of tables apearing in a url\n",
    "print(len(df_list))"
   ]
  },
  {
   "cell_type": "markdown",
   "metadata": {},
   "source": [
    "<h4>The page contains two tables</h4>"
   ]
  },
  {
   "cell_type": "code",
   "execution_count": 154,
   "metadata": {
    "scrolled": true
   },
   "outputs": [
    {
     "data": {
      "text/html": [
       "<div>\n",
       "<style scoped>\n",
       "    .dataframe tbody tr th:only-of-type {\n",
       "        vertical-align: middle;\n",
       "    }\n",
       "\n",
       "    .dataframe tbody tr th {\n",
       "        vertical-align: top;\n",
       "    }\n",
       "\n",
       "    .dataframe thead th {\n",
       "        text-align: right;\n",
       "    }\n",
       "</style>\n",
       "<table border=\"1\" class=\"dataframe\">\n",
       "  <thead>\n",
       "    <tr style=\"text-align: right;\">\n",
       "      <th></th>\n",
       "      <th>US Dollar</th>\n",
       "      <th>1.00 USD</th>\n",
       "      <th>inv. 1.00 USD</th>\n",
       "    </tr>\n",
       "  </thead>\n",
       "  <tbody>\n",
       "    <tr>\n",
       "      <th>0</th>\n",
       "      <td>Euro</td>\n",
       "      <td>0.820401</td>\n",
       "      <td>1.218917</td>\n",
       "    </tr>\n",
       "    <tr>\n",
       "      <th>1</th>\n",
       "      <td>British Pound</td>\n",
       "      <td>0.708069</td>\n",
       "      <td>1.412292</td>\n",
       "    </tr>\n",
       "    <tr>\n",
       "      <th>2</th>\n",
       "      <td>Indian Rupee</td>\n",
       "      <td>73.121671</td>\n",
       "      <td>0.013676</td>\n",
       "    </tr>\n",
       "    <tr>\n",
       "      <th>3</th>\n",
       "      <td>Australian Dollar</td>\n",
       "      <td>1.290057</td>\n",
       "      <td>0.775160</td>\n",
       "    </tr>\n",
       "    <tr>\n",
       "      <th>4</th>\n",
       "      <td>Canadian Dollar</td>\n",
       "      <td>1.210614</td>\n",
       "      <td>0.826027</td>\n",
       "    </tr>\n",
       "    <tr>\n",
       "      <th>5</th>\n",
       "      <td>Singapore Dollar</td>\n",
       "      <td>1.332907</td>\n",
       "      <td>0.750240</td>\n",
       "    </tr>\n",
       "    <tr>\n",
       "      <th>6</th>\n",
       "      <td>Swiss Franc</td>\n",
       "      <td>0.903942</td>\n",
       "      <td>1.106266</td>\n",
       "    </tr>\n",
       "    <tr>\n",
       "      <th>7</th>\n",
       "      <td>Malaysian Ringgit</td>\n",
       "      <td>4.139981</td>\n",
       "      <td>0.241547</td>\n",
       "    </tr>\n",
       "    <tr>\n",
       "      <th>8</th>\n",
       "      <td>Japanese Yen</td>\n",
       "      <td>109.116799</td>\n",
       "      <td>0.009164</td>\n",
       "    </tr>\n",
       "    <tr>\n",
       "      <th>9</th>\n",
       "      <td>Chinese Yuan Renminbi</td>\n",
       "      <td>6.439752</td>\n",
       "      <td>0.155285</td>\n",
       "    </tr>\n",
       "  </tbody>\n",
       "</table>\n",
       "</div>"
      ],
      "text/plain": [
       "               US Dollar    1.00 USD  inv. 1.00 USD\n",
       "0                   Euro    0.820401       1.218917\n",
       "1          British Pound    0.708069       1.412292\n",
       "2           Indian Rupee   73.121671       0.013676\n",
       "3      Australian Dollar    1.290057       0.775160\n",
       "4        Canadian Dollar    1.210614       0.826027\n",
       "5       Singapore Dollar    1.332907       0.750240\n",
       "6            Swiss Franc    0.903942       1.106266\n",
       "7      Malaysian Ringgit    4.139981       0.241547\n",
       "8           Japanese Yen  109.116799       0.009164\n",
       "9  Chinese Yuan Renminbi    6.439752       0.155285"
      ]
     },
     "execution_count": 154,
     "metadata": {},
     "output_type": "execute_result"
    }
   ],
   "source": [
    "df = df_list[0]\n",
    "df"
   ]
  },
  {
   "cell_type": "markdown",
   "metadata": {},
   "source": [
    "<h4>Note that the read_html function has automatically detected the header columns</h4>\n",
    "<h4>If an index is necessary, we need to explicitly specify it</h4>"
   ]
  },
  {
   "cell_type": "code",
   "execution_count": 155,
   "metadata": {},
   "outputs": [
    {
     "data": {
      "text/html": [
       "<div>\n",
       "<style scoped>\n",
       "    .dataframe tbody tr th:only-of-type {\n",
       "        vertical-align: middle;\n",
       "    }\n",
       "\n",
       "    .dataframe tbody tr th {\n",
       "        vertical-align: top;\n",
       "    }\n",
       "\n",
       "    .dataframe thead th {\n",
       "        text-align: right;\n",
       "    }\n",
       "</style>\n",
       "<table border=\"1\" class=\"dataframe\">\n",
       "  <thead>\n",
       "    <tr style=\"text-align: right;\">\n",
       "      <th></th>\n",
       "      <th>1.00 USD</th>\n",
       "      <th>inv. 1.00 USD</th>\n",
       "    </tr>\n",
       "    <tr>\n",
       "      <th>US Dollar</th>\n",
       "      <th></th>\n",
       "      <th></th>\n",
       "    </tr>\n",
       "  </thead>\n",
       "  <tbody>\n",
       "    <tr>\n",
       "      <th>Euro</th>\n",
       "      <td>0.820401</td>\n",
       "      <td>1.218917</td>\n",
       "    </tr>\n",
       "    <tr>\n",
       "      <th>British Pound</th>\n",
       "      <td>0.708069</td>\n",
       "      <td>1.412292</td>\n",
       "    </tr>\n",
       "    <tr>\n",
       "      <th>Indian Rupee</th>\n",
       "      <td>73.121671</td>\n",
       "      <td>0.013676</td>\n",
       "    </tr>\n",
       "    <tr>\n",
       "      <th>Australian Dollar</th>\n",
       "      <td>1.290057</td>\n",
       "      <td>0.775160</td>\n",
       "    </tr>\n",
       "    <tr>\n",
       "      <th>Canadian Dollar</th>\n",
       "      <td>1.210614</td>\n",
       "      <td>0.826027</td>\n",
       "    </tr>\n",
       "    <tr>\n",
       "      <th>Singapore Dollar</th>\n",
       "      <td>1.332907</td>\n",
       "      <td>0.750240</td>\n",
       "    </tr>\n",
       "    <tr>\n",
       "      <th>Swiss Franc</th>\n",
       "      <td>0.903942</td>\n",
       "      <td>1.106266</td>\n",
       "    </tr>\n",
       "    <tr>\n",
       "      <th>Malaysian Ringgit</th>\n",
       "      <td>4.139981</td>\n",
       "      <td>0.241547</td>\n",
       "    </tr>\n",
       "    <tr>\n",
       "      <th>Japanese Yen</th>\n",
       "      <td>109.116799</td>\n",
       "      <td>0.009164</td>\n",
       "    </tr>\n",
       "    <tr>\n",
       "      <th>Chinese Yuan Renminbi</th>\n",
       "      <td>6.439752</td>\n",
       "      <td>0.155285</td>\n",
       "    </tr>\n",
       "  </tbody>\n",
       "</table>\n",
       "</div>"
      ],
      "text/plain": [
       "                         1.00 USD  inv. 1.00 USD\n",
       "US Dollar                                       \n",
       "Euro                     0.820401       1.218917\n",
       "British Pound            0.708069       1.412292\n",
       "Indian Rupee            73.121671       0.013676\n",
       "Australian Dollar        1.290057       0.775160\n",
       "Canadian Dollar          1.210614       0.826027\n",
       "Singapore Dollar         1.332907       0.750240\n",
       "Swiss Franc              0.903942       1.106266\n",
       "Malaysian Ringgit        4.139981       0.241547\n",
       "Japanese Yen           109.116799       0.009164\n",
       "Chinese Yuan Renminbi    6.439752       0.155285"
      ]
     },
     "execution_count": 155,
     "metadata": {},
     "output_type": "execute_result"
    }
   ],
   "source": [
    "df.set_index('US Dollar',inplace=True)\n",
    "df"
   ]
  },
  {
   "cell_type": "markdown",
   "metadata": {},
   "source": [
    "<h4>Now we can use .loc to extract specific currency rates</h4>"
   ]
  },
  {
   "cell_type": "code",
   "execution_count": 156,
   "metadata": {},
   "outputs": [
    {
     "data": {
      "text/plain": [
       "0.820401"
      ]
     },
     "execution_count": 156,
     "metadata": {},
     "output_type": "execute_result"
    }
   ],
   "source": [
    "df.loc['Euro','1.00 USD']"
   ]
  },
  {
   "cell_type": "code",
   "execution_count": 157,
   "metadata": {},
   "outputs": [
    {
     "data": {
      "text/plain": [
       "US Dollar\n",
       "Euro                  0.820401\n",
       "British Pound         0.708069\n",
       "Indian Rupee         73.121671\n",
       "Australian Dollar     1.290057\n",
       "Canadian Dollar       1.210614\n",
       "Singapore Dollar      1.332907\n",
       "Swiss Franc           0.903942\n",
       "Name: 1.00 USD, dtype: float64"
      ]
     },
     "execution_count": 157,
     "metadata": {},
     "output_type": "execute_result"
    }
   ],
   "source": [
    "df.loc['Euro':'Swiss Franc','1.00 USD']"
   ]
  },
  {
   "cell_type": "markdown",
   "metadata": {},
   "source": [
    "<h3>Working with views and copies</h3>"
   ]
  },
  {
   "cell_type": "markdown",
   "metadata": {},
   "source": [
    "<h4>Chained indexing creates a copy and changes to the copy won't be reflected in the original dataframe</h4>"
   ]
  },
  {
   "cell_type": "code",
   "execution_count": 158,
   "metadata": {},
   "outputs": [
    {
     "data": {
      "text/plain": [
       "0.820401"
      ]
     },
     "execution_count": 158,
     "metadata": {},
     "output_type": "execute_result"
    }
   ],
   "source": [
    "eur_usd = df.loc['Euro']['1.00 USD']\n",
    "eur_usd"
   ]
  },
  {
   "cell_type": "code",
   "execution_count": 159,
   "metadata": {},
   "outputs": [
    {
     "name": "stdout",
     "output_type": "stream",
     "text": [
      "0.820401\n",
      "1.0\n"
     ]
    }
   ],
   "source": [
    "#eur_usd = df.loc['Euro']['1.00 USD'] #This is chained indexing - we are creating a copy of the dataframe\n",
    "df.loc['Euro']['1.00 USD'] = 1.0 #Here we are changing a value in the dataframe\n",
    "print(eur_usd) # didn't change\n",
    "print(df.loc['Euro']['1.00 USD']) #changed"
   ]
  },
  {
   "cell_type": "code",
   "execution_count": 160,
   "metadata": {},
   "outputs": [
    {
     "data": {
      "text/html": [
       "<div>\n",
       "<style scoped>\n",
       "    .dataframe tbody tr th:only-of-type {\n",
       "        vertical-align: middle;\n",
       "    }\n",
       "\n",
       "    .dataframe tbody tr th {\n",
       "        vertical-align: top;\n",
       "    }\n",
       "\n",
       "    .dataframe thead th {\n",
       "        text-align: right;\n",
       "    }\n",
       "</style>\n",
       "<table border=\"1\" class=\"dataframe\">\n",
       "  <thead>\n",
       "    <tr style=\"text-align: right;\">\n",
       "      <th></th>\n",
       "      <th>1.00 USD</th>\n",
       "      <th>inv. 1.00 USD</th>\n",
       "    </tr>\n",
       "    <tr>\n",
       "      <th>US Dollar</th>\n",
       "      <th></th>\n",
       "      <th></th>\n",
       "    </tr>\n",
       "  </thead>\n",
       "  <tbody>\n",
       "    <tr>\n",
       "      <th>Euro</th>\n",
       "      <td>1.000000</td>\n",
       "      <td>1.218917</td>\n",
       "    </tr>\n",
       "    <tr>\n",
       "      <th>British Pound</th>\n",
       "      <td>0.708069</td>\n",
       "      <td>1.412292</td>\n",
       "    </tr>\n",
       "    <tr>\n",
       "      <th>Indian Rupee</th>\n",
       "      <td>73.121671</td>\n",
       "      <td>0.013676</td>\n",
       "    </tr>\n",
       "    <tr>\n",
       "      <th>Australian Dollar</th>\n",
       "      <td>1.290057</td>\n",
       "      <td>0.775160</td>\n",
       "    </tr>\n",
       "    <tr>\n",
       "      <th>Canadian Dollar</th>\n",
       "      <td>1.210614</td>\n",
       "      <td>0.826027</td>\n",
       "    </tr>\n",
       "    <tr>\n",
       "      <th>Singapore Dollar</th>\n",
       "      <td>1.332907</td>\n",
       "      <td>0.750240</td>\n",
       "    </tr>\n",
       "    <tr>\n",
       "      <th>Swiss Franc</th>\n",
       "      <td>0.903942</td>\n",
       "      <td>1.106266</td>\n",
       "    </tr>\n",
       "    <tr>\n",
       "      <th>Malaysian Ringgit</th>\n",
       "      <td>4.139981</td>\n",
       "      <td>0.241547</td>\n",
       "    </tr>\n",
       "    <tr>\n",
       "      <th>Japanese Yen</th>\n",
       "      <td>109.116799</td>\n",
       "      <td>0.009164</td>\n",
       "    </tr>\n",
       "    <tr>\n",
       "      <th>Chinese Yuan Renminbi</th>\n",
       "      <td>6.439752</td>\n",
       "      <td>0.155285</td>\n",
       "    </tr>\n",
       "  </tbody>\n",
       "</table>\n",
       "</div>"
      ],
      "text/plain": [
       "                         1.00 USD  inv. 1.00 USD\n",
       "US Dollar                                       \n",
       "Euro                     1.000000       1.218917\n",
       "British Pound            0.708069       1.412292\n",
       "Indian Rupee            73.121671       0.013676\n",
       "Australian Dollar        1.290057       0.775160\n",
       "Canadian Dollar          1.210614       0.826027\n",
       "Singapore Dollar         1.332907       0.750240\n",
       "Swiss Franc              0.903942       1.106266\n",
       "Malaysian Ringgit        4.139981       0.241547\n",
       "Japanese Yen           109.116799       0.009164\n",
       "Chinese Yuan Renminbi    6.439752       0.155285"
      ]
     },
     "execution_count": 160,
     "metadata": {},
     "output_type": "execute_result"
    }
   ],
   "source": [
    "#df.loc['Euro']\n",
    "df\n"
   ]
  },
  {
   "cell_type": "code",
   "execution_count": 161,
   "metadata": {},
   "outputs": [
    {
     "name": "stdout",
     "output_type": "stream",
     "text": [
      "2291379677320\n"
     ]
    },
    {
     "data": {
      "text/html": [
       "<div>\n",
       "<style scoped>\n",
       "    .dataframe tbody tr th:only-of-type {\n",
       "        vertical-align: middle;\n",
       "    }\n",
       "\n",
       "    .dataframe tbody tr th {\n",
       "        vertical-align: top;\n",
       "    }\n",
       "\n",
       "    .dataframe thead th {\n",
       "        text-align: right;\n",
       "    }\n",
       "</style>\n",
       "<table border=\"1\" class=\"dataframe\">\n",
       "  <thead>\n",
       "    <tr style=\"text-align: right;\">\n",
       "      <th></th>\n",
       "      <th>row_label</th>\n",
       "      <th>A</th>\n",
       "      <th>B</th>\n",
       "      <th>C</th>\n",
       "    </tr>\n",
       "  </thead>\n",
       "  <tbody>\n",
       "    <tr>\n",
       "      <th>0</th>\n",
       "      <td>r1</td>\n",
       "      <td>00</td>\n",
       "      <td>01</td>\n",
       "      <td>02</td>\n",
       "    </tr>\n",
       "    <tr>\n",
       "      <th>1</th>\n",
       "      <td>r2</td>\n",
       "      <td>10</td>\n",
       "      <td>11</td>\n",
       "      <td>12</td>\n",
       "    </tr>\n",
       "    <tr>\n",
       "      <th>2</th>\n",
       "      <td>r3</td>\n",
       "      <td>20</td>\n",
       "      <td>21</td>\n",
       "      <td>22</td>\n",
       "    </tr>\n",
       "  </tbody>\n",
       "</table>\n",
       "</div>"
      ],
      "text/plain": [
       "  row_label   A   B   C\n",
       "0        r1  00  01  02\n",
       "1        r2  10  11  12\n",
       "2        r3  20  21  22"
      ]
     },
     "execution_count": 161,
     "metadata": {},
     "output_type": "execute_result"
    }
   ],
   "source": [
    "df = pd.DataFrame([['r1','00','01','02'],['r2','10','11','12'],['r3','20','21','22']],columns=['row_label','A','B','C'])\n",
    "print(id(df))\n",
    "df"
   ]
  },
  {
   "cell_type": "code",
   "execution_count": 162,
   "metadata": {},
   "outputs": [
    {
     "name": "stdout",
     "output_type": "stream",
     "text": [
      "2291379677320\n"
     ]
    }
   ],
   "source": [
    "df1 = df\n",
    "print(id(df1))"
   ]
  },
  {
   "cell_type": "markdown",
   "metadata": {},
   "source": [
    "<h2>Getting historical stock prices from Yahoo financs</h2>\n",
    "Usage: DataReader(ticker,source,startdate,enddate)<br>\n",
    "Unfortunately, the Google finance datareader has stopped working because of the charge of Google's policy"
   ]
  },
  {
   "cell_type": "code",
   "execution_count": null,
   "metadata": {},
   "outputs": [],
   "source": []
  },
  {
   "cell_type": "code",
   "execution_count": null,
   "metadata": {},
   "outputs": [],
   "source": []
  },
  {
   "cell_type": "code",
   "execution_count": 163,
   "metadata": {},
   "outputs": [
    {
     "name": "stdout",
     "output_type": "stream",
     "text": [
      "2019-01-03 00:00:00 2021-05-20 09:23:54.071740\n"
     ]
    }
   ],
   "source": [
    "from pandas_datareader import data\n",
    "import datetime as dt\n",
    "start=dt.datetime(2019, 1, 3)\n",
    "end=dt.datetime.today()\n",
    "\n",
    "\n",
    "print(start,end)\n",
    "\n",
    "\n",
    "df = data.DataReader('IBM', 'yahoo', start, end)  # input: ticker (company's symbol), source: could be google, world bank..., \n",
    "                                                  #start date and end date\n",
    "\n"
   ]
  },
  {
   "cell_type": "code",
   "execution_count": 164,
   "metadata": {},
   "outputs": [
    {
     "data": {
      "text/html": [
       "<div>\n",
       "<style scoped>\n",
       "    .dataframe tbody tr th:only-of-type {\n",
       "        vertical-align: middle;\n",
       "    }\n",
       "\n",
       "    .dataframe tbody tr th {\n",
       "        vertical-align: top;\n",
       "    }\n",
       "\n",
       "    .dataframe thead th {\n",
       "        text-align: right;\n",
       "    }\n",
       "</style>\n",
       "<table border=\"1\" class=\"dataframe\">\n",
       "  <thead>\n",
       "    <tr style=\"text-align: right;\">\n",
       "      <th></th>\n",
       "      <th>High</th>\n",
       "      <th>Low</th>\n",
       "      <th>Open</th>\n",
       "      <th>Close</th>\n",
       "      <th>Volume</th>\n",
       "      <th>Adj Close</th>\n",
       "    </tr>\n",
       "    <tr>\n",
       "      <th>Date</th>\n",
       "      <th></th>\n",
       "      <th></th>\n",
       "      <th></th>\n",
       "      <th></th>\n",
       "      <th></th>\n",
       "      <th></th>\n",
       "    </tr>\n",
       "  </thead>\n",
       "  <tbody>\n",
       "    <tr>\n",
       "      <th>2019-01-03</th>\n",
       "      <td>114.879997</td>\n",
       "      <td>112.690002</td>\n",
       "      <td>114.529999</td>\n",
       "      <td>112.910004</td>\n",
       "      <td>4346700.0</td>\n",
       "      <td>99.907280</td>\n",
       "    </tr>\n",
       "    <tr>\n",
       "      <th>2019-01-04</th>\n",
       "      <td>117.489998</td>\n",
       "      <td>114.440002</td>\n",
       "      <td>114.910004</td>\n",
       "      <td>117.320000</td>\n",
       "      <td>4477800.0</td>\n",
       "      <td>103.809410</td>\n",
       "    </tr>\n",
       "    <tr>\n",
       "      <th>2019-01-07</th>\n",
       "      <td>118.830002</td>\n",
       "      <td>116.669998</td>\n",
       "      <td>117.500000</td>\n",
       "      <td>118.150002</td>\n",
       "      <td>3751200.0</td>\n",
       "      <td>104.543831</td>\n",
       "    </tr>\n",
       "    <tr>\n",
       "      <th>2019-01-08</th>\n",
       "      <td>120.570000</td>\n",
       "      <td>118.980003</td>\n",
       "      <td>119.660004</td>\n",
       "      <td>119.830002</td>\n",
       "      <td>4763600.0</td>\n",
       "      <td>106.030357</td>\n",
       "    </tr>\n",
       "    <tr>\n",
       "      <th>2019-01-09</th>\n",
       "      <td>121.400002</td>\n",
       "      <td>119.870003</td>\n",
       "      <td>120.910004</td>\n",
       "      <td>120.690002</td>\n",
       "      <td>3633700.0</td>\n",
       "      <td>106.791328</td>\n",
       "    </tr>\n",
       "    <tr>\n",
       "      <th>...</th>\n",
       "      <td>...</td>\n",
       "      <td>...</td>\n",
       "      <td>...</td>\n",
       "      <td>...</td>\n",
       "      <td>...</td>\n",
       "      <td>...</td>\n",
       "    </tr>\n",
       "    <tr>\n",
       "      <th>2021-05-13</th>\n",
       "      <td>144.899994</td>\n",
       "      <td>141.279999</td>\n",
       "      <td>141.449997</td>\n",
       "      <td>144.169998</td>\n",
       "      <td>4595800.0</td>\n",
       "      <td>144.169998</td>\n",
       "    </tr>\n",
       "    <tr>\n",
       "      <th>2021-05-14</th>\n",
       "      <td>145.690002</td>\n",
       "      <td>143.960007</td>\n",
       "      <td>145.110001</td>\n",
       "      <td>144.679993</td>\n",
       "      <td>2746900.0</td>\n",
       "      <td>144.679993</td>\n",
       "    </tr>\n",
       "    <tr>\n",
       "      <th>2021-05-17</th>\n",
       "      <td>145.800003</td>\n",
       "      <td>144.330002</td>\n",
       "      <td>144.440002</td>\n",
       "      <td>145.110001</td>\n",
       "      <td>4275100.0</td>\n",
       "      <td>145.110001</td>\n",
       "    </tr>\n",
       "    <tr>\n",
       "      <th>2021-05-18</th>\n",
       "      <td>145.300003</td>\n",
       "      <td>143.229996</td>\n",
       "      <td>144.779999</td>\n",
       "      <td>143.910004</td>\n",
       "      <td>3824100.0</td>\n",
       "      <td>143.910004</td>\n",
       "    </tr>\n",
       "    <tr>\n",
       "      <th>2021-05-19</th>\n",
       "      <td>143.199997</td>\n",
       "      <td>140.919998</td>\n",
       "      <td>142.320007</td>\n",
       "      <td>143.190002</td>\n",
       "      <td>4300700.0</td>\n",
       "      <td>143.190002</td>\n",
       "    </tr>\n",
       "  </tbody>\n",
       "</table>\n",
       "<p>599 rows × 6 columns</p>\n",
       "</div>"
      ],
      "text/plain": [
       "                  High         Low        Open       Close     Volume  \\\n",
       "Date                                                                    \n",
       "2019-01-03  114.879997  112.690002  114.529999  112.910004  4346700.0   \n",
       "2019-01-04  117.489998  114.440002  114.910004  117.320000  4477800.0   \n",
       "2019-01-07  118.830002  116.669998  117.500000  118.150002  3751200.0   \n",
       "2019-01-08  120.570000  118.980003  119.660004  119.830002  4763600.0   \n",
       "2019-01-09  121.400002  119.870003  120.910004  120.690002  3633700.0   \n",
       "...                ...         ...         ...         ...        ...   \n",
       "2021-05-13  144.899994  141.279999  141.449997  144.169998  4595800.0   \n",
       "2021-05-14  145.690002  143.960007  145.110001  144.679993  2746900.0   \n",
       "2021-05-17  145.800003  144.330002  144.440002  145.110001  4275100.0   \n",
       "2021-05-18  145.300003  143.229996  144.779999  143.910004  3824100.0   \n",
       "2021-05-19  143.199997  140.919998  142.320007  143.190002  4300700.0   \n",
       "\n",
       "             Adj Close  \n",
       "Date                    \n",
       "2019-01-03   99.907280  \n",
       "2019-01-04  103.809410  \n",
       "2019-01-07  104.543831  \n",
       "2019-01-08  106.030357  \n",
       "2019-01-09  106.791328  \n",
       "...                ...  \n",
       "2021-05-13  144.169998  \n",
       "2021-05-14  144.679993  \n",
       "2021-05-17  145.110001  \n",
       "2021-05-18  143.910004  \n",
       "2021-05-19  143.190002  \n",
       "\n",
       "[599 rows x 6 columns]"
      ]
     },
     "execution_count": 164,
     "metadata": {},
     "output_type": "execute_result"
    }
   ],
   "source": [
    "df"
   ]
  },
  {
   "cell_type": "code",
   "execution_count": 165,
   "metadata": {},
   "outputs": [
    {
     "data": {
      "text/plain": [
       "(599, 6)"
      ]
     },
     "execution_count": 165,
     "metadata": {},
     "output_type": "execute_result"
    }
   ],
   "source": [
    "df.shape"
   ]
  },
  {
   "cell_type": "code",
   "execution_count": 166,
   "metadata": {},
   "outputs": [
    {
     "data": {
      "text/plain": [
       "2291375750856"
      ]
     },
     "execution_count": 166,
     "metadata": {},
     "output_type": "execute_result"
    }
   ],
   "source": [
    "id(df)"
   ]
  },
  {
   "cell_type": "code",
   "execution_count": 167,
   "metadata": {},
   "outputs": [
    {
     "data": {
      "text/plain": [
       "2291373497800"
      ]
     },
     "execution_count": 167,
     "metadata": {},
     "output_type": "execute_result"
    }
   ],
   "source": [
    "id(df.reset_index())"
   ]
  },
  {
   "cell_type": "code",
   "execution_count": 168,
   "metadata": {},
   "outputs": [],
   "source": [
    "df = df.reset_index()"
   ]
  },
  {
   "cell_type": "code",
   "execution_count": 169,
   "metadata": {},
   "outputs": [
    {
     "data": {
      "text/html": [
       "<div>\n",
       "<style scoped>\n",
       "    .dataframe tbody tr th:only-of-type {\n",
       "        vertical-align: middle;\n",
       "    }\n",
       "\n",
       "    .dataframe tbody tr th {\n",
       "        vertical-align: top;\n",
       "    }\n",
       "\n",
       "    .dataframe thead th {\n",
       "        text-align: right;\n",
       "    }\n",
       "</style>\n",
       "<table border=\"1\" class=\"dataframe\">\n",
       "  <thead>\n",
       "    <tr style=\"text-align: right;\">\n",
       "      <th></th>\n",
       "      <th>Date</th>\n",
       "      <th>High</th>\n",
       "      <th>Low</th>\n",
       "      <th>Open</th>\n",
       "      <th>Close</th>\n",
       "      <th>Volume</th>\n",
       "      <th>Adj Close</th>\n",
       "    </tr>\n",
       "  </thead>\n",
       "  <tbody>\n",
       "    <tr>\n",
       "      <th>0</th>\n",
       "      <td>2019-01-03</td>\n",
       "      <td>114.879997</td>\n",
       "      <td>112.690002</td>\n",
       "      <td>114.529999</td>\n",
       "      <td>112.910004</td>\n",
       "      <td>4346700.0</td>\n",
       "      <td>99.907280</td>\n",
       "    </tr>\n",
       "    <tr>\n",
       "      <th>1</th>\n",
       "      <td>2019-01-04</td>\n",
       "      <td>117.489998</td>\n",
       "      <td>114.440002</td>\n",
       "      <td>114.910004</td>\n",
       "      <td>117.320000</td>\n",
       "      <td>4477800.0</td>\n",
       "      <td>103.809410</td>\n",
       "    </tr>\n",
       "    <tr>\n",
       "      <th>2</th>\n",
       "      <td>2019-01-07</td>\n",
       "      <td>118.830002</td>\n",
       "      <td>116.669998</td>\n",
       "      <td>117.500000</td>\n",
       "      <td>118.150002</td>\n",
       "      <td>3751200.0</td>\n",
       "      <td>104.543831</td>\n",
       "    </tr>\n",
       "    <tr>\n",
       "      <th>3</th>\n",
       "      <td>2019-01-08</td>\n",
       "      <td>120.570000</td>\n",
       "      <td>118.980003</td>\n",
       "      <td>119.660004</td>\n",
       "      <td>119.830002</td>\n",
       "      <td>4763600.0</td>\n",
       "      <td>106.030357</td>\n",
       "    </tr>\n",
       "    <tr>\n",
       "      <th>4</th>\n",
       "      <td>2019-01-09</td>\n",
       "      <td>121.400002</td>\n",
       "      <td>119.870003</td>\n",
       "      <td>120.910004</td>\n",
       "      <td>120.690002</td>\n",
       "      <td>3633700.0</td>\n",
       "      <td>106.791328</td>\n",
       "    </tr>\n",
       "    <tr>\n",
       "      <th>...</th>\n",
       "      <td>...</td>\n",
       "      <td>...</td>\n",
       "      <td>...</td>\n",
       "      <td>...</td>\n",
       "      <td>...</td>\n",
       "      <td>...</td>\n",
       "      <td>...</td>\n",
       "    </tr>\n",
       "    <tr>\n",
       "      <th>594</th>\n",
       "      <td>2021-05-13</td>\n",
       "      <td>144.899994</td>\n",
       "      <td>141.279999</td>\n",
       "      <td>141.449997</td>\n",
       "      <td>144.169998</td>\n",
       "      <td>4595800.0</td>\n",
       "      <td>144.169998</td>\n",
       "    </tr>\n",
       "    <tr>\n",
       "      <th>595</th>\n",
       "      <td>2021-05-14</td>\n",
       "      <td>145.690002</td>\n",
       "      <td>143.960007</td>\n",
       "      <td>145.110001</td>\n",
       "      <td>144.679993</td>\n",
       "      <td>2746900.0</td>\n",
       "      <td>144.679993</td>\n",
       "    </tr>\n",
       "    <tr>\n",
       "      <th>596</th>\n",
       "      <td>2021-05-17</td>\n",
       "      <td>145.800003</td>\n",
       "      <td>144.330002</td>\n",
       "      <td>144.440002</td>\n",
       "      <td>145.110001</td>\n",
       "      <td>4275100.0</td>\n",
       "      <td>145.110001</td>\n",
       "    </tr>\n",
       "    <tr>\n",
       "      <th>597</th>\n",
       "      <td>2021-05-18</td>\n",
       "      <td>145.300003</td>\n",
       "      <td>143.229996</td>\n",
       "      <td>144.779999</td>\n",
       "      <td>143.910004</td>\n",
       "      <td>3824100.0</td>\n",
       "      <td>143.910004</td>\n",
       "    </tr>\n",
       "    <tr>\n",
       "      <th>598</th>\n",
       "      <td>2021-05-19</td>\n",
       "      <td>143.199997</td>\n",
       "      <td>140.919998</td>\n",
       "      <td>142.320007</td>\n",
       "      <td>143.190002</td>\n",
       "      <td>4300700.0</td>\n",
       "      <td>143.190002</td>\n",
       "    </tr>\n",
       "  </tbody>\n",
       "</table>\n",
       "<p>599 rows × 7 columns</p>\n",
       "</div>"
      ],
      "text/plain": [
       "          Date        High         Low        Open       Close     Volume  \\\n",
       "0   2019-01-03  114.879997  112.690002  114.529999  112.910004  4346700.0   \n",
       "1   2019-01-04  117.489998  114.440002  114.910004  117.320000  4477800.0   \n",
       "2   2019-01-07  118.830002  116.669998  117.500000  118.150002  3751200.0   \n",
       "3   2019-01-08  120.570000  118.980003  119.660004  119.830002  4763600.0   \n",
       "4   2019-01-09  121.400002  119.870003  120.910004  120.690002  3633700.0   \n",
       "..         ...         ...         ...         ...         ...        ...   \n",
       "594 2021-05-13  144.899994  141.279999  141.449997  144.169998  4595800.0   \n",
       "595 2021-05-14  145.690002  143.960007  145.110001  144.679993  2746900.0   \n",
       "596 2021-05-17  145.800003  144.330002  144.440002  145.110001  4275100.0   \n",
       "597 2021-05-18  145.300003  143.229996  144.779999  143.910004  3824100.0   \n",
       "598 2021-05-19  143.199997  140.919998  142.320007  143.190002  4300700.0   \n",
       "\n",
       "      Adj Close  \n",
       "0     99.907280  \n",
       "1    103.809410  \n",
       "2    104.543831  \n",
       "3    106.030357  \n",
       "4    106.791328  \n",
       "..          ...  \n",
       "594  144.169998  \n",
       "595  144.679993  \n",
       "596  145.110001  \n",
       "597  143.910004  \n",
       "598  143.190002  \n",
       "\n",
       "[599 rows x 7 columns]"
      ]
     },
     "execution_count": 169,
     "metadata": {},
     "output_type": "execute_result"
    }
   ],
   "source": [
    "df"
   ]
  },
  {
   "cell_type": "code",
   "execution_count": 170,
   "metadata": {},
   "outputs": [
    {
     "data": {
      "text/html": [
       "<div>\n",
       "<style scoped>\n",
       "    .dataframe tbody tr th:only-of-type {\n",
       "        vertical-align: middle;\n",
       "    }\n",
       "\n",
       "    .dataframe tbody tr th {\n",
       "        vertical-align: top;\n",
       "    }\n",
       "\n",
       "    .dataframe thead th {\n",
       "        text-align: right;\n",
       "    }\n",
       "</style>\n",
       "<table border=\"1\" class=\"dataframe\">\n",
       "  <thead>\n",
       "    <tr style=\"text-align: right;\">\n",
       "      <th></th>\n",
       "      <th>Date</th>\n",
       "      <th>High</th>\n",
       "      <th>Low</th>\n",
       "      <th>Open</th>\n",
       "      <th>Close</th>\n",
       "      <th>Volume</th>\n",
       "      <th>Adj Close</th>\n",
       "    </tr>\n",
       "  </thead>\n",
       "  <tbody>\n",
       "    <tr>\n",
       "      <th>13</th>\n",
       "      <td>2019-01-23</td>\n",
       "      <td>135.000000</td>\n",
       "      <td>130.309998</td>\n",
       "      <td>131.369995</td>\n",
       "      <td>132.889999</td>\n",
       "      <td>22063700.0</td>\n",
       "      <td>117.586357</td>\n",
       "    </tr>\n",
       "    <tr>\n",
       "      <th>15</th>\n",
       "      <td>2019-01-25</td>\n",
       "      <td>134.440002</td>\n",
       "      <td>132.429993</td>\n",
       "      <td>132.869995</td>\n",
       "      <td>133.970001</td>\n",
       "      <td>5707400.0</td>\n",
       "      <td>118.542007</td>\n",
       "    </tr>\n",
       "    <tr>\n",
       "      <th>16</th>\n",
       "      <td>2019-01-28</td>\n",
       "      <td>134.809998</td>\n",
       "      <td>132.580002</td>\n",
       "      <td>133.100006</td>\n",
       "      <td>134.270004</td>\n",
       "      <td>5357700.0</td>\n",
       "      <td>118.807472</td>\n",
       "    </tr>\n",
       "    <tr>\n",
       "      <th>17</th>\n",
       "      <td>2019-01-29</td>\n",
       "      <td>135.410004</td>\n",
       "      <td>133.600006</td>\n",
       "      <td>134.289993</td>\n",
       "      <td>134.330002</td>\n",
       "      <td>5037100.0</td>\n",
       "      <td>118.860527</td>\n",
       "    </tr>\n",
       "    <tr>\n",
       "      <th>18</th>\n",
       "      <td>2019-01-30</td>\n",
       "      <td>135.029999</td>\n",
       "      <td>133.250000</td>\n",
       "      <td>134.000000</td>\n",
       "      <td>134.380005</td>\n",
       "      <td>4500900.0</td>\n",
       "      <td>118.904778</td>\n",
       "    </tr>\n",
       "    <tr>\n",
       "      <th>...</th>\n",
       "      <td>...</td>\n",
       "      <td>...</td>\n",
       "      <td>...</td>\n",
       "      <td>...</td>\n",
       "      <td>...</td>\n",
       "      <td>...</td>\n",
       "      <td>...</td>\n",
       "    </tr>\n",
       "    <tr>\n",
       "      <th>594</th>\n",
       "      <td>2021-05-13</td>\n",
       "      <td>144.899994</td>\n",
       "      <td>141.279999</td>\n",
       "      <td>141.449997</td>\n",
       "      <td>144.169998</td>\n",
       "      <td>4595800.0</td>\n",
       "      <td>144.169998</td>\n",
       "    </tr>\n",
       "    <tr>\n",
       "      <th>595</th>\n",
       "      <td>2021-05-14</td>\n",
       "      <td>145.690002</td>\n",
       "      <td>143.960007</td>\n",
       "      <td>145.110001</td>\n",
       "      <td>144.679993</td>\n",
       "      <td>2746900.0</td>\n",
       "      <td>144.679993</td>\n",
       "    </tr>\n",
       "    <tr>\n",
       "      <th>596</th>\n",
       "      <td>2021-05-17</td>\n",
       "      <td>145.800003</td>\n",
       "      <td>144.330002</td>\n",
       "      <td>144.440002</td>\n",
       "      <td>145.110001</td>\n",
       "      <td>4275100.0</td>\n",
       "      <td>145.110001</td>\n",
       "    </tr>\n",
       "    <tr>\n",
       "      <th>597</th>\n",
       "      <td>2021-05-18</td>\n",
       "      <td>145.300003</td>\n",
       "      <td>143.229996</td>\n",
       "      <td>144.779999</td>\n",
       "      <td>143.910004</td>\n",
       "      <td>3824100.0</td>\n",
       "      <td>143.910004</td>\n",
       "    </tr>\n",
       "    <tr>\n",
       "      <th>598</th>\n",
       "      <td>2021-05-19</td>\n",
       "      <td>143.199997</td>\n",
       "      <td>140.919998</td>\n",
       "      <td>142.320007</td>\n",
       "      <td>143.190002</td>\n",
       "      <td>4300700.0</td>\n",
       "      <td>143.190002</td>\n",
       "    </tr>\n",
       "  </tbody>\n",
       "</table>\n",
       "<p>296 rows × 7 columns</p>\n",
       "</div>"
      ],
      "text/plain": [
       "          Date        High         Low        Open       Close      Volume  \\\n",
       "13  2019-01-23  135.000000  130.309998  131.369995  132.889999  22063700.0   \n",
       "15  2019-01-25  134.440002  132.429993  132.869995  133.970001   5707400.0   \n",
       "16  2019-01-28  134.809998  132.580002  133.100006  134.270004   5357700.0   \n",
       "17  2019-01-29  135.410004  133.600006  134.289993  134.330002   5037100.0   \n",
       "18  2019-01-30  135.029999  133.250000  134.000000  134.380005   4500900.0   \n",
       "..         ...         ...         ...         ...         ...         ...   \n",
       "594 2021-05-13  144.899994  141.279999  141.449997  144.169998   4595800.0   \n",
       "595 2021-05-14  145.690002  143.960007  145.110001  144.679993   2746900.0   \n",
       "596 2021-05-17  145.800003  144.330002  144.440002  145.110001   4275100.0   \n",
       "597 2021-05-18  145.300003  143.229996  144.779999  143.910004   3824100.0   \n",
       "598 2021-05-19  143.199997  140.919998  142.320007  143.190002   4300700.0   \n",
       "\n",
       "      Adj Close  \n",
       "13   117.586357  \n",
       "15   118.542007  \n",
       "16   118.807472  \n",
       "17   118.860527  \n",
       "18   118.904778  \n",
       "..          ...  \n",
       "594  144.169998  \n",
       "595  144.679993  \n",
       "596  145.110001  \n",
       "597  143.910004  \n",
       "598  143.190002  \n",
       "\n",
       "[296 rows x 7 columns]"
      ]
     },
     "execution_count": 170,
     "metadata": {},
     "output_type": "execute_result"
    }
   ],
   "source": [
    "# myDate = dt.datetime(2020, 1, 1)\n",
    "# df[df['Date']>myDate]\n",
    "\n",
    "df[df['High']>134]\n"
   ]
  },
  {
   "cell_type": "code",
   "execution_count": 171,
   "metadata": {},
   "outputs": [
    {
     "data": {
      "text/plain": [
       "0      False\n",
       "1      False\n",
       "2      False\n",
       "3      False\n",
       "4      False\n",
       "       ...  \n",
       "594     True\n",
       "595     True\n",
       "596     True\n",
       "597     True\n",
       "598     True\n",
       "Name: High, Length: 599, dtype: bool"
      ]
     },
     "execution_count": 171,
     "metadata": {},
     "output_type": "execute_result"
    }
   ],
   "source": [
    "df['High']>134"
   ]
  },
  {
   "cell_type": "code",
   "execution_count": 172,
   "metadata": {},
   "outputs": [
    {
     "data": {
      "text/plain": [
       "(array([ 13,  15,  16,  17,  18,  19,  20,  21,  22,  23,  24,  26,  27,\n",
       "         28,  29,  30,  31,  32,  33,  34,  35,  36,  37,  38,  39,  40,\n",
       "         41,  42,  43,  44,  45,  46,  47,  48,  49,  50,  51,  52,  53,\n",
       "         54,  55,  56,  57,  58,  59,  60,  61,  62,  63,  64,  65,  66,\n",
       "         67,  68,  69,  70,  71,  72,  73,  74,  75,  76,  77,  78,  79,\n",
       "         80,  81,  82,  83,  84,  85,  86,  87,  88,  90,  91,  92,  93,\n",
       "         94,  95,  96,  97,  98, 107, 108, 109, 110, 111, 112, 113, 114,\n",
       "        115, 116, 117, 118, 119, 120, 121, 122, 123, 124, 125, 126, 127,\n",
       "        128, 129, 130, 131, 132, 133, 134, 135, 136, 137, 138, 139, 140,\n",
       "        141, 142, 143, 144, 145, 146, 147, 148, 149, 150, 151, 152, 153,\n",
       "        154, 156, 157, 158, 159, 160, 161, 165, 166, 167, 168, 169, 170,\n",
       "        171, 172, 173, 174, 175, 176, 177, 178, 179, 180, 181, 182, 183,\n",
       "        184, 185, 186, 187, 188, 189, 190, 191, 192, 193, 194, 195, 196,\n",
       "        197, 198, 199, 200, 202, 203, 204, 205, 206, 207, 208, 209, 210,\n",
       "        211, 212, 213, 214, 215, 216, 217, 218, 219, 220, 221, 222, 223,\n",
       "        224, 225, 226, 227, 228, 229, 230, 235, 236, 237, 238, 239, 240,\n",
       "        241, 242, 243, 244, 245, 246, 247, 248, 249, 250, 251, 252, 253,\n",
       "        254, 255, 256, 257, 258, 259, 260, 261, 262, 263, 264, 265, 266,\n",
       "        267, 268, 269, 270, 271, 272, 273, 274, 275, 276, 277, 278, 279,\n",
       "        280, 281, 282, 283, 284, 285, 286, 287, 288, 289, 291, 292, 293,\n",
       "        358, 359, 445, 561, 562, 563, 564, 566, 567, 568, 569, 570, 571,\n",
       "        575, 577, 578, 579, 580, 581, 582, 583, 584, 585, 586, 587, 588,\n",
       "        589, 590, 591, 592, 593, 594, 595, 596, 597, 598], dtype=int64),)"
      ]
     },
     "execution_count": 172,
     "metadata": {},
     "output_type": "execute_result"
    }
   ],
   "source": [
    "np.where(df['High']>134)"
   ]
  },
  {
   "cell_type": "code",
   "execution_count": 173,
   "metadata": {},
   "outputs": [
    {
     "data": {
      "text/plain": [
       "2291379861640"
      ]
     },
     "execution_count": 173,
     "metadata": {},
     "output_type": "execute_result"
    }
   ],
   "source": [
    "id(df.iloc[np.where(df['High']>134)])"
   ]
  },
  {
   "cell_type": "code",
   "execution_count": 174,
   "metadata": {},
   "outputs": [
    {
     "data": {
      "text/plain": [
       "2291367064968"
      ]
     },
     "execution_count": 174,
     "metadata": {},
     "output_type": "execute_result"
    }
   ],
   "source": [
    "id(df)"
   ]
  },
  {
   "cell_type": "code",
   "execution_count": 175,
   "metadata": {},
   "outputs": [
    {
     "data": {
      "text/plain": [
       "(599, 7)"
      ]
     },
     "execution_count": 175,
     "metadata": {},
     "output_type": "execute_result"
    }
   ],
   "source": [
    "df.shape"
   ]
  },
  {
   "cell_type": "markdown",
   "metadata": {},
   "source": [
    "<h2>Datareader documentation</h2>\n",
    "http://pandas-datareader.readthedocs.io/en/latest/</h2>"
   ]
  },
  {
   "cell_type": "markdown",
   "metadata": {},
   "source": [
    "<h3>Working with a timeseries data frame</h3>\n",
    "<li>The data is organized by time with the index serving as the timeline\n"
   ]
  },
  {
   "cell_type": "markdown",
   "metadata": {},
   "source": [
    "<h4>Creating new columns</h4>\n",
    "<li>Add a column to a dataframe\n",
    "<li>Base the elements of the column on some combination of data in the existing columns\n",
    "<h4>Example: Number of Days that the stock closed higher than it opened\n",
    "<li>We'll create a new column with the header \"UP\"\n",
    "<li>And use np.where to decide what to put in the column"
   ]
  },
  {
   "cell_type": "code",
   "execution_count": 176,
   "metadata": {},
   "outputs": [
    {
     "data": {
      "text/plain": [
       "0      False\n",
       "1       True\n",
       "2       True\n",
       "3       True\n",
       "4      False\n",
       "       ...  \n",
       "594     True\n",
       "595    False\n",
       "596     True\n",
       "597    False\n",
       "598     True\n",
       "Length: 599, dtype: bool"
      ]
     },
     "execution_count": 176,
     "metadata": {},
     "output_type": "execute_result"
    }
   ],
   "source": [
    "df['Close']>df['Open']"
   ]
  },
  {
   "cell_type": "code",
   "execution_count": 177,
   "metadata": {
    "scrolled": true
   },
   "outputs": [
    {
     "data": {
      "text/plain": [
       "array([0, 1, 1, 1, 0, 1, 0, 0, 1, 1, 1, 1, 0, 1, 0, 1, 1, 1, 1, 0, 0, 1,\n",
       "       1, 1, 0, 1, 0, 1, 1, 0, 1, 1, 0, 1, 1, 0, 1, 0, 0, 0, 0, 0, 0, 0,\n",
       "       1, 1, 0, 1, 1, 1, 1, 0, 0, 1, 0, 1, 1, 0, 1, 1, 1, 0, 0, 0, 0, 1,\n",
       "       0, 1, 0, 1, 0, 1, 1, 1, 0, 1, 0, 0, 1, 0, 1, 1, 0, 1, 1, 0, 1, 1,\n",
       "       1, 0, 1, 1, 1, 0, 1, 1, 1, 0, 0, 0, 0, 0, 0, 1, 1, 0, 1, 1, 1, 1,\n",
       "       0, 1, 0, 0, 1, 1, 0, 1, 1, 0, 0, 0, 0, 1, 1, 1, 1, 0, 0, 1, 1, 1,\n",
       "       1, 1, 0, 1, 0, 0, 0, 0, 1, 1, 0, 0, 0, 1, 0, 0, 0, 1, 1, 0, 0, 1,\n",
       "       0, 1, 1, 1, 0, 0, 0, 0, 0, 0, 1, 1, 0, 0, 1, 1, 0, 1, 1, 0, 0, 0,\n",
       "       0, 0, 1, 1, 0, 1, 0, 1, 1, 0, 1, 0, 0, 1, 1, 0, 0, 0, 1, 0, 0, 1,\n",
       "       0, 0, 0, 0, 1, 1, 0, 1, 0, 0, 1, 0, 1, 1, 1, 1, 0, 1, 0, 0, 0, 0,\n",
       "       1, 1, 0, 0, 1, 1, 1, 0, 0, 1, 0, 1, 0, 0, 1, 1, 0, 0, 1, 0, 0, 0,\n",
       "       0, 1, 0, 0, 0, 0, 1, 0, 1, 1, 1, 1, 1, 1, 1, 0, 1, 0, 1, 1, 1, 1,\n",
       "       1, 0, 0, 1, 1, 0, 1, 1, 1, 1, 1, 0, 0, 1, 0, 1, 0, 0, 1, 0, 1, 0,\n",
       "       1, 0, 0, 0, 1, 1, 0, 1, 0, 1, 0, 1, 0, 0, 0, 1, 1, 1, 0, 0, 1, 1,\n",
       "       1, 1, 0, 1, 0, 0, 1, 0, 1, 0, 1, 1, 0, 1, 0, 0, 1, 1, 1, 0, 1, 1,\n",
       "       1, 0, 0, 0, 0, 1, 0, 0, 0, 1, 1, 0, 0, 1, 1, 1, 0, 1, 0, 0, 1, 1,\n",
       "       0, 1, 1, 1, 1, 1, 0, 1, 0, 0, 0, 1, 1, 1, 0, 1, 0, 0, 0, 0, 1, 0,\n",
       "       1, 1, 0, 1, 0, 0, 0, 0, 1, 0, 1, 1, 1, 1, 1, 0, 1, 0, 0, 1, 0, 1,\n",
       "       0, 1, 1, 1, 0, 1, 1, 1, 0, 0, 0, 1, 0, 0, 0, 0, 1, 1, 0, 0, 1, 1,\n",
       "       0, 1, 1, 0, 0, 0, 1, 0, 1, 0, 0, 1, 1, 0, 0, 1, 0, 0, 1, 1, 0, 1,\n",
       "       0, 1, 1, 0, 1, 1, 0, 0, 0, 1, 1, 1, 0, 0, 0, 1, 0, 0, 0, 0, 1, 1,\n",
       "       1, 1, 0, 1, 0, 0, 1, 0, 0, 1, 1, 1, 0, 1, 0, 1, 1, 1, 1, 0, 0, 1,\n",
       "       0, 1, 0, 1, 1, 0, 1, 0, 1, 0, 0, 1, 0, 1, 1, 0, 0, 0, 1, 1, 0, 1,\n",
       "       1, 0, 0, 1, 1, 0, 1, 1, 0, 1, 1, 0, 0, 1, 1, 0, 0, 1, 1, 1, 1, 1,\n",
       "       1, 1, 0, 0, 0, 0, 1, 1, 0, 1, 0, 1, 0, 0, 1, 0, 1, 0, 1, 1, 0, 1,\n",
       "       0, 1, 1, 0, 1, 1, 0, 1, 1, 0, 1, 1, 0, 0, 0, 0, 1, 0, 1, 1, 1, 0,\n",
       "       0, 1, 0, 1, 0, 1, 1, 0, 1, 0, 1, 1, 1, 0, 1, 1, 0, 1, 0, 1, 0, 0,\n",
       "       1, 0, 1, 0, 1])"
      ]
     },
     "execution_count": 177,
     "metadata": {},
     "output_type": "execute_result"
    }
   ],
   "source": [
    "np.where(df['Close']>df['Open'],1,0)"
   ]
  },
  {
   "cell_type": "code",
   "execution_count": 179,
   "metadata": {},
   "outputs": [],
   "source": [
    "df['DOWN']= df.apply(lambda row: 1 if row['Close']<row['Open'] else 0 ,axis=1)"
   ]
  },
  {
   "cell_type": "code",
   "execution_count": 286,
   "metadata": {},
   "outputs": [
    {
     "data": {
      "text/html": [
       "<div>\n",
       "<style scoped>\n",
       "    .dataframe tbody tr th:only-of-type {\n",
       "        vertical-align: middle;\n",
       "    }\n",
       "\n",
       "    .dataframe tbody tr th {\n",
       "        vertical-align: top;\n",
       "    }\n",
       "\n",
       "    .dataframe thead th {\n",
       "        text-align: right;\n",
       "    }\n",
       "</style>\n",
       "<table border=\"1\" class=\"dataframe\">\n",
       "  <thead>\n",
       "    <tr style=\"text-align: right;\">\n",
       "      <th></th>\n",
       "      <th>Date</th>\n",
       "      <th>High</th>\n",
       "      <th>Low</th>\n",
       "      <th>Open</th>\n",
       "      <th>Close</th>\n",
       "      <th>Volume</th>\n",
       "      <th>Adj Close</th>\n",
       "      <th>DOWN</th>\n",
       "      <th>UP</th>\n",
       "      <th>Low_prev</th>\n",
       "      <th>Low_change</th>\n",
       "    </tr>\n",
       "  </thead>\n",
       "  <tbody>\n",
       "    <tr>\n",
       "      <th>0</th>\n",
       "      <td>2019-01-03</td>\n",
       "      <td>114.879997</td>\n",
       "      <td>112.690002</td>\n",
       "      <td>114.529999</td>\n",
       "      <td>112.910004</td>\n",
       "      <td>4346700.0</td>\n",
       "      <td>99.907280</td>\n",
       "      <td>1</td>\n",
       "      <td>0</td>\n",
       "      <td>NaN</td>\n",
       "      <td>NaN</td>\n",
       "    </tr>\n",
       "    <tr>\n",
       "      <th>1</th>\n",
       "      <td>2019-01-04</td>\n",
       "      <td>117.489998</td>\n",
       "      <td>114.440002</td>\n",
       "      <td>114.910004</td>\n",
       "      <td>117.320000</td>\n",
       "      <td>4477800.0</td>\n",
       "      <td>103.809410</td>\n",
       "      <td>0</td>\n",
       "      <td>1</td>\n",
       "      <td>112.690002</td>\n",
       "      <td>0.015529</td>\n",
       "    </tr>\n",
       "    <tr>\n",
       "      <th>2</th>\n",
       "      <td>2019-01-07</td>\n",
       "      <td>118.830002</td>\n",
       "      <td>116.669998</td>\n",
       "      <td>117.500000</td>\n",
       "      <td>118.150002</td>\n",
       "      <td>3751200.0</td>\n",
       "      <td>104.543831</td>\n",
       "      <td>0</td>\n",
       "      <td>1</td>\n",
       "      <td>114.440002</td>\n",
       "      <td>0.019486</td>\n",
       "    </tr>\n",
       "    <tr>\n",
       "      <th>3</th>\n",
       "      <td>2019-01-08</td>\n",
       "      <td>120.570000</td>\n",
       "      <td>118.980003</td>\n",
       "      <td>119.660004</td>\n",
       "      <td>119.830002</td>\n",
       "      <td>4763600.0</td>\n",
       "      <td>106.030357</td>\n",
       "      <td>0</td>\n",
       "      <td>1</td>\n",
       "      <td>116.669998</td>\n",
       "      <td>0.019799</td>\n",
       "    </tr>\n",
       "    <tr>\n",
       "      <th>4</th>\n",
       "      <td>2019-01-09</td>\n",
       "      <td>121.400002</td>\n",
       "      <td>119.870003</td>\n",
       "      <td>120.910004</td>\n",
       "      <td>120.690002</td>\n",
       "      <td>3633700.0</td>\n",
       "      <td>106.791328</td>\n",
       "      <td>1</td>\n",
       "      <td>0</td>\n",
       "      <td>118.980003</td>\n",
       "      <td>0.007480</td>\n",
       "    </tr>\n",
       "    <tr>\n",
       "      <th>...</th>\n",
       "      <td>...</td>\n",
       "      <td>...</td>\n",
       "      <td>...</td>\n",
       "      <td>...</td>\n",
       "      <td>...</td>\n",
       "      <td>...</td>\n",
       "      <td>...</td>\n",
       "      <td>...</td>\n",
       "      <td>...</td>\n",
       "      <td>...</td>\n",
       "      <td>...</td>\n",
       "    </tr>\n",
       "    <tr>\n",
       "      <th>594</th>\n",
       "      <td>2021-05-13</td>\n",
       "      <td>144.899994</td>\n",
       "      <td>141.279999</td>\n",
       "      <td>141.449997</td>\n",
       "      <td>144.169998</td>\n",
       "      <td>4595800.0</td>\n",
       "      <td>144.169998</td>\n",
       "      <td>0</td>\n",
       "      <td>1</td>\n",
       "      <td>141.139999</td>\n",
       "      <td>0.000992</td>\n",
       "    </tr>\n",
       "    <tr>\n",
       "      <th>595</th>\n",
       "      <td>2021-05-14</td>\n",
       "      <td>145.690002</td>\n",
       "      <td>143.960007</td>\n",
       "      <td>145.110001</td>\n",
       "      <td>144.679993</td>\n",
       "      <td>2746900.0</td>\n",
       "      <td>144.679993</td>\n",
       "      <td>1</td>\n",
       "      <td>0</td>\n",
       "      <td>141.279999</td>\n",
       "      <td>0.018969</td>\n",
       "    </tr>\n",
       "    <tr>\n",
       "      <th>596</th>\n",
       "      <td>2021-05-17</td>\n",
       "      <td>145.800003</td>\n",
       "      <td>144.330002</td>\n",
       "      <td>144.440002</td>\n",
       "      <td>145.110001</td>\n",
       "      <td>4275100.0</td>\n",
       "      <td>145.110001</td>\n",
       "      <td>0</td>\n",
       "      <td>1</td>\n",
       "      <td>143.960007</td>\n",
       "      <td>0.002570</td>\n",
       "    </tr>\n",
       "    <tr>\n",
       "      <th>597</th>\n",
       "      <td>2021-05-18</td>\n",
       "      <td>145.300003</td>\n",
       "      <td>143.229996</td>\n",
       "      <td>144.779999</td>\n",
       "      <td>143.910004</td>\n",
       "      <td>3824100.0</td>\n",
       "      <td>143.910004</td>\n",
       "      <td>1</td>\n",
       "      <td>0</td>\n",
       "      <td>144.330002</td>\n",
       "      <td>-0.007621</td>\n",
       "    </tr>\n",
       "    <tr>\n",
       "      <th>598</th>\n",
       "      <td>2021-05-19</td>\n",
       "      <td>143.199997</td>\n",
       "      <td>140.919998</td>\n",
       "      <td>142.320007</td>\n",
       "      <td>143.190002</td>\n",
       "      <td>4300700.0</td>\n",
       "      <td>143.190002</td>\n",
       "      <td>0</td>\n",
       "      <td>1</td>\n",
       "      <td>143.229996</td>\n",
       "      <td>-0.016128</td>\n",
       "    </tr>\n",
       "  </tbody>\n",
       "</table>\n",
       "<p>599 rows × 11 columns</p>\n",
       "</div>"
      ],
      "text/plain": [
       "          Date        High         Low        Open       Close     Volume  \\\n",
       "0   2019-01-03  114.879997  112.690002  114.529999  112.910004  4346700.0   \n",
       "1   2019-01-04  117.489998  114.440002  114.910004  117.320000  4477800.0   \n",
       "2   2019-01-07  118.830002  116.669998  117.500000  118.150002  3751200.0   \n",
       "3   2019-01-08  120.570000  118.980003  119.660004  119.830002  4763600.0   \n",
       "4   2019-01-09  121.400002  119.870003  120.910004  120.690002  3633700.0   \n",
       "..         ...         ...         ...         ...         ...        ...   \n",
       "594 2021-05-13  144.899994  141.279999  141.449997  144.169998  4595800.0   \n",
       "595 2021-05-14  145.690002  143.960007  145.110001  144.679993  2746900.0   \n",
       "596 2021-05-17  145.800003  144.330002  144.440002  145.110001  4275100.0   \n",
       "597 2021-05-18  145.300003  143.229996  144.779999  143.910004  3824100.0   \n",
       "598 2021-05-19  143.199997  140.919998  142.320007  143.190002  4300700.0   \n",
       "\n",
       "      Adj Close  DOWN  UP    Low_prev  Low_change  \n",
       "0     99.907280     1   0         NaN         NaN  \n",
       "1    103.809410     0   1  112.690002    0.015529  \n",
       "2    104.543831     0   1  114.440002    0.019486  \n",
       "3    106.030357     0   1  116.669998    0.019799  \n",
       "4    106.791328     1   0  118.980003    0.007480  \n",
       "..          ...   ...  ..         ...         ...  \n",
       "594  144.169998     0   1  141.139999    0.000992  \n",
       "595  144.679993     1   0  141.279999    0.018969  \n",
       "596  145.110001     0   1  143.960007    0.002570  \n",
       "597  143.910004     1   0  144.330002   -0.007621  \n",
       "598  143.190002     0   1  143.229996   -0.016128  \n",
       "\n",
       "[599 rows x 11 columns]"
      ]
     },
     "execution_count": 286,
     "metadata": {},
     "output_type": "execute_result"
    }
   ],
   "source": [
    "#df=df.drop('ones',axis=1)\n",
    "df"
   ]
  },
  {
   "cell_type": "code",
   "execution_count": 180,
   "metadata": {},
   "outputs": [
    {
     "data": {
      "text/html": [
       "<div>\n",
       "<style scoped>\n",
       "    .dataframe tbody tr th:only-of-type {\n",
       "        vertical-align: middle;\n",
       "    }\n",
       "\n",
       "    .dataframe tbody tr th {\n",
       "        vertical-align: top;\n",
       "    }\n",
       "\n",
       "    .dataframe thead th {\n",
       "        text-align: right;\n",
       "    }\n",
       "</style>\n",
       "<table border=\"1\" class=\"dataframe\">\n",
       "  <thead>\n",
       "    <tr style=\"text-align: right;\">\n",
       "      <th></th>\n",
       "      <th>Date</th>\n",
       "      <th>High</th>\n",
       "      <th>Low</th>\n",
       "      <th>Open</th>\n",
       "      <th>Close</th>\n",
       "      <th>Volume</th>\n",
       "      <th>Adj Close</th>\n",
       "      <th>DOWN</th>\n",
       "      <th>UP</th>\n",
       "    </tr>\n",
       "  </thead>\n",
       "  <tbody>\n",
       "    <tr>\n",
       "      <th>0</th>\n",
       "      <td>2019-01-03</td>\n",
       "      <td>114.879997</td>\n",
       "      <td>112.690002</td>\n",
       "      <td>114.529999</td>\n",
       "      <td>112.910004</td>\n",
       "      <td>4346700.0</td>\n",
       "      <td>99.907280</td>\n",
       "      <td>1</td>\n",
       "      <td>0</td>\n",
       "    </tr>\n",
       "    <tr>\n",
       "      <th>1</th>\n",
       "      <td>2019-01-04</td>\n",
       "      <td>117.489998</td>\n",
       "      <td>114.440002</td>\n",
       "      <td>114.910004</td>\n",
       "      <td>117.320000</td>\n",
       "      <td>4477800.0</td>\n",
       "      <td>103.809410</td>\n",
       "      <td>0</td>\n",
       "      <td>1</td>\n",
       "    </tr>\n",
       "    <tr>\n",
       "      <th>2</th>\n",
       "      <td>2019-01-07</td>\n",
       "      <td>118.830002</td>\n",
       "      <td>116.669998</td>\n",
       "      <td>117.500000</td>\n",
       "      <td>118.150002</td>\n",
       "      <td>3751200.0</td>\n",
       "      <td>104.543831</td>\n",
       "      <td>0</td>\n",
       "      <td>1</td>\n",
       "    </tr>\n",
       "    <tr>\n",
       "      <th>3</th>\n",
       "      <td>2019-01-08</td>\n",
       "      <td>120.570000</td>\n",
       "      <td>118.980003</td>\n",
       "      <td>119.660004</td>\n",
       "      <td>119.830002</td>\n",
       "      <td>4763600.0</td>\n",
       "      <td>106.030357</td>\n",
       "      <td>0</td>\n",
       "      <td>1</td>\n",
       "    </tr>\n",
       "    <tr>\n",
       "      <th>4</th>\n",
       "      <td>2019-01-09</td>\n",
       "      <td>121.400002</td>\n",
       "      <td>119.870003</td>\n",
       "      <td>120.910004</td>\n",
       "      <td>120.690002</td>\n",
       "      <td>3633700.0</td>\n",
       "      <td>106.791328</td>\n",
       "      <td>1</td>\n",
       "      <td>0</td>\n",
       "    </tr>\n",
       "    <tr>\n",
       "      <th>...</th>\n",
       "      <td>...</td>\n",
       "      <td>...</td>\n",
       "      <td>...</td>\n",
       "      <td>...</td>\n",
       "      <td>...</td>\n",
       "      <td>...</td>\n",
       "      <td>...</td>\n",
       "      <td>...</td>\n",
       "      <td>...</td>\n",
       "    </tr>\n",
       "    <tr>\n",
       "      <th>594</th>\n",
       "      <td>2021-05-13</td>\n",
       "      <td>144.899994</td>\n",
       "      <td>141.279999</td>\n",
       "      <td>141.449997</td>\n",
       "      <td>144.169998</td>\n",
       "      <td>4595800.0</td>\n",
       "      <td>144.169998</td>\n",
       "      <td>0</td>\n",
       "      <td>1</td>\n",
       "    </tr>\n",
       "    <tr>\n",
       "      <th>595</th>\n",
       "      <td>2021-05-14</td>\n",
       "      <td>145.690002</td>\n",
       "      <td>143.960007</td>\n",
       "      <td>145.110001</td>\n",
       "      <td>144.679993</td>\n",
       "      <td>2746900.0</td>\n",
       "      <td>144.679993</td>\n",
       "      <td>1</td>\n",
       "      <td>0</td>\n",
       "    </tr>\n",
       "    <tr>\n",
       "      <th>596</th>\n",
       "      <td>2021-05-17</td>\n",
       "      <td>145.800003</td>\n",
       "      <td>144.330002</td>\n",
       "      <td>144.440002</td>\n",
       "      <td>145.110001</td>\n",
       "      <td>4275100.0</td>\n",
       "      <td>145.110001</td>\n",
       "      <td>0</td>\n",
       "      <td>1</td>\n",
       "    </tr>\n",
       "    <tr>\n",
       "      <th>597</th>\n",
       "      <td>2021-05-18</td>\n",
       "      <td>145.300003</td>\n",
       "      <td>143.229996</td>\n",
       "      <td>144.779999</td>\n",
       "      <td>143.910004</td>\n",
       "      <td>3824100.0</td>\n",
       "      <td>143.910004</td>\n",
       "      <td>1</td>\n",
       "      <td>0</td>\n",
       "    </tr>\n",
       "    <tr>\n",
       "      <th>598</th>\n",
       "      <td>2021-05-19</td>\n",
       "      <td>143.199997</td>\n",
       "      <td>140.919998</td>\n",
       "      <td>142.320007</td>\n",
       "      <td>143.190002</td>\n",
       "      <td>4300700.0</td>\n",
       "      <td>143.190002</td>\n",
       "      <td>0</td>\n",
       "      <td>1</td>\n",
       "    </tr>\n",
       "  </tbody>\n",
       "</table>\n",
       "<p>599 rows × 9 columns</p>\n",
       "</div>"
      ],
      "text/plain": [
       "          Date        High         Low        Open       Close     Volume  \\\n",
       "0   2019-01-03  114.879997  112.690002  114.529999  112.910004  4346700.0   \n",
       "1   2019-01-04  117.489998  114.440002  114.910004  117.320000  4477800.0   \n",
       "2   2019-01-07  118.830002  116.669998  117.500000  118.150002  3751200.0   \n",
       "3   2019-01-08  120.570000  118.980003  119.660004  119.830002  4763600.0   \n",
       "4   2019-01-09  121.400002  119.870003  120.910004  120.690002  3633700.0   \n",
       "..         ...         ...         ...         ...         ...        ...   \n",
       "594 2021-05-13  144.899994  141.279999  141.449997  144.169998  4595800.0   \n",
       "595 2021-05-14  145.690002  143.960007  145.110001  144.679993  2746900.0   \n",
       "596 2021-05-17  145.800003  144.330002  144.440002  145.110001  4275100.0   \n",
       "597 2021-05-18  145.300003  143.229996  144.779999  143.910004  3824100.0   \n",
       "598 2021-05-19  143.199997  140.919998  142.320007  143.190002  4300700.0   \n",
       "\n",
       "      Adj Close  DOWN  UP  \n",
       "0     99.907280     1   0  \n",
       "1    103.809410     0   1  \n",
       "2    104.543831     0   1  \n",
       "3    106.030357     0   1  \n",
       "4    106.791328     1   0  \n",
       "..          ...   ...  ..  \n",
       "594  144.169998     0   1  \n",
       "595  144.679993     1   0  \n",
       "596  145.110001     0   1  \n",
       "597  143.910004     1   0  \n",
       "598  143.190002     0   1  \n",
       "\n",
       "[599 rows x 9 columns]"
      ]
     },
     "execution_count": 180,
     "metadata": {},
     "output_type": "execute_result"
    }
   ],
   "source": [
    "df['UP']=np.where(df['Close']>df['Open'],1,0)\n",
    "df\n",
    "\n",
    "# antoher way: df['DOWN']= df.apply(lambda row: 1 if row['Close']<row['Open'] else 0 ,axis=1)"
   ]
  },
  {
   "cell_type": "markdown",
   "metadata": {},
   "source": [
    "<h3>Get summary statistics</h3>\n",
    "<li>The \"describe\" function returns a dataframe containing summary stats for all numerical columns\n",
    "<li>Columns containing non-numerical data are ignored"
   ]
  },
  {
   "cell_type": "code",
   "execution_count": 270,
   "metadata": {},
   "outputs": [
    {
     "data": {
      "text/html": [
       "<div>\n",
       "<style scoped>\n",
       "    .dataframe tbody tr th:only-of-type {\n",
       "        vertical-align: middle;\n",
       "    }\n",
       "\n",
       "    .dataframe tbody tr th {\n",
       "        vertical-align: top;\n",
       "    }\n",
       "\n",
       "    .dataframe thead th {\n",
       "        text-align: right;\n",
       "    }\n",
       "</style>\n",
       "<table border=\"1\" class=\"dataframe\">\n",
       "  <thead>\n",
       "    <tr style=\"text-align: right;\">\n",
       "      <th></th>\n",
       "      <th>High</th>\n",
       "      <th>Low</th>\n",
       "      <th>Open</th>\n",
       "      <th>Close</th>\n",
       "      <th>Volume</th>\n",
       "      <th>Adj Close</th>\n",
       "      <th>DOWN</th>\n",
       "      <th>UP</th>\n",
       "      <th>Low_prev</th>\n",
       "      <th>Low_change</th>\n",
       "    </tr>\n",
       "  </thead>\n",
       "  <tbody>\n",
       "    <tr>\n",
       "      <th>count</th>\n",
       "      <td>599.000000</td>\n",
       "      <td>599.000000</td>\n",
       "      <td>599.000000</td>\n",
       "      <td>599.000000</td>\n",
       "      <td>5.990000e+02</td>\n",
       "      <td>599.000000</td>\n",
       "      <td>599.000000</td>\n",
       "      <td>599.000000</td>\n",
       "      <td>598.000000</td>\n",
       "      <td>598.000000</td>\n",
       "    </tr>\n",
       "    <tr>\n",
       "      <th>mean</th>\n",
       "      <td>131.879182</td>\n",
       "      <td>129.449599</td>\n",
       "      <td>130.652488</td>\n",
       "      <td>130.689099</td>\n",
       "      <td>4.925748e+06</td>\n",
       "      <td>122.498200</td>\n",
       "      <td>0.479132</td>\n",
       "      <td>0.520868</td>\n",
       "      <td>129.430418</td>\n",
       "      <td>0.000535</td>\n",
       "    </tr>\n",
       "    <tr>\n",
       "      <th>std</th>\n",
       "      <td>10.138469</td>\n",
       "      <td>10.623881</td>\n",
       "      <td>10.397809</td>\n",
       "      <td>10.387916</td>\n",
       "      <td>3.038789e+06</td>\n",
       "      <td>8.985726</td>\n",
       "      <td>0.499982</td>\n",
       "      <td>0.499982</td>\n",
       "      <td>10.622389</td>\n",
       "      <td>0.017867</td>\n",
       "    </tr>\n",
       "    <tr>\n",
       "      <th>min</th>\n",
       "      <td>97.739998</td>\n",
       "      <td>90.559998</td>\n",
       "      <td>94.599998</td>\n",
       "      <td>94.769997</td>\n",
       "      <td>1.202100e+06</td>\n",
       "      <td>88.795891</td>\n",
       "      <td>0.000000</td>\n",
       "      <td>0.000000</td>\n",
       "      <td>90.559998</td>\n",
       "      <td>-0.121155</td>\n",
       "    </tr>\n",
       "    <tr>\n",
       "      <th>25%</th>\n",
       "      <td>124.010002</td>\n",
       "      <td>121.605000</td>\n",
       "      <td>122.790001</td>\n",
       "      <td>122.795002</td>\n",
       "      <td>3.171300e+06</td>\n",
       "      <td>117.937820</td>\n",
       "      <td>0.000000</td>\n",
       "      <td>0.000000</td>\n",
       "      <td>121.597498</td>\n",
       "      <td>-0.006362</td>\n",
       "    </tr>\n",
       "    <tr>\n",
       "      <th>50%</th>\n",
       "      <td>133.820007</td>\n",
       "      <td>130.899994</td>\n",
       "      <td>132.550003</td>\n",
       "      <td>132.529999</td>\n",
       "      <td>4.159500e+06</td>\n",
       "      <td>122.681564</td>\n",
       "      <td>0.000000</td>\n",
       "      <td>1.000000</td>\n",
       "      <td>130.899994</td>\n",
       "      <td>0.001457</td>\n",
       "    </tr>\n",
       "    <tr>\n",
       "      <th>75%</th>\n",
       "      <td>139.539993</td>\n",
       "      <td>137.715004</td>\n",
       "      <td>138.514999</td>\n",
       "      <td>138.540001</td>\n",
       "      <td>5.587750e+06</td>\n",
       "      <td>126.725327</td>\n",
       "      <td>1.000000</td>\n",
       "      <td>1.000000</td>\n",
       "      <td>137.710007</td>\n",
       "      <td>0.008255</td>\n",
       "    </tr>\n",
       "    <tr>\n",
       "      <th>max</th>\n",
       "      <td>158.750000</td>\n",
       "      <td>155.419998</td>\n",
       "      <td>156.820007</td>\n",
       "      <td>156.759995</td>\n",
       "      <td>3.806350e+07</td>\n",
       "      <td>146.779999</td>\n",
       "      <td>1.000000</td>\n",
       "      <td>1.000000</td>\n",
       "      <td>155.419998</td>\n",
       "      <td>0.096069</td>\n",
       "    </tr>\n",
       "  </tbody>\n",
       "</table>\n",
       "</div>"
      ],
      "text/plain": [
       "             High         Low        Open       Close        Volume  \\\n",
       "count  599.000000  599.000000  599.000000  599.000000  5.990000e+02   \n",
       "mean   131.879182  129.449599  130.652488  130.689099  4.925748e+06   \n",
       "std     10.138469   10.623881   10.397809   10.387916  3.038789e+06   \n",
       "min     97.739998   90.559998   94.599998   94.769997  1.202100e+06   \n",
       "25%    124.010002  121.605000  122.790001  122.795002  3.171300e+06   \n",
       "50%    133.820007  130.899994  132.550003  132.529999  4.159500e+06   \n",
       "75%    139.539993  137.715004  138.514999  138.540001  5.587750e+06   \n",
       "max    158.750000  155.419998  156.820007  156.759995  3.806350e+07   \n",
       "\n",
       "        Adj Close        DOWN          UP    Low_prev  Low_change  \n",
       "count  599.000000  599.000000  599.000000  598.000000  598.000000  \n",
       "mean   122.498200    0.479132    0.520868  129.430418    0.000535  \n",
       "std      8.985726    0.499982    0.499982   10.622389    0.017867  \n",
       "min     88.795891    0.000000    0.000000   90.559998   -0.121155  \n",
       "25%    117.937820    0.000000    0.000000  121.597498   -0.006362  \n",
       "50%    122.681564    0.000000    1.000000  130.899994    0.001457  \n",
       "75%    126.725327    1.000000    1.000000  137.710007    0.008255  \n",
       "max    146.779999    1.000000    1.000000  155.419998    0.096069  "
      ]
     },
     "execution_count": 270,
     "metadata": {},
     "output_type": "execute_result"
    }
   ],
   "source": [
    "stats = df.describe()\n",
    "(stats)"
   ]
  },
  {
   "cell_type": "markdown",
   "metadata": {},
   "source": [
    "<h4>Calculate the percentage of days that the stock has closed higher than its open</h4>"
   ]
  },
  {
   "cell_type": "code",
   "execution_count": 273,
   "metadata": {},
   "outputs": [
    {
     "data": {
      "text/plain": [
       "599"
      ]
     },
     "execution_count": 273,
     "metadata": {},
     "output_type": "execute_result"
    }
   ],
   "source": [
    "df['UP'].count()"
   ]
  },
  {
   "cell_type": "code",
   "execution_count": 182,
   "metadata": {},
   "outputs": [
    {
     "data": {
      "text/plain": [
       "0.5208681135225376"
      ]
     },
     "execution_count": 182,
     "metadata": {},
     "output_type": "execute_result"
    }
   ],
   "source": [
    "df['UP'].sum()/df['UP'].count()"
   ]
  },
  {
   "cell_type": "code",
   "execution_count": 276,
   "metadata": {},
   "outputs": [
    {
     "data": {
      "text/plain": [
       "0.5208681135225376"
      ]
     },
     "execution_count": 276,
     "metadata": {},
     "output_type": "execute_result"
    }
   ],
   "source": [
    "df['UP'].mean()"
   ]
  },
  {
   "cell_type": "code",
   "execution_count": 277,
   "metadata": {},
   "outputs": [
    {
     "data": {
      "text/plain": [
       "Index(['Date', 'High', 'Low', 'Open', 'Close', 'Volume', 'Adj Close', 'DOWN',\n",
       "       'UP', 'Low_prev', 'Low_change', 'ones'],\n",
       "      dtype='object')"
      ]
     },
     "execution_count": 277,
     "metadata": {},
     "output_type": "execute_result"
    }
   ],
   "source": [
    "df.columns"
   ]
  },
  {
   "cell_type": "markdown",
   "metadata": {},
   "source": [
    "<h4>Calculate percent changes</h4>\n",
    "<li>The function pct_change computes a percent change between successive rows (times in  timeseries data)\n",
    "<li>Defaults to a single time delta\n",
    "<li>With an argument, the time delta can be changed"
   ]
  },
  {
   "cell_type": "code",
   "execution_count": 287,
   "metadata": {},
   "outputs": [
    {
     "data": {
      "text/plain": [
       "0      112.910004\n",
       "1      117.320000\n",
       "2      118.150002\n",
       "3      119.830002\n",
       "4      120.690002\n",
       "          ...    \n",
       "594    144.169998\n",
       "595    144.679993\n",
       "596    145.110001\n",
       "597    143.910004\n",
       "598    143.190002\n",
       "Name: Close, Length: 599, dtype: float64"
      ]
     },
     "execution_count": 287,
     "metadata": {},
     "output_type": "execute_result"
    }
   ],
   "source": [
    "df['Close']"
   ]
  },
  {
   "cell_type": "code",
   "execution_count": 289,
   "metadata": {},
   "outputs": [
    {
     "data": {
      "text/plain": [
       "0             NaN\n",
       "1      112.910004\n",
       "2      117.320000\n",
       "3      118.150002\n",
       "4      119.830002\n",
       "          ...    \n",
       "594    141.300003\n",
       "595    144.169998\n",
       "596    144.679993\n",
       "597    145.110001\n",
       "598    143.910004\n",
       "Name: Close, Length: 599, dtype: float64"
      ]
     },
     "execution_count": 289,
     "metadata": {},
     "output_type": "execute_result"
    }
   ],
   "source": [
    "df.Close.shift(1)"
   ]
  },
  {
   "cell_type": "code",
   "execution_count": 288,
   "metadata": {},
   "outputs": [
    {
     "data": {
      "text/plain": [
       "0           NaN\n",
       "1      0.039058\n",
       "2      0.007075\n",
       "3      0.014219\n",
       "4      0.007177\n",
       "         ...   \n",
       "594    0.020311\n",
       "595    0.003537\n",
       "596    0.002972\n",
       "597   -0.008270\n",
       "598   -0.005003\n",
       "Name: Close, Length: 599, dtype: float64"
      ]
     },
     "execution_count": 288,
     "metadata": {},
     "output_type": "execute_result"
    }
   ],
   "source": [
    "df['Close'].pct_change() #One timeperiod percent change"
   ]
  },
  {
   "cell_type": "code",
   "execution_count": 186,
   "metadata": {},
   "outputs": [
    {
     "data": {
      "text/plain": [
       "0           NaN\n",
       "1           NaN\n",
       "2           NaN\n",
       "3           NaN\n",
       "4           NaN\n",
       "         ...   \n",
       "594    0.018365\n",
       "595    0.018801\n",
       "596    0.014755\n",
       "597   -0.002288\n",
       "598    0.009233\n",
       "Name: Close, Length: 599, dtype: float64"
      ]
     },
     "execution_count": 186,
     "metadata": {},
     "output_type": "execute_result"
    }
   ],
   "source": [
    "n=13\n",
    "df['Close'].pct_change(n) #n timeperiods percent change"
   ]
  },
  {
   "cell_type": "code",
   "execution_count": 187,
   "metadata": {},
   "outputs": [],
   "source": [
    "# Another way to calculate changes is using shift of a column:\n",
    "df['Low_prev'] = df.Low.shift(1)\n",
    "df['Low_change'] = (df.Low - df.Low_prev)/df.Low_prev\n"
   ]
  },
  {
   "cell_type": "code",
   "execution_count": 307,
   "metadata": {},
   "outputs": [
    {
     "data": {
      "text/html": [
       "<div>\n",
       "<style scoped>\n",
       "    .dataframe tbody tr th:only-of-type {\n",
       "        vertical-align: middle;\n",
       "    }\n",
       "\n",
       "    .dataframe tbody tr th {\n",
       "        vertical-align: top;\n",
       "    }\n",
       "\n",
       "    .dataframe thead th {\n",
       "        text-align: right;\n",
       "    }\n",
       "</style>\n",
       "<table border=\"1\" class=\"dataframe\">\n",
       "  <thead>\n",
       "    <tr style=\"text-align: right;\">\n",
       "      <th></th>\n",
       "      <th>Date</th>\n",
       "      <th>High</th>\n",
       "      <th>Low</th>\n",
       "      <th>Open</th>\n",
       "      <th>Close</th>\n",
       "      <th>Volume</th>\n",
       "      <th>Adj Close</th>\n",
       "      <th>DOWN</th>\n",
       "      <th>UP</th>\n",
       "      <th>Low_prev</th>\n",
       "      <th>Low_change</th>\n",
       "    </tr>\n",
       "  </thead>\n",
       "  <tbody>\n",
       "    <tr>\n",
       "      <th>0</th>\n",
       "      <td>2019-01-03</td>\n",
       "      <td>114.879997</td>\n",
       "      <td>112.690002</td>\n",
       "      <td>114.529999</td>\n",
       "      <td>112.910004</td>\n",
       "      <td>4346700.0</td>\n",
       "      <td>99.907280</td>\n",
       "      <td>1</td>\n",
       "      <td>0</td>\n",
       "      <td>NaN</td>\n",
       "      <td>NaN</td>\n",
       "    </tr>\n",
       "    <tr>\n",
       "      <th>1</th>\n",
       "      <td>2019-01-04</td>\n",
       "      <td>117.489998</td>\n",
       "      <td>114.440002</td>\n",
       "      <td>114.910004</td>\n",
       "      <td>117.320000</td>\n",
       "      <td>4477800.0</td>\n",
       "      <td>103.809410</td>\n",
       "      <td>0</td>\n",
       "      <td>1</td>\n",
       "      <td>112.690002</td>\n",
       "      <td>0.015529</td>\n",
       "    </tr>\n",
       "    <tr>\n",
       "      <th>2</th>\n",
       "      <td>2019-01-07</td>\n",
       "      <td>118.830002</td>\n",
       "      <td>116.669998</td>\n",
       "      <td>117.500000</td>\n",
       "      <td>118.150002</td>\n",
       "      <td>3751200.0</td>\n",
       "      <td>104.543831</td>\n",
       "      <td>0</td>\n",
       "      <td>1</td>\n",
       "      <td>114.440002</td>\n",
       "      <td>0.019486</td>\n",
       "    </tr>\n",
       "    <tr>\n",
       "      <th>3</th>\n",
       "      <td>2019-01-08</td>\n",
       "      <td>120.570000</td>\n",
       "      <td>118.980003</td>\n",
       "      <td>119.660004</td>\n",
       "      <td>119.830002</td>\n",
       "      <td>4763600.0</td>\n",
       "      <td>106.030357</td>\n",
       "      <td>0</td>\n",
       "      <td>1</td>\n",
       "      <td>116.669998</td>\n",
       "      <td>0.019799</td>\n",
       "    </tr>\n",
       "    <tr>\n",
       "      <th>4</th>\n",
       "      <td>2019-01-09</td>\n",
       "      <td>121.400002</td>\n",
       "      <td>119.870003</td>\n",
       "      <td>120.910004</td>\n",
       "      <td>120.690002</td>\n",
       "      <td>3633700.0</td>\n",
       "      <td>106.791328</td>\n",
       "      <td>1</td>\n",
       "      <td>0</td>\n",
       "      <td>118.980003</td>\n",
       "      <td>0.007480</td>\n",
       "    </tr>\n",
       "  </tbody>\n",
       "</table>\n",
       "</div>"
      ],
      "text/plain": [
       "        Date        High         Low        Open       Close     Volume  \\\n",
       "0 2019-01-03  114.879997  112.690002  114.529999  112.910004  4346700.0   \n",
       "1 2019-01-04  117.489998  114.440002  114.910004  117.320000  4477800.0   \n",
       "2 2019-01-07  118.830002  116.669998  117.500000  118.150002  3751200.0   \n",
       "3 2019-01-08  120.570000  118.980003  119.660004  119.830002  4763600.0   \n",
       "4 2019-01-09  121.400002  119.870003  120.910004  120.690002  3633700.0   \n",
       "\n",
       "    Adj Close  DOWN  UP    Low_prev  Low_change  \n",
       "0   99.907280     1   0         NaN         NaN  \n",
       "1  103.809410     0   1  112.690002    0.015529  \n",
       "2  104.543831     0   1  114.440002    0.019486  \n",
       "3  106.030357     0   1  116.669998    0.019799  \n",
       "4  106.791328     1   0  118.980003    0.007480  "
      ]
     },
     "execution_count": 307,
     "metadata": {},
     "output_type": "execute_result"
    }
   ],
   "source": [
    "df.head()"
   ]
  },
  {
   "cell_type": "markdown",
   "metadata": {},
   "source": [
    "<h3>NaN support</h3>\n",
    "Pandas functions can ignore NaNs"
   ]
  },
  {
   "cell_type": "code",
   "execution_count": 293,
   "metadata": {},
   "outputs": [
    {
     "data": {
      "text/plain": [
       "0.006519954719054385"
      ]
     },
     "execution_count": 293,
     "metadata": {},
     "output_type": "execute_result"
    }
   ],
   "source": [
    "n=13\n",
    "df['Close'].pct_change(n).mean()"
   ]
  },
  {
   "cell_type": "markdown",
   "metadata": {},
   "source": [
    "<h3>Rolling windows</h3>\n",
    "<li>\"rolling\" function extracts rolling windows\n",
    "<li>For example, the 21 period rolling window of the 13 period percent change "
   ]
  },
  {
   "cell_type": "code",
   "execution_count": 309,
   "metadata": {},
   "outputs": [
    {
     "data": {
      "text/plain": [
       "3    0.014219\n",
       "4    0.007177\n",
       "5    0.009114\n",
       "6   -0.002710\n",
       "7   -0.008809\n",
       "8    0.011131\n",
       "9   -0.000904\n",
       "Name: Close, dtype: float64"
      ]
     },
     "execution_count": 309,
     "metadata": {},
     "output_type": "execute_result"
    }
   ],
   "source": [
    "df['Close'].pct_change(n)[3:10]"
   ]
  },
  {
   "cell_type": "code",
   "execution_count": 305,
   "metadata": {},
   "outputs": [
    {
     "data": {
      "text/plain": [
       "Rolling [window=21,center=False,axis=0]"
      ]
     },
     "execution_count": 305,
     "metadata": {},
     "output_type": "execute_result"
    }
   ],
   "source": [
    "df.Close.rolling(21)"
   ]
  },
  {
   "cell_type": "markdown",
   "metadata": {},
   "source": [
    "<h4>Calculate something on the rolling windows</h4>"
   ]
  },
  {
   "cell_type": "markdown",
   "metadata": {},
   "source": [
    "<h4>Example: mean (the 21 day moving average of the 13 day percent change)"
   ]
  },
  {
   "cell_type": "code",
   "execution_count": 306,
   "metadata": {},
   "outputs": [
    {
     "data": {
      "text/plain": [
       "0             NaN\n",
       "1             NaN\n",
       "2             NaN\n",
       "3             NaN\n",
       "4             NaN\n",
       "          ...    \n",
       "594    142.041429\n",
       "595    142.617619\n",
       "596    143.166191\n",
       "597    143.680001\n",
       "598    143.919524\n",
       "Name: Close, Length: 599, dtype: float64"
      ]
     },
     "execution_count": 306,
     "metadata": {},
     "output_type": "execute_result"
    }
   ],
   "source": [
    "n=1\n",
    "df['Close'].rolling(21).mean()"
   ]
  },
  {
   "cell_type": "markdown",
   "metadata": {},
   "source": [
    "<h4>Calculate several moving averages and graph them</h4>"
   ]
  },
  {
   "cell_type": "code",
   "execution_count": 302,
   "metadata": {},
   "outputs": [],
   "source": [
    "ma_8 = df['Close'].pct_change(n).rolling(window=8).mean()\n",
    "ma_13= df['Close'].pct_change(n).rolling(window=13).mean()\n",
    "ma_21= df['Close'].pct_change(n).rolling(window=21).mean()\n",
    "ma_30= df['Close'].pct_change(n).rolling(window=30).mean()\n",
    "ma_60= df['Close'].pct_change(n).rolling(window=60).mean()"
   ]
  },
  {
   "cell_type": "code",
   "execution_count": 194,
   "metadata": {},
   "outputs": [
    {
     "data": {
      "text/plain": [
       "0           NaN\n",
       "1           NaN\n",
       "2           NaN\n",
       "3           NaN\n",
       "4           NaN\n",
       "         ...   \n",
       "594    0.018365\n",
       "595    0.018801\n",
       "596    0.014755\n",
       "597   -0.002288\n",
       "598    0.009233\n",
       "Name: Close, Length: 599, dtype: float64"
      ]
     },
     "execution_count": 194,
     "metadata": {},
     "output_type": "execute_result"
    }
   ],
   "source": [
    "df['Close'].pct_change(n)"
   ]
  },
  {
   "cell_type": "code",
   "execution_count": 195,
   "metadata": {},
   "outputs": [
    {
     "data": {
      "text/plain": [
       "pandas.core.series.Series"
      ]
     },
     "execution_count": 195,
     "metadata": {},
     "output_type": "execute_result"
    }
   ],
   "source": [
    "type(ma_30)"
   ]
  },
  {
   "cell_type": "code",
   "execution_count": 303,
   "metadata": {},
   "outputs": [
    {
     "data": {
      "text/plain": [
       "0           NaN\n",
       "1           NaN\n",
       "2           NaN\n",
       "3           NaN\n",
       "4           NaN\n",
       "         ...   \n",
       "594    0.002749\n",
       "595    0.002874\n",
       "596    0.002298\n",
       "597    0.002441\n",
       "598    0.002098\n",
       "Name: Close, Length: 599, dtype: float64"
      ]
     },
     "execution_count": 303,
     "metadata": {},
     "output_type": "execute_result"
    }
   ],
   "source": [
    "ma_30"
   ]
  },
  {
   "cell_type": "code",
   "execution_count": 200,
   "metadata": {},
   "outputs": [
    {
     "data": {
      "text/plain": [
       "<matplotlib.axes._subplots.AxesSubplot at 0x21580a26308>"
      ]
     },
     "execution_count": 200,
     "metadata": {},
     "output_type": "execute_result"
    },
    {
     "data": {
      "image/png": "[encoded data removed]",
      "text/plain": [
       "<Figure size 432x288 with 1 Axes>"
      ]
     },
     "metadata": {
      "needs_background": "light"
     },
     "output_type": "display_data"
    }
   ],
   "source": [
    "ma_8.plot()\n",
    "ma_30.plot()\n",
    "ma_60.plot()"
   ]
  },
  {
   "cell_type": "markdown",
   "metadata": {},
   "source": [
    "<h2>Linear regression with pandas</h2>\n",
    "<h4>Example: TAN is the ticker for a solar ETF  fund. FSLR, RGSE, SPWR are tickers of companies that build or lease solar panels. Each has a different business model. We'll use pandas to study the risk reward tradeoff between the 4 investments and also see how correlated they are</h4>"
   ]
  },
  {
   "cell_type": "code",
   "execution_count": 201,
   "metadata": {},
   "outputs": [],
   "source": [
    "# Please Note that the historical data of SCTY is not completed so we remove this stock from the list. \n",
    "# Change SCTY to SPWR\n",
    "import datetime\n",
    "import pandas_datareader as data\n",
    "start = datetime.datetime(2018,7,1)\n",
    "end = datetime.datetime(2019,6,1)\n",
    "solar_df = data.DataReader(['FSLR', 'TAN','SPWR'],'yahoo', start=start,end=end)['Close']\n",
    "\n",
    "#digitalProd_df = data.DataReader(['AAPL', 'SMSN.L','NOK'],'yahoo', start=start,end=end)['Close']"
   ]
  },
  {
   "cell_type": "code",
   "execution_count": 202,
   "metadata": {},
   "outputs": [],
   "source": [
    "#digitalProd_df\n",
    "solar_df['FSLR_change'] = solar_df['FSLR'].pct_change()\n"
   ]
  },
  {
   "cell_type": "code",
   "execution_count": 203,
   "metadata": {},
   "outputs": [
    {
     "data": {
      "text/html": [
       "<div>\n",
       "<style scoped>\n",
       "    .dataframe tbody tr th:only-of-type {\n",
       "        vertical-align: middle;\n",
       "    }\n",
       "\n",
       "    .dataframe tbody tr th {\n",
       "        vertical-align: top;\n",
       "    }\n",
       "\n",
       "    .dataframe thead th {\n",
       "        text-align: right;\n",
       "    }\n",
       "</style>\n",
       "<table border=\"1\" class=\"dataframe\">\n",
       "  <thead>\n",
       "    <tr style=\"text-align: right;\">\n",
       "      <th>Symbols</th>\n",
       "      <th>FSLR</th>\n",
       "      <th>TAN</th>\n",
       "      <th>SPWR</th>\n",
       "      <th>FSLR_change</th>\n",
       "    </tr>\n",
       "    <tr>\n",
       "      <th>Date</th>\n",
       "      <th></th>\n",
       "      <th></th>\n",
       "      <th></th>\n",
       "      <th></th>\n",
       "    </tr>\n",
       "  </thead>\n",
       "  <tbody>\n",
       "    <tr>\n",
       "      <th>2018-07-02</th>\n",
       "      <td>53.049999</td>\n",
       "      <td>23.260000</td>\n",
       "      <td>5.271775</td>\n",
       "      <td>NaN</td>\n",
       "    </tr>\n",
       "    <tr>\n",
       "      <th>2018-07-03</th>\n",
       "      <td>52.360001</td>\n",
       "      <td>23.080000</td>\n",
       "      <td>5.042567</td>\n",
       "      <td>-0.013007</td>\n",
       "    </tr>\n",
       "    <tr>\n",
       "      <th>2018-07-05</th>\n",
       "      <td>53.299999</td>\n",
       "      <td>23.260000</td>\n",
       "      <td>5.166994</td>\n",
       "      <td>0.017953</td>\n",
       "    </tr>\n",
       "    <tr>\n",
       "      <th>2018-07-06</th>\n",
       "      <td>54.529999</td>\n",
       "      <td>23.540001</td>\n",
       "      <td>5.153897</td>\n",
       "      <td>0.023077</td>\n",
       "    </tr>\n",
       "    <tr>\n",
       "      <th>2018-07-09</th>\n",
       "      <td>54.830002</td>\n",
       "      <td>23.930000</td>\n",
       "      <td>5.212836</td>\n",
       "      <td>0.005502</td>\n",
       "    </tr>\n",
       "    <tr>\n",
       "      <th>...</th>\n",
       "      <td>...</td>\n",
       "      <td>...</td>\n",
       "      <td>...</td>\n",
       "      <td>...</td>\n",
       "    </tr>\n",
       "    <tr>\n",
       "      <th>2019-05-24</th>\n",
       "      <td>57.310001</td>\n",
       "      <td>25.500000</td>\n",
       "      <td>5.094957</td>\n",
       "      <td>-0.000349</td>\n",
       "    </tr>\n",
       "    <tr>\n",
       "      <th>2019-05-28</th>\n",
       "      <td>58.349998</td>\n",
       "      <td>25.790001</td>\n",
       "      <td>5.140799</td>\n",
       "      <td>0.018147</td>\n",
       "    </tr>\n",
       "    <tr>\n",
       "      <th>2019-05-29</th>\n",
       "      <td>57.860001</td>\n",
       "      <td>25.620001</td>\n",
       "      <td>5.055665</td>\n",
       "      <td>-0.008398</td>\n",
       "    </tr>\n",
       "    <tr>\n",
       "      <th>2019-05-30</th>\n",
       "      <td>59.639999</td>\n",
       "      <td>25.969999</td>\n",
       "      <td>5.147348</td>\n",
       "      <td>0.030764</td>\n",
       "    </tr>\n",
       "    <tr>\n",
       "      <th>2019-05-31</th>\n",
       "      <td>58.040001</td>\n",
       "      <td>25.670000</td>\n",
       "      <td>4.885396</td>\n",
       "      <td>-0.026828</td>\n",
       "    </tr>\n",
       "  </tbody>\n",
       "</table>\n",
       "<p>230 rows × 4 columns</p>\n",
       "</div>"
      ],
      "text/plain": [
       "Symbols          FSLR        TAN      SPWR  FSLR_change\n",
       "Date                                                   \n",
       "2018-07-02  53.049999  23.260000  5.271775          NaN\n",
       "2018-07-03  52.360001  23.080000  5.042567    -0.013007\n",
       "2018-07-05  53.299999  23.260000  5.166994     0.017953\n",
       "2018-07-06  54.529999  23.540001  5.153897     0.023077\n",
       "2018-07-09  54.830002  23.930000  5.212836     0.005502\n",
       "...               ...        ...       ...          ...\n",
       "2019-05-24  57.310001  25.500000  5.094957    -0.000349\n",
       "2019-05-28  58.349998  25.790001  5.140799     0.018147\n",
       "2019-05-29  57.860001  25.620001  5.055665    -0.008398\n",
       "2019-05-30  59.639999  25.969999  5.147348     0.030764\n",
       "2019-05-31  58.040001  25.670000  4.885396    -0.026828\n",
       "\n",
       "[230 rows x 4 columns]"
      ]
     },
     "execution_count": 203,
     "metadata": {},
     "output_type": "execute_result"
    }
   ],
   "source": [
    "solar_df"
   ]
  },
  {
   "cell_type": "markdown",
   "metadata": {},
   "source": [
    "<h4>Let's calculate returns (the 1 day percent change)</h4>"
   ]
  },
  {
   "cell_type": "code",
   "execution_count": 220,
   "metadata": {},
   "outputs": [
    {
     "data": {
      "text/html": [
       "<div>\n",
       "<style scoped>\n",
       "    .dataframe tbody tr th:only-of-type {\n",
       "        vertical-align: middle;\n",
       "    }\n",
       "\n",
       "    .dataframe tbody tr th {\n",
       "        vertical-align: top;\n",
       "    }\n",
       "\n",
       "    .dataframe thead th {\n",
       "        text-align: right;\n",
       "    }\n",
       "</style>\n",
       "<table border=\"1\" class=\"dataframe\">\n",
       "  <thead>\n",
       "    <tr style=\"text-align: right;\">\n",
       "      <th>Symbols</th>\n",
       "      <th>FSLR</th>\n",
       "      <th>TAN</th>\n",
       "      <th>SPWR</th>\n",
       "      <th>FSLR_change</th>\n",
       "    </tr>\n",
       "    <tr>\n",
       "      <th>Date</th>\n",
       "      <th></th>\n",
       "      <th></th>\n",
       "      <th></th>\n",
       "      <th></th>\n",
       "    </tr>\n",
       "  </thead>\n",
       "  <tbody>\n",
       "    <tr>\n",
       "      <th>2018-07-02</th>\n",
       "      <td>NaN</td>\n",
       "      <td>NaN</td>\n",
       "      <td>NaN</td>\n",
       "      <td>NaN</td>\n",
       "    </tr>\n",
       "    <tr>\n",
       "      <th>2018-07-03</th>\n",
       "      <td>-0.013007</td>\n",
       "      <td>-0.007739</td>\n",
       "      <td>-0.043478</td>\n",
       "      <td>NaN</td>\n",
       "    </tr>\n",
       "    <tr>\n",
       "      <th>2018-07-05</th>\n",
       "      <td>0.017953</td>\n",
       "      <td>0.007799</td>\n",
       "      <td>0.024675</td>\n",
       "      <td>-2.380272</td>\n",
       "    </tr>\n",
       "    <tr>\n",
       "      <th>2018-07-06</th>\n",
       "      <td>0.023077</td>\n",
       "      <td>0.012038</td>\n",
       "      <td>-0.002535</td>\n",
       "      <td>0.285435</td>\n",
       "    </tr>\n",
       "    <tr>\n",
       "      <th>2018-07-09</th>\n",
       "      <td>0.005502</td>\n",
       "      <td>0.016568</td>\n",
       "      <td>0.011436</td>\n",
       "      <td>-0.761597</td>\n",
       "    </tr>\n",
       "    <tr>\n",
       "      <th>...</th>\n",
       "      <td>...</td>\n",
       "      <td>...</td>\n",
       "      <td>...</td>\n",
       "      <td>...</td>\n",
       "    </tr>\n",
       "    <tr>\n",
       "      <th>2019-05-24</th>\n",
       "      <td>-0.000349</td>\n",
       "      <td>0.016746</td>\n",
       "      <td>0.006468</td>\n",
       "      <td>-0.988090</td>\n",
       "    </tr>\n",
       "    <tr>\n",
       "      <th>2019-05-28</th>\n",
       "      <td>0.018147</td>\n",
       "      <td>0.011373</td>\n",
       "      <td>0.008998</td>\n",
       "      <td>-53.016812</td>\n",
       "    </tr>\n",
       "    <tr>\n",
       "      <th>2019-05-29</th>\n",
       "      <td>-0.008398</td>\n",
       "      <td>-0.006592</td>\n",
       "      <td>-0.016560</td>\n",
       "      <td>-1.462756</td>\n",
       "    </tr>\n",
       "    <tr>\n",
       "      <th>2019-05-30</th>\n",
       "      <td>0.030764</td>\n",
       "      <td>0.013661</td>\n",
       "      <td>0.018135</td>\n",
       "      <td>-4.663430</td>\n",
       "    </tr>\n",
       "    <tr>\n",
       "      <th>2019-05-31</th>\n",
       "      <td>-0.026828</td>\n",
       "      <td>-0.011552</td>\n",
       "      <td>-0.050891</td>\n",
       "      <td>-1.872049</td>\n",
       "    </tr>\n",
       "  </tbody>\n",
       "</table>\n",
       "<p>230 rows × 4 columns</p>\n",
       "</div>"
      ],
      "text/plain": [
       "Symbols         FSLR       TAN      SPWR  FSLR_change\n",
       "Date                                                 \n",
       "2018-07-02       NaN       NaN       NaN          NaN\n",
       "2018-07-03 -0.013007 -0.007739 -0.043478          NaN\n",
       "2018-07-05  0.017953  0.007799  0.024675    -2.380272\n",
       "2018-07-06  0.023077  0.012038 -0.002535     0.285435\n",
       "2018-07-09  0.005502  0.016568  0.011436    -0.761597\n",
       "...              ...       ...       ...          ...\n",
       "2019-05-24 -0.000349  0.016746  0.006468    -0.988090\n",
       "2019-05-28  0.018147  0.011373  0.008998   -53.016812\n",
       "2019-05-29 -0.008398 -0.006592 -0.016560    -1.462756\n",
       "2019-05-30  0.030764  0.013661  0.018135    -4.663430\n",
       "2019-05-31 -0.026828 -0.011552 -0.050891    -1.872049\n",
       "\n",
       "[230 rows x 4 columns]"
      ]
     },
     "execution_count": 220,
     "metadata": {},
     "output_type": "execute_result"
    }
   ],
   "source": [
    "# rets = digitalProd_df.pct_change()\n",
    "\n",
    "rets = solar_df.pct_change()\n",
    "rets"
   ]
  },
  {
   "cell_type": "markdown",
   "metadata": {},
   "source": [
    "<h4>Let's visualize the relationship between each stock and the ETF</h4>"
   ]
  },
  {
   "cell_type": "code",
   "execution_count": 206,
   "metadata": {},
   "outputs": [
    {
     "data": {
      "text/plain": [
       "<matplotlib.collections.PathCollection at 0x21580de7888>"
      ]
     },
     "execution_count": 206,
     "metadata": {},
     "output_type": "execute_result"
    },
    {
     "data": {
      "image/png": "[encoded data removed]",
      "text/plain": [
       "<Figure size 432x288 with 1 Axes>"
      ]
     },
     "metadata": {
      "needs_background": "light"
     },
     "output_type": "display_data"
    }
   ],
   "source": [
    "import matplotlib.pyplot as plt\n",
    "#plt.scatter(rets['AAPL'],rets['SMSN.L'])\n",
    "\n",
    "plt.scatter(rets.FSLR,rets.TAN)"
   ]
  },
  {
   "cell_type": "code",
   "execution_count": null,
   "metadata": {},
   "outputs": [],
   "source": [
    "#plt.scatter(rets.RGSE,rets.TAN)"
   ]
  },
  {
   "cell_type": "code",
   "execution_count": 207,
   "metadata": {},
   "outputs": [
    {
     "data": {
      "text/plain": [
       "<matplotlib.collections.PathCollection at 0x21580b95b88>"
      ]
     },
     "execution_count": 207,
     "metadata": {},
     "output_type": "execute_result"
    },
    {
     "data": {
      "image/png": "[encoded data removed]",
      "text/plain": [
       "<Figure size 432x288 with 1 Axes>"
      ]
     },
     "metadata": {
      "needs_background": "light"
     },
     "output_type": "display_data"
    }
   ],
   "source": [
    "plt.scatter(rets.SPWR,rets.TAN)"
   ]
  },
  {
   "cell_type": "markdown",
   "metadata": {},
   "source": [
    "<h4>The correlation matrix</h4>"
   ]
  },
  {
   "cell_type": "code",
   "execution_count": 208,
   "metadata": {},
   "outputs": [
    {
     "name": "stdout",
     "output_type": "stream",
     "text": [
      "Symbols          FSLR       TAN      SPWR  FSLR_change\n",
      "Symbols                                               \n",
      "FSLR         1.000000  0.733408  0.640075    -0.052543\n",
      "TAN          0.733408  1.000000  0.690854    -0.057779\n",
      "SPWR         0.640075  0.690854  1.000000    -0.026057\n",
      "FSLR_change -0.052543 -0.057779 -0.026057     1.000000\n"
     ]
    }
   ],
   "source": [
    "solar_corr = rets.corr()\n",
    "print(solar_corr)"
   ]
  },
  {
   "cell_type": "markdown",
   "metadata": {},
   "source": [
    "<h3>Basic risk analysis</h3>\n",
    "<h4>We'll plot the mean and std or returns for each ticker to get a sense of the risk return profile</h4>"
   ]
  },
  {
   "cell_type": "code",
   "execution_count": 221,
   "metadata": {},
   "outputs": [
    {
     "data": {
      "text/plain": [
       "Symbols\n",
       "FSLR            0.023064\n",
       "TAN             0.016852\n",
       "SPWR            0.033452\n",
       "FSLR_change    12.623191\n",
       "dtype: float64"
      ]
     },
     "execution_count": 221,
     "metadata": {},
     "output_type": "execute_result"
    }
   ],
   "source": [
    "rets.mean()\n",
    "rets.std()"
   ]
  },
  {
   "cell_type": "code",
   "execution_count": 226,
   "metadata": {
    "scrolled": true
   },
   "outputs": [
    {
     "data": {
      "image/png": "[encoded data removed]",
      "text/plain": [
       "<Figure size 432x288 with 1 Axes>"
      ]
     },
     "metadata": {
      "needs_background": "light"
     },
     "output_type": "display_data"
    }
   ],
   "source": [
    "# plt.scatter(rets[['FSLR','TAN','SPWR']].mean(), rets[['FSLR','TAN','SPWR']].std())\n",
    "plt.scatter(rets.mean(), rets.std())\n",
    "plt.xlabel('Expected returns')\n",
    "plt.ylabel('Standard deviations')\n",
    "plt.show()"
   ]
  },
  {
   "cell_type": "code",
   "execution_count": 253,
   "metadata": {},
   "outputs": [
    {
     "data": {
      "image/png": "[encoded data removed]",
      "text/plain": [
       "<Figure size 432x288 with 1 Axes>"
      ]
     },
     "metadata": {
      "needs_background": "light"
     },
     "output_type": "display_data"
    }
   ],
   "source": [
    "#plt.scatter(rets[['FSLR','TAN','SPWR']].mean(), rets[['FSLR','TAN','SPWR']].std())\n",
    "plt.scatter(rets.mean(), rets.std())\n",
    "plt.xlabel('Expected returns')\n",
    "plt.ylabel('Standard deviations')\n",
    "for label, x, y in zip(rets.columns, rets.mean(), rets.std()):\n",
    "    plt.annotate(  # adding annotation to the diagram\n",
    "        label, \n",
    "        xy = (x, y), xytext = (20, -20),\n",
    "        textcoords = 'offset points', ha = 'right', va = 'bottom',\n",
    "        bbox = dict(boxstyle = 'round,pad=0.5', fc = 'yellow', alpha = 0.5), # alpha - the intensity of the color\n",
    "        arrowprops = dict(arrowstyle = '->', connectionstyle = 'arc3,rad=0')\n",
    "    )\n",
    "#plt.xlim(0.0,0.0015)\n",
    "\n",
    "plt.show()\n"
   ]
  },
  {
   "cell_type": "code",
   "execution_count": 229,
   "metadata": {},
   "outputs": [
    {
     "data": {
      "text/plain": [
       "[('FSLR', 0.0006569761725659778, 0.023064446564513646),\n",
       " ('TAN', 0.0005716152286967802, 0.016851964121580597),\n",
       " ('SPWR', 0.0002139386655404213, 0.033451894136634866),\n",
       " ('FSLR_change', 0.478074766369697, 12.62319144682584)]"
      ]
     },
     "execution_count": 229,
     "metadata": {},
     "output_type": "execute_result"
    }
   ],
   "source": [
    "list(zip(rets.columns, rets.mean(), rets.std()))"
   ]
  },
  {
   "cell_type": "markdown",
   "metadata": {},
   "source": [
    "<h2>Regressions</h2>\n",
    "http://statsmodels.sourceforge.net/"
   ]
  },
  {
   "cell_type": "markdown",
   "metadata": {},
   "source": [
    "<h3>Steps for regression</h3>\n",
    "<li>Construct y (dependent variable series)\n",
    "<li>Construct matrix (dataframe) of X (independent variable series)\n",
    "<li>Add intercept\n",
    "<li>Model the regression\n",
    "<li>Get the results\n",
    "<h3>The statsmodels library contains various regression packages. We'll use the OLS (Ordinary Least Squares) model"
   ]
  },
  {
   "cell_type": "code",
   "execution_count": 254,
   "metadata": {},
   "outputs": [],
   "source": [
    "import numpy as np\n",
    "import statsmodels.api as sm"
   ]
  },
  {
   "cell_type": "code",
   "execution_count": 255,
   "metadata": {},
   "outputs": [
    {
     "name": "stdout",
     "output_type": "stream",
     "text": [
      "                            OLS Regression Results                            \n",
      "==============================================================================\n",
      "Dep. Variable:                    TAN   R-squared:                       0.842\n",
      "Model:                            OLS   Adj. R-squared:                  0.840\n",
      "Method:                 Least Squares   F-statistic:                     604.2\n",
      "Date:                Thu, 20 May 2021   Prob (F-statistic):           1.25e-91\n",
      "Time:                        11:32:51   Log-Likelihood:                -295.24\n",
      "No. Observations:                 230   AIC:                             596.5\n",
      "Df Residuals:                     227   BIC:                             606.8\n",
      "Df Model:                           2                                         \n",
      "Covariance Type:            nonrobust                                         \n",
      "==============================================================================\n",
      "                 coef    std err          t      P>|t|      [0.025      0.975]\n",
      "------------------------------------------------------------------------------\n",
      "const          4.7266      0.547      8.635      0.000       3.648       5.805\n",
      "FSLR           0.3765      0.014     27.166      0.000       0.349       0.404\n",
      "SPWR          -0.3645      0.147     -2.474      0.014      -0.655      -0.074\n",
      "==============================================================================\n",
      "Omnibus:                       10.615   Durbin-Watson:                   0.109\n",
      "Prob(Omnibus):                  0.005   Jarque-Bera (JB):                8.550\n",
      "Skew:                           0.379   Prob(JB):                       0.0139\n",
      "Kurtosis:                       2.436   Cond. No.                         485.\n",
      "==============================================================================\n",
      "\n",
      "Notes:\n",
      "[1] Standard Errors assume that the covariance matrix of the errors is correctly specified.\n"
     ]
    }
   ],
   "source": [
    "\n",
    "X=solar_df[['FSLR','SPWR']]\n",
    "X = sm.add_constant(X)\n",
    "y=solar_df['TAN']\n",
    "model = sm.OLS(y,X,missing='drop') # https://en.wikipedia.org/wiki/Ordinary_least_squares \n",
    "                                    # drop - removes rows with missing values\n",
    "result = model.fit() # finds the model parameters\n",
    "print(result.summary())"
   ]
  },
  {
   "cell_type": "code",
   "execution_count": 256,
   "metadata": {},
   "outputs": [
    {
     "data": {
      "text/html": [
       "<div>\n",
       "<style scoped>\n",
       "    .dataframe tbody tr th:only-of-type {\n",
       "        vertical-align: middle;\n",
       "    }\n",
       "\n",
       "    .dataframe tbody tr th {\n",
       "        vertical-align: top;\n",
       "    }\n",
       "\n",
       "    .dataframe thead th {\n",
       "        text-align: right;\n",
       "    }\n",
       "</style>\n",
       "<table border=\"1\" class=\"dataframe\">\n",
       "  <thead>\n",
       "    <tr style=\"text-align: right;\">\n",
       "      <th></th>\n",
       "      <th>const</th>\n",
       "      <th>FSLR</th>\n",
       "      <th>SPWR</th>\n",
       "    </tr>\n",
       "    <tr>\n",
       "      <th>Date</th>\n",
       "      <th></th>\n",
       "      <th></th>\n",
       "      <th></th>\n",
       "    </tr>\n",
       "  </thead>\n",
       "  <tbody>\n",
       "    <tr>\n",
       "      <th>2018-07-02</th>\n",
       "      <td>1.0</td>\n",
       "      <td>53.049999</td>\n",
       "      <td>5.271775</td>\n",
       "    </tr>\n",
       "    <tr>\n",
       "      <th>2018-07-03</th>\n",
       "      <td>1.0</td>\n",
       "      <td>52.360001</td>\n",
       "      <td>5.042567</td>\n",
       "    </tr>\n",
       "    <tr>\n",
       "      <th>2018-07-05</th>\n",
       "      <td>1.0</td>\n",
       "      <td>53.299999</td>\n",
       "      <td>5.166994</td>\n",
       "    </tr>\n",
       "    <tr>\n",
       "      <th>2018-07-06</th>\n",
       "      <td>1.0</td>\n",
       "      <td>54.529999</td>\n",
       "      <td>5.153897</td>\n",
       "    </tr>\n",
       "    <tr>\n",
       "      <th>2018-07-09</th>\n",
       "      <td>1.0</td>\n",
       "      <td>54.830002</td>\n",
       "      <td>5.212836</td>\n",
       "    </tr>\n",
       "    <tr>\n",
       "      <th>...</th>\n",
       "      <td>...</td>\n",
       "      <td>...</td>\n",
       "      <td>...</td>\n",
       "    </tr>\n",
       "    <tr>\n",
       "      <th>2019-05-24</th>\n",
       "      <td>1.0</td>\n",
       "      <td>57.310001</td>\n",
       "      <td>5.094957</td>\n",
       "    </tr>\n",
       "    <tr>\n",
       "      <th>2019-05-28</th>\n",
       "      <td>1.0</td>\n",
       "      <td>58.349998</td>\n",
       "      <td>5.140799</td>\n",
       "    </tr>\n",
       "    <tr>\n",
       "      <th>2019-05-29</th>\n",
       "      <td>1.0</td>\n",
       "      <td>57.860001</td>\n",
       "      <td>5.055665</td>\n",
       "    </tr>\n",
       "    <tr>\n",
       "      <th>2019-05-30</th>\n",
       "      <td>1.0</td>\n",
       "      <td>59.639999</td>\n",
       "      <td>5.147348</td>\n",
       "    </tr>\n",
       "    <tr>\n",
       "      <th>2019-05-31</th>\n",
       "      <td>1.0</td>\n",
       "      <td>58.040001</td>\n",
       "      <td>4.885396</td>\n",
       "    </tr>\n",
       "  </tbody>\n",
       "</table>\n",
       "<p>230 rows × 3 columns</p>\n",
       "</div>"
      ],
      "text/plain": [
       "            const       FSLR      SPWR\n",
       "Date                                  \n",
       "2018-07-02    1.0  53.049999  5.271775\n",
       "2018-07-03    1.0  52.360001  5.042567\n",
       "2018-07-05    1.0  53.299999  5.166994\n",
       "2018-07-06    1.0  54.529999  5.153897\n",
       "2018-07-09    1.0  54.830002  5.212836\n",
       "...           ...        ...       ...\n",
       "2019-05-24    1.0  57.310001  5.094957\n",
       "2019-05-28    1.0  58.349998  5.140799\n",
       "2019-05-29    1.0  57.860001  5.055665\n",
       "2019-05-30    1.0  59.639999  5.147348\n",
       "2019-05-31    1.0  58.040001  4.885396\n",
       "\n",
       "[230 rows x 3 columns]"
      ]
     },
     "execution_count": 256,
     "metadata": {},
     "output_type": "execute_result"
    }
   ],
   "source": [
    "X"
   ]
  },
  {
   "cell_type": "code",
   "execution_count": 257,
   "metadata": {},
   "outputs": [
    {
     "data": {
      "text/plain": [
       "Date\n",
       "2018-07-02    23.260000\n",
       "2018-07-03    23.080000\n",
       "2018-07-05    23.260000\n",
       "2018-07-06    23.540001\n",
       "2018-07-09    23.930000\n",
       "                ...    \n",
       "2019-05-24    25.500000\n",
       "2019-05-28    25.790001\n",
       "2019-05-29    25.620001\n",
       "2019-05-30    25.969999\n",
       "2019-05-31    25.670000\n",
       "Name: TAN, Length: 230, dtype: float64"
      ]
     },
     "execution_count": 257,
     "metadata": {},
     "output_type": "execute_result"
    }
   ],
   "source": [
    "y"
   ]
  },
  {
   "cell_type": "markdown",
   "metadata": {},
   "source": [
    "<h4>Finally plot the fitted line with the actual y values"
   ]
  },
  {
   "cell_type": "code",
   "execution_count": 258,
   "metadata": {},
   "outputs": [
    {
     "data": {
      "text/plain": [
       "<matplotlib.legend.Legend at 0x2159321c5c8>"
      ]
     },
     "execution_count": 258,
     "metadata": {},
     "output_type": "execute_result"
    },
    {
     "data": {
      "image/png": "[encoded data removed]",
      "text/plain": [
       "<Figure size 576x432 with 1 Axes>"
      ]
     },
     "metadata": {
      "needs_background": "light"
     },
     "output_type": "display_data"
    }
   ],
   "source": [
    "fig, ax = plt.subplots(figsize=(8,6))\n",
    "ax.plot(y, color='r', label='actual')\n",
    "ax.plot(result.fittedvalues, label='predicted')\n",
    "ax.legend(loc=\"lower right\") #\"upper right\"\n"
   ]
  },
  {
   "cell_type": "code",
   "execution_count": 259,
   "metadata": {},
   "outputs": [
    {
     "data": {
      "text/plain": [
       "<statsmodels.regression.linear_model.RegressionResultsWrapper at 0x215931ca4c8>"
      ]
     },
     "execution_count": 259,
     "metadata": {},
     "output_type": "execute_result"
    }
   ],
   "source": [
    "result"
   ]
  },
  {
   "cell_type": "code",
   "execution_count": 260,
   "metadata": {},
   "outputs": [
    {
     "data": {
      "text/plain": [
       "Date\n",
       "2018-07-02    22.778619\n",
       "2018-07-03    22.602372\n",
       "2018-07-05    22.910934\n",
       "2018-07-06    23.378805\n",
       "2018-07-09    23.470276\n",
       "                ...    \n",
       "2019-05-24    24.446965\n",
       "2019-05-28    24.821818\n",
       "2019-05-29    24.668362\n",
       "2019-05-30    25.305120\n",
       "2019-05-31    24.798191\n",
       "Length: 230, dtype: float64"
      ]
     },
     "execution_count": 260,
     "metadata": {},
     "output_type": "execute_result"
    }
   ],
   "source": [
    "result.fittedvalues"
   ]
  }
 ],
 "metadata": {
  "kernelspec": {
   "display_name": "Python 3 (ipykernel)",
   "language": "python",
   "name": "python3"
  },
  "language_info": {
   "codemirror_mode": {
    "name": "ipython",
    "version": 3
   },
   "file_extension": ".py",
   "mimetype": "text/x-python",
   "name": "python",
   "nbconvert_exporter": "python",
   "pygments_lexer": "ipython3",
   "version": "3.9.13"
  }
 },
 "nbformat": 4,
 "nbformat_minor": 2
}
