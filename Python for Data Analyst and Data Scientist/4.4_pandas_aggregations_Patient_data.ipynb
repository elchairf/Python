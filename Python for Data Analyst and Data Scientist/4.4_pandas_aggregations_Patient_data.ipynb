{
 "cells": [
  {
   "cell_type": "code",
   "execution_count": null,
   "metadata": {},
   "outputs": [],
   "source": [
    "import pandas as pd\n",
    "import numpy as np\n",
    "import re"
   ]
  },
  {
   "cell_type": "code",
   "execution_count": null,
   "metadata": {},
   "outputs": [],
   "source": [
    "datafile = \"C:\\\\Users\\\\Anat\\\\PythonCode\\\\resources\\\\patient_nutrition_data.csv\" "
   ]
  },
  {
   "cell_type": "code",
   "execution_count": null,
   "metadata": {},
   "outputs": [],
   "source": [
    "df = pd.read_csv(datafile)\n",
    "df"
   ]
  },
  {
   "cell_type": "code",
   "execution_count": null,
   "metadata": {},
   "outputs": [],
   "source": [
    "patient_level_df = df.groupby(['id']).agg(\n",
    "{\n",
    "    'day_num' : \"last\",\n",
    "    'EN': lambda x: list(x),\n",
    "    'PN': lambda x: list(x),\n",
    "    'NG': lambda x: list(x)\n",
    "    \n",
    "}).reset_index()\n",
    "    \n",
    "\n",
    "patient_level_df.columns = ['id','numOfdays',\"ENs\",\"PNs\",\"NGs\"]\n",
    "\n",
    "patient_level_df\n"
   ]
  },
  {
   "cell_type": "code",
   "execution_count": null,
   "metadata": {},
   "outputs": [],
   "source": [
    "a = [\"yes\",\"yes\",\"nan\",\"nan\",\"yes\"]\n",
    "b = [\"yes\",\"yes\",\"nan\",\"nan\",\"nan\"]\n",
    "c = [\"nan\",\"yes\",\"nan\",\"nan\",\"yes\"]\n",
    "d = [\"yes\",\"yes\",\"yes\",\"yes\",\"yes\"]\n",
    "e = [\"yes\",\"yes\",\"yes\",\"yes\",\"nan\"]\n",
    "f = [\"yes\",\"nan\",\"nan\",\"yes\",\"yes\"]\n",
    "i = [\"nan\",\"nan\",\"nan\",\"nan\",\"nan\"]\n",
    "\n",
    "\n",
    "\n",
    "is_all_EN(d)\n",
    "print(is_early_EN(e))\n",
    "print(is_late_EN(d))\n",
    "print(is_late_EN(f))\n",
    "print(is_intermit(f))\n",
    "print(is_all_nan(i))"
   ]
  },
  {
   "cell_type": "code",
   "execution_count": null,
   "metadata": {},
   "outputs": [],
   "source": [
    "len(re.findall('1','1111000'))\n",
    "\n",
    "re.search('0+1+0+','10001110010')"
   ]
  },
  {
   "cell_type": "code",
   "execution_count": null,
   "metadata": {},
   "outputs": [],
   "source": [
    "def strToOneHot(vals):\n",
    "    res = \"\"\n",
    "    for val in vals:\n",
    "        if val == \"yes\":\n",
    "            res = res+ \"1\"\n",
    "        else:\n",
    "            res = res + \"0\"\n",
    "    return (res)\n",
    "\n",
    "def is_all_EN(vals):\n",
    "    for val in vals:\n",
    "        if(val != \"yes\"):\n",
    "            return (False)\n",
    "    return(True)\n",
    "\n",
    "def is_all_nan(vals):\n",
    "    for val in vals:\n",
    "        if(val == \"yes\"):\n",
    "            return (False)\n",
    "    return(True)\n",
    "\n",
    "\n",
    "def is_early_EN(vals):\n",
    "    onehot = strToOneHot(vals)\n",
    "    find = re.search('^1+0+$',onehot)\n",
    "    return ((find!=None)& (len(re.findall('1',onehot))<=len(onehot)/2))\n",
    "\n",
    "def is_late_EN(vals):\n",
    "    onehot = strToOneHot(vals)\n",
    "    find = re.search('^0+1+$',onehot)\n",
    "    return ((find!=None)& (len(re.findall('1',onehot))<=len(onehot)/2))\n",
    "\n",
    "def is_intermit(vals):\n",
    "    onehot = strToOneHot(vals)\n",
    "    find_010 = (re.search('0+1+0+',onehot))\n",
    "    find_101 = (re.search('1+0+1+',onehot))\n",
    "    return ((find_010 !=None)|(find_101 != None))\n",
    "\n",
    "# def is_early_EN(vals, n):\n",
    "#     #check if early ENs\n",
    "#     isEarlyENs = True\n",
    "#     for i in range(n):\n",
    "#         if(vals[i]!=\"yes\"):\n",
    "#             isEarlyENs = False\n",
    "#             break\n",
    "#     isRestNull = True\n",
    "#     for i in range(n,len(vals)):\n",
    "#         if (vals[i]!='nan'):\n",
    "#             isRestNull = False\n",
    "#     return (isEarlyENs & isRestNull)\n",
    "    \n",
    "# def is_late_EN(vals, n):\n",
    "#     #check if early ENs\n",
    "#     isEarlyNans = True\n",
    "#     for i in range(n):\n",
    "#         if(vals[i]!=\"nan\"):\n",
    "#             isEarlyNans = False\n",
    "#             break\n",
    "#     isRestENs = True\n",
    "#     for i in range(n,len(vals)):\n",
    "#         if (vals[i]!='yes'):\n",
    "#             isRestENs = False\n",
    "#     return (isEarlyNans & isRestENs)\n",
    "\n",
    "\n",
    "def get_EN_pattern(vals):\n",
    "    if is_all_EN(vals):\n",
    "        return (\"ALL_EN\")\n",
    "    elif is_early_EN(vals):\n",
    "        return (\"EARLY_EN\")\n",
    "    elif is_late_EN(vals):\n",
    "        return (\"LATE_EN\")\n",
    "    elif is_intermit(vals):\n",
    "        return (\"INTERMIT_EN\")\n",
    "    elif is_all_nan(vals):\n",
    "        return (\"ALL_NAN\")\n",
    "    else:\n",
    "        return(\"OTHER\")\n",
    "    \n",
    "    \n",
    "def get_PN_pattern(vals):\n",
    "    if is_all_EN(vals):\n",
    "        return (\"ALL_PN\")\n",
    "    elif is_early_EN(vals):\n",
    "        return (\"EARLY_PN\")\n",
    "    elif is_late_EN(vals):\n",
    "        return (\"LATE_PN\")\n",
    "    elif is_intermit(vals):\n",
    "        return (\"INTERMIT_PN\")\n",
    "    elif is_all_nan(vals):\n",
    "        return (\"ALL_NAN\")\n",
    "    else:\n",
    "        return(\"OTHER\")\n",
    "    \n",
    "    \n",
    "def get_NG(vals):\n",
    "    day = 0\n",
    "    for val in vals:\n",
    "        day = day+1\n",
    "        if(float(val) >= 500):\n",
    "            return (day)\n",
    "    return(0)\n",
    "    "
   ]
  },
  {
   "cell_type": "code",
   "execution_count": null,
   "metadata": {},
   "outputs": [],
   "source": [
    "patient_level_df['EN'] = patient_level_df.apply(lambda row: get_EN_pattern(row.ENs),axis=1)\n",
    "patient_level_df['PN'] = patient_level_df.apply(lambda row: get_PN_pattern(row.PNs),axis=1)\n",
    "patient_level_df['NG'] = patient_level_df.apply(lambda row: get_NG(row.NGs),axis=1)\n"
   ]
  },
  {
   "cell_type": "code",
   "execution_count": null,
   "metadata": {},
   "outputs": [],
   "source": [
    "patient_level_df"
   ]
  },
  {
   "cell_type": "code",
   "execution_count": null,
   "metadata": {},
   "outputs": [],
   "source": [
    "patient_level_df.to_csv(\"C:\\\\Users\\\\Anat\\\\PythonCode\\\\resources\\\\patient_level.csv\", index = False, header=True)"
   ]
  }
 ],
 "metadata": {
  "kernelspec": {
   "display_name": "Python 3 (ipykernel)",
   "language": "python",
   "name": "python3"
  },
  "language_info": {
   "codemirror_mode": {
    "name": "ipython",
    "version": 3
   },
   "file_extension": ".py",
   "mimetype": "text/x-python",
   "name": "python",
   "nbconvert_exporter": "python",
   "pygments_lexer": "ipython3",
   "version": "3.9.13"
  }
 },
 "nbformat": 4,
 "nbformat_minor": 2
}
