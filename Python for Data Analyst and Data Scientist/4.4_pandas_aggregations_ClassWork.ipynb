{
 "cells": [
  {
   "cell_type": "code",
   "execution_count": null,
   "metadata": {},
   "outputs": [],
   "source": [
    "import pandas as pd\n",
    "import numpy as np\n",
    "import re"
   ]
  },
  {
   "cell_type": "code",
   "execution_count": null,
   "metadata": {},
   "outputs": [],
   "source": [
    "datafile = \"C:\\\\Users\\\\Anat\\\\PythonCode\\\\resources\\\\patient_nutrition_data.csv\" "
   ]
  },
  {
   "cell_type": "code",
   "execution_count": null,
   "metadata": {},
   "outputs": [],
   "source": [
    "df = pd.read_csv(datafile)\n",
    "df"
   ]
  },
  {
   "cell_type": "markdown",
   "metadata": {},
   "source": [
    "### הקוד הבא מבצע אגרגציה של הנתונים מרמת אירועים לרמת החולה\n",
    "#### כל האירועים של חולה מסוים יקובצו לשורה אחת שכוללת:\n",
    "<li>מספר ימי אשפוז\n",
    "<li>list of all EN values\n",
    "<li>list of all PN values\n",
    "<li>list of all NG values\n",
    "<br>\n",
    "<p> לאחר מכן נקצה שמות חדשים לעמודות ונדפיס את הטבלה החדשה </p>"
   ]
  },
  {
   "cell_type": "code",
   "execution_count": null,
   "metadata": {},
   "outputs": [],
   "source": [
    "patient_level_df = df.groupby(['id']).agg(\n",
    "{\n",
    "    'day_num' : \"last\",\n",
    "    'EN': lambda x: list(x),\n",
    "    'PN': lambda x: list(x),\n",
    "    'NG': lambda x: list(x)\n",
    "    \n",
    "}).reset_index()\n",
    "    \n",
    "\n",
    "patient_level_df.columns = ['id','numOfdays',\"ENs\",\"PNs\",\"NGs\"]\n",
    "\n",
    "patient_level_df\n"
   ]
  },
  {
   "cell_type": "markdown",
   "metadata": {},
   "source": [
    "### התא הבא מתאר פונקציות שיופעלו על הטבלה על מנת להוסיף תכונות חדשות על בסיס התכונות הקיימות"
   ]
  },
  {
   "cell_type": "code",
   "execution_count": null,
   "metadata": {},
   "outputs": [],
   "source": [
    "## strToOneHot receives array of \"yes\" and \"nan\" strings and returns a string of 1s and 0s where\n",
    "## 1 represents a \"yes\" and 0 represents \"nan\" in the original array\n",
    "\n",
    "def strToOneHot(vals):\n",
    "    res = \"\"\n",
    "    for val in vals:\n",
    "        if val == \"yes\":\n",
    "            res = res+ \"1\"\n",
    "        else:\n",
    "            res = res + \"0\"\n",
    "    return (res)\n",
    "\n",
    "## is_all_EN receives an array of strings and checks whether all values are \"yes\"\n",
    "\n",
    "def is_all_EN(vals):\n",
    "    for val in vals:\n",
    "        if(val != \"yes\"):\n",
    "            return (False)\n",
    "    return(True)\n",
    "\n",
    "    "
   ]
  },
  {
   "cell_type": "markdown",
   "metadata": {},
   "source": [
    "### Write the following functions"
   ]
  },
  {
   "cell_type": "markdown",
   "metadata": {},
   "source": [
    "#### Write a function \"is_all_nan\" that receives a list of values and return true if all values are not \"yes\""
   ]
  },
  {
   "cell_type": "code",
   "execution_count": null,
   "metadata": {},
   "outputs": [],
   "source": []
  },
  {
   "cell_type": "markdown",
   "metadata": {},
   "source": [
    "#### Write a function \"is_early_EN\" that receives a list of values and return true if the first two values are \"yes\" and all the rest are not \"yes\""
   ]
  },
  {
   "cell_type": "code",
   "execution_count": null,
   "metadata": {},
   "outputs": [],
   "source": []
  },
  {
   "cell_type": "markdown",
   "metadata": {},
   "source": [
    "#### Write a function \"is_late_EN\" that receives a list of values and return true if all the values are not \"yes\" except for the last two values which are \"yes\" "
   ]
  },
  {
   "cell_type": "code",
   "execution_count": null,
   "metadata": {},
   "outputs": [],
   "source": []
  },
  {
   "cell_type": "markdown",
   "metadata": {},
   "source": [
    "#### Write a function \"is_intermit\" that receives a list of values and return true if the list includes a \"yes\",\"nan\",\"yes\" combination or a \"nan\",\"yes\",\"nan\" combination"
   ]
  },
  {
   "cell_type": "code",
   "execution_count": null,
   "metadata": {},
   "outputs": [],
   "source": []
  },
  {
   "cell_type": "markdown",
   "metadata": {},
   "source": [
    "### The following function uses the above functions to calculate the \"EN_pattern\":"
   ]
  },
  {
   "cell_type": "code",
   "execution_count": null,
   "metadata": {},
   "outputs": [],
   "source": [
    "def get_EN_pattern(vals):\n",
    "    if is_all_EN(vals):\n",
    "        return (\"ALL_EN\")\n",
    "    elif is_early_EN(vals):\n",
    "        return (\"EARLY_EN\")\n",
    "    elif is_late_EN(vals):\n",
    "        return (\"LATE_EN\")\n",
    "    elif is_intermit(vals):\n",
    "        return (\"INTERMIT_EN\")\n",
    "    elif is_all_nan(vals):\n",
    "        return (\"ALL_NAN\")\n",
    "    else:\n",
    "        return(\"OTHER\")\n",
    "    \n"
   ]
  },
  {
   "cell_type": "markdown",
   "metadata": {},
   "source": [
    "#### Write a function \"get_NG\" that receives a list of float values and return the first index in which the value is greater than 500"
   ]
  },
  {
   "cell_type": "code",
   "execution_count": null,
   "metadata": {},
   "outputs": [],
   "source": []
  },
  {
   "cell_type": "code",
   "execution_count": null,
   "metadata": {},
   "outputs": [],
   "source": [
    "### You can use the following code for testing your functions\n",
    "\n",
    "a = [\"yes\",\"yes\",\"nan\",\"nan\",\"yes\"]\n",
    "b = [\"yes\",\"yes\",\"nan\",\"nan\",\"nan\"]\n",
    "c = [\"nan\",\"yes\",\"nan\",\"nan\",\"yes\"]\n",
    "d = [\"yes\",\"yes\",\"yes\",\"yes\",\"yes\"]\n",
    "e = [\"yes\",\"yes\",\"yes\",\"yes\",\"nan\"]\n",
    "f = [\"yes\",\"nan\",\"nan\",\"yes\",\"yes\"]\n",
    "i = [\"nan\",\"nan\",\"nan\",\"nan\",\"nan\"]\n",
    "\n",
    "\n",
    "\n",
    "is_all_EN(d)\n",
    "print(is_early_EN(e))\n",
    "print(is_late_EN(d))\n",
    "print(is_late_EN(f))\n",
    "print(is_intermit(f))\n",
    "print(is_all_nan(i))"
   ]
  },
  {
   "cell_type": "markdown",
   "metadata": {},
   "source": [
    "### Now it is time to use the functions in order to add new columns to the dataframe\n",
    "#### The following instruction adds a column named \"EN\" that applies the function get_EN_pattern defined above on each row of the new dataframe (patient_level_df)"
   ]
  },
  {
   "cell_type": "code",
   "execution_count": null,
   "metadata": {},
   "outputs": [],
   "source": [
    "patient_level_df['EN'] = patient_level_df.apply(lambda row: get_EN_pattern(row.ENs),axis=1)\n"
   ]
  },
  {
   "cell_type": "markdown",
   "metadata": {},
   "source": [
    "#### Apply the function get_NG you wrote above to add a new column named \"NG\" to the dataframe in the same manner:\n"
   ]
  },
  {
   "cell_type": "code",
   "execution_count": null,
   "metadata": {},
   "outputs": [],
   "source": [
    "patient_level_df['NG'] = patient_level_df.apply(lambda row: get_NG(row.NGs),axis=1)\n"
   ]
  },
  {
   "cell_type": "code",
   "execution_count": null,
   "metadata": {},
   "outputs": [],
   "source": [
    "patient_level_df"
   ]
  },
  {
   "cell_type": "markdown",
   "metadata": {},
   "source": [
    "#### Now you can save the patient_level_df dataframe in a file."
   ]
  },
  {
   "cell_type": "code",
   "execution_count": null,
   "metadata": {},
   "outputs": [],
   "source": [
    "patient_level_df.to_csv(\"C:\\\\Users\\\\Anat\\\\PythonCode\\\\resources\\\\patient_level.csv\", index = False, header=True)"
   ]
  }
 ],
 "metadata": {
  "kernelspec": {
   "display_name": "Python 3",
   "language": "python",
   "name": "python3"
  },
  "language_info": {
   "codemirror_mode": {
    "name": "ipython",
    "version": 3
   },
   "file_extension": ".py",
   "mimetype": "text/x-python",
   "name": "python",
   "nbconvert_exporter": "python",
   "pygments_lexer": "ipython3",
   "version": "3.7.4"
  }
 },
 "nbformat": 4,
 "nbformat_minor": 2
}
