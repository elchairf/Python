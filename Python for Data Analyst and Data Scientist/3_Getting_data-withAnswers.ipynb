{
 "cells": [
  {
   "cell_type": "markdown",
   "metadata": {},
   "source": [
    "# HTTP GET Request to get HTML content from a website "
   ]
  },
  {
   "cell_type": "markdown",
   "metadata": {},
   "source": [
    "<h3>Step 1: Import the requests library</h3>"
   ]
  },
  {
   "cell_type": "code",
   "execution_count": null,
   "metadata": {},
   "outputs": [],
   "source": [
    "import requests"
   ]
  },
  {
   "cell_type": "markdown",
   "metadata": {},
   "source": [
    "<h3>Step 2: Send an HTTP request, get the response, and save in a variable</h3>"
   ]
  },
  {
   "cell_type": "code",
   "execution_count": null,
   "metadata": {},
   "outputs": [],
   "source": [
    "response = requests.get(\"http://www.ynet.co.il\")"
   ]
  },
  {
   "cell_type": "markdown",
   "metadata": {},
   "source": [
    "<h3>Step 3: Check the response status code to see if everything went as planned</h3>\n",
    "<li>status code 200: the request response cycle was successful\n",
    "<li>any other status code: it didn't work (e.g., 404 = page not found)"
   ]
  },
  {
   "cell_type": "code",
   "execution_count": null,
   "metadata": {},
   "outputs": [],
   "source": [
    "print(response.status_code)"
   ]
  },
  {
   "cell_type": "markdown",
   "metadata": {},
   "source": [
    "<h3>Step 4: Get the content of the response</h3>\n",
    "<li>Convert to utf-8 if necessary"
   ]
  },
  {
   "cell_type": "code",
   "execution_count": null,
   "metadata": {},
   "outputs": [],
   "source": [
    "response.content.decode('utf-8')"
   ]
  },
  {
   "cell_type": "code",
   "execution_count": null,
   "metadata": {},
   "outputs": [],
   "source": []
  },
  {
   "cell_type": "markdown",
   "metadata": {},
   "source": [
    "<h4>Problem: Get the contents of Wikipedia's main page and look for the string \"Did you know\" in it</h4>\n",
    "<li>Open https://en.wikipedia.org/wiki/main_page \n",
    "<li>Check the status you get\n",
    "<li> Get the content and decode it\n",
    "<li> Search the string \"Did you know\" using the str find function\n",
    "<li> if you get a positive number --> you found the string.\n",
    "<li> if you get -1 there is a problem...\n"
   ]
  },
  {
   "cell_type": "code",
   "execution_count": null,
   "metadata": {},
   "outputs": [],
   "source": [
    "url = \"https://en.wikipedia.org/wiki/main_page\"\n",
    "#The rest of your code should go below this line\n",
    "\n",
    "response = requests.get(url)\n",
    "print(response.status_code)\n",
    "#print(response.content.decode('utf-8'))\n",
    "res = response.content.decode('utf-8')\n",
    "res.find(\"Did you know\")\n"
   ]
  },
  {
   "cell_type": "markdown",
   "metadata": {},
   "source": [
    "<h1>JSON</h1>\n",
    "<li>The python library - json - deals with converting text to and from JSON\n"
   ]
  },
  {
   "cell_type": "code",
   "execution_count": null,
   "metadata": {},
   "outputs": [],
   "source": [
    "import json\n",
    "data = '''{\n",
    "  \"name\" : \"Chuck\",\n",
    "  \"phone\" : {\n",
    "    \"type\" : \"intl\",\n",
    "    \"number\" : \"+1 734 303 4456\"\n",
    "   },\n",
    "   \"email\" : {\n",
    "     \"hide\" : \"yes\",\n",
    "     \"type\" : \"organizational\"\n",
    "   }\n",
    "}'''\n",
    "\n",
    "info = json.loads(data)\n",
    "print(type(info))\n",
    "print('Name:',info[\"name\"])\n",
    "print('Hide:',info[\"email\"][\"hide\"])\n"
   ]
  },
  {
   "cell_type": "code",
   "execution_count": null,
   "metadata": {},
   "outputs": [],
   "source": [
    "info[\"email\"]['hide']"
   ]
  },
  {
   "cell_type": "code",
   "execution_count": null,
   "metadata": {},
   "outputs": [],
   "source": [
    "import json\n",
    "input = '''[\n",
    "  { \"id\" : \"001\",\n",
    "    \"x\" : \"2\",\n",
    "    \"name\" : \"Chuck\"\n",
    "  } ,\n",
    "  { \"id\" : \"009\",\n",
    "    \"x\" : \"7\",\n",
    "    \"name\" : \"Chuck\"\n",
    "  }\n",
    "]'''\n",
    "\n",
    "info = json.loads(input)\n",
    "print(type(info))\n",
    "print('User count:', len(info))\n",
    "for item in info:\n",
    "    print('Name', item['name'])\n",
    "    print('Id', item['id'])\n",
    "    print('Attribute', item['x'])\n"
   ]
  },
  {
   "cell_type": "code",
   "execution_count": null,
   "metadata": {},
   "outputs": [],
   "source": [
    "data_string = '[{\"b\": [2, 4], \"c\": 3.0, \"a\": \"A\"}]'\n",
    "python_data = json.loads(data_string)\n",
    "print(python_data)"
   ]
  },
  {
   "cell_type": "markdown",
   "metadata": {},
   "source": [
    "<h3>json.loads recursively decodes a string in JSON format into equivalent python objects</h3>\n",
    "<li>data_string's outermost element is converted into a python list\n",
    "<li>the first element of that list is converted into a dictionary\n",
    "<li>the key of that dictionary is converted into a string\n",
    "<li>the value of that dictionary is converted into a list of two integer elements"
   ]
  },
  {
   "cell_type": "code",
   "execution_count": null,
   "metadata": {},
   "outputs": [],
   "source": [
    "print(type(data_string),type(python_data))\n",
    "print(type(python_data[0]),python_data[0])\n",
    "print(type(python_data[0]['b']),python_data[0]['b'])"
   ]
  },
  {
   "cell_type": "markdown",
   "metadata": {},
   "source": [
    "<h3>json.loads will throw an exception if the format is incorrect</h3>"
   ]
  },
  {
   "cell_type": "code",
   "execution_count": null,
   "metadata": {},
   "outputs": [],
   "source": [
    "#Wrong\n",
    "#json.loads(\"Hello\")\n",
    "#Correct\n",
    "json.loads('\"Hello\"')"
   ]
  },
  {
   "cell_type": "code",
   "execution_count": null,
   "metadata": {},
   "outputs": [],
   "source": [
    "import json\n",
    "data_string = json.dumps(python_data)\n",
    "print(type(data_string))\n",
    "print(data_string)\n"
   ]
  },
  {
   "cell_type": "markdown",
   "metadata": {},
   "source": [
    "<h1>requests library and JSON</h1>"
   ]
  },
  {
   "cell_type": "code",
   "execution_count": null,
   "metadata": {
    "scrolled": false
   },
   "outputs": [],
   "source": [
    "#api_key = 'AIzaSy___IDByT70' HERE PUT YOUR OWN API_KEY\n",
    "address=\"Ariel University, Ariel, Israel\"\n",
    "url=\"https://maps.googleapis.com/maps/api/geocode/json?address=%s&key=%s\" % (address,api_key)\n",
    "response = requests.get(url).json()  # if the response is of json format the .json() will load the json into a python object\n",
    "print(type(response))"
   ]
  },
  {
   "cell_type": "code",
   "execution_count": null,
   "metadata": {},
   "outputs": [],
   "source": [
    "response"
   ]
  },
  {
   "cell_type": "code",
   "execution_count": null,
   "metadata": {},
   "outputs": [],
   "source": [
    "url"
   ]
  },
  {
   "cell_type": "markdown",
   "metadata": {},
   "source": [
    "## Please note that Google Maps response has been loaded in the response (as a string). The try-except code below has been updated similarly"
   ]
  },
  {
   "cell_type": "code",
   "execution_count": null,
   "metadata": {},
   "outputs": [],
   "source": [
    "response = \"\"\"\n",
    "{\n",
    "  \"results\": [\n",
    "    {\n",
    "      \"access_points\": [],\n",
    "      \"address_components\": [\n",
    "        {\n",
    "          \"long_name\": \"65\",\n",
    "          \"short_name\": \"65\",\n",
    "          \"types\": [\n",
    "            \"street_number\"\n",
    "          ]\n",
    "        },\n",
    "        {\n",
    "          \"long_name\": \"Ramat HaGolan Street\",\n",
    "          \"short_name\": \"Ramat HaGolan St\",\n",
    "          \"types\": [\n",
    "            \"route\"\n",
    "          ]\n",
    "        },\n",
    "        {\n",
    "          \"long_name\": \"Ari'el\",\n",
    "          \"short_name\": \"Ari'el\",\n",
    "          \"types\": [\n",
    "            \"locality\",\n",
    "            \"political\"\n",
    "          ]\n",
    "        },\n",
    "        {\n",
    "          \"long_name\": \"4070000\",\n",
    "          \"short_name\": \"4070000\",\n",
    "          \"types\": [\n",
    "            \"postal_code\"\n",
    "          ]\n",
    "        }\n",
    "      ],\n",
    "      \"formatted_address\": \"Ramat HaGolan St 65, Ari'el\",\n",
    "      \"geometry\": {\n",
    "        \"location\": {\n",
    "          \"lat\": 32.103188,\n",
    "          \"lng\": 35.207718\n",
    "        },\n",
    "        \"location_type\": \"ROOFTOP\",\n",
    "        \"viewport\": {\n",
    "          \"northeast\": {\n",
    "            \"lat\": 32.1045369802915,\n",
    "            \"lng\": 35.2090669802915\n",
    "          },\n",
    "          \"southwest\": {\n",
    "            \"lat\": 32.1018390197085,\n",
    "            \"lng\": 35.2063690197085\n",
    "          }\n",
    "        }\n",
    "      },\n",
    "      \"place_id\": \"ChIJ96oNT6onHRURAs0Qa9GVqSw\",\n",
    "      \"plus_code\": {\n",
    "        \"compound_code\": \"4635+73 Ari'el\",\n",
    "        \"global_code\": \"8G4Q4635+73\"\n",
    "      },\n",
    "      \"types\": [\n",
    "        \"establishment\",\n",
    "        \"point_of_interest\",\n",
    "        \"university\"\n",
    "      ]\n",
    "    }\n",
    "  ],\n",
    "  \"status\": \"OK\"\n",
    "}\"\"\"\n",
    "import json\n",
    "data = json.loads(response)"
   ]
  },
  {
   "cell_type": "markdown",
   "metadata": {},
   "source": [
    "<h3>Exception checking!</h3>"
   ]
  },
  {
   "cell_type": "code",
   "execution_count": null,
   "metadata": {},
   "outputs": [],
   "source": [
    "address=\"Ariel University, New York, NY\"\n",
    "url=\"https://maps.googleapis.com/maps/api/geocode/json?address=%s\" % (address)\n",
    "try:\n",
    "    if not data[\"status\"] == \"OK\":\n",
    "        print(\"HTTP error\")\n",
    "    else:\n",
    "        try:\n",
    "            response_data = json.loads(response)\n",
    "        except:\n",
    "            print(\"Response not in valid JSON format\")\n",
    "except:\n",
    "    print(\"Something went wrong with requests.get\")\n",
    "print(type(response_data))\n",
    "print(response_data)"
   ]
  },
  {
   "cell_type": "markdown",
   "metadata": {},
   "source": [
    "### If we want to pretty print the data: "
   ]
  },
  {
   "cell_type": "code",
   "execution_count": null,
   "metadata": {},
   "outputs": [],
   "source": [
    "print(json.dumps(response_data, indent=4))"
   ]
  },
  {
   "cell_type": "code",
   "execution_count": null,
   "metadata": {},
   "outputs": [],
   "source": [
    "# address=\"Ariel University, Ariel, Israel\"\n",
    "address=\"אוניברסיטת אריאל , אריאל, ישראל\"\n",
    "\n",
    "url=\"https://maps.googleapis.com/maps/api/geocode/json?address=%s&key=%s\" % (address,api_key)\n",
    "try:\n",
    "    response = requests.get(url)\n",
    "    if not response.status_code == 200:\n",
    "        print(\"HTTP error\",response.status_code)\n",
    "    else:\n",
    "        try:\n",
    "            response_data = response.json()\n",
    "        except:\n",
    "            print(\"Response not in valid JSON format\")\n",
    "except:\n",
    "    print(\"Something went wrong with requests.get\")\n",
    "print(type(response_data))\n"
   ]
  },
  {
   "cell_type": "code",
   "execution_count": null,
   "metadata": {
    "scrolled": true
   },
   "outputs": [],
   "source": [
    "data[\"status\"]"
   ]
  },
  {
   "cell_type": "code",
   "execution_count": null,
   "metadata": {},
   "outputs": [],
   "source": [
    "response_data"
   ]
  },
  {
   "cell_type": "code",
   "execution_count": null,
   "metadata": {},
   "outputs": [],
   "source": [
    "response_data['results'][0][\"geometry\"][\"location\"]['lat']"
   ]
  },
  {
   "cell_type": "code",
   "execution_count": null,
   "metadata": {},
   "outputs": [],
   "source": [
    "print(json.dumps(response_data, indent = 4))"
   ]
  },
  {
   "cell_type": "markdown",
   "metadata": {},
   "source": [
    "<h2>Problem 1: Write a function that takes an address as an argument and returns a (latitude, longitude) tuple</h2>"
   ]
  },
  {
   "cell_type": "code",
   "execution_count": null,
   "metadata": {},
   "outputs": [],
   "source": [
    "def get_lat_lng(address_string):\n",
    "    #python code goes here"
   ]
  },
  {
   "cell_type": "code",
   "execution_count": null,
   "metadata": {},
   "outputs": [],
   "source": [
    "def get_lat_lng(address_string):\n",
    "    import requests\n",
    "    #python code goes here\n",
    "    url=\"https://maps.googleapis.com/maps/api/geocode/json?address=%s&key=%s\" % (address_string,api_key)\n",
    "\n",
    "    # Another approach:\n",
    "    # serviceurl=\"https://maps.googleapis.com/maps/api/geocode/json?\"\n",
    "    # parms = dict()\n",
    "    # parms['address'] = address_string\n",
    "    # parms['key'] = api_key\n",
    "    # url = serviceurl + urllib.parse.urlencode(parms)\n",
    "\n",
    "    try:\n",
    "        response = requests.get(url)\n",
    "        if not response.status_code == 200:\n",
    "            print(\"HTTP error\",response.status_code)\n",
    "        else:\n",
    "            try:\n",
    "                response_data = response.json()\n",
    "                return(response_data['results'][0]['geometry']['location'])\n",
    "            except:\n",
    "                print(\"Response not in valid JSON format\")\n",
    "    except:\n",
    "        print(\"Something went wrong with requests.get\")"
   ]
  },
  {
   "cell_type": "code",
   "execution_count": null,
   "metadata": {},
   "outputs": [],
   "source": [
    "get_lat_lng(\"אוניברסיטת אריאל, ישראל\")"
   ]
  },
  {
   "cell_type": "markdown",
   "metadata": {},
   "source": [
    "<h2>Problem 2: Extend the function so that it takes a possibly incomplete address as an argument and returns a list of tuples of the form (complete address, latitude, longitude)</h2>"
   ]
  },
  {
   "cell_type": "code",
   "execution_count": null,
   "metadata": {},
   "outputs": [],
   "source": [
    "def get_lat_lng(address_string):\n",
    "    #python code goes here\n",
    "    \n",
    "    \n",
    "    "
   ]
  },
  {
   "cell_type": "markdown",
   "metadata": {},
   "source": [
    "<h1>XML</h1>\n",
    "<li>The python library - lxml - deals with converting an xml string to python objects and vice versa</li>"
   ]
  },
  {
   "cell_type": "code",
   "execution_count": null,
   "metadata": {
    "scrolled": true
   },
   "outputs": [],
   "source": [
    "data = '''<person>\n",
    "  <name>Ron</name>\n",
    "  <phone type=\"intl\">\n",
    "     +972 - 52 7223388\n",
    "   </phone>\n",
    "   <email hide=\"yes\"/>\n",
    "</person>'''\n"
   ]
  },
  {
   "cell_type": "code",
   "execution_count": null,
   "metadata": {},
   "outputs": [],
   "source": [
    "from lxml import etree\n",
    "root = etree.XML(data)"
   ]
  },
  {
   "cell_type": "code",
   "execution_count": null,
   "metadata": {},
   "outputs": [],
   "source": [
    "type(root)"
   ]
  },
  {
   "cell_type": "code",
   "execution_count": null,
   "metadata": {},
   "outputs": [],
   "source": [
    "print(\"Name:\", root.find('name').text) #.text - returns the text between tags\n",
    "print(\"Attr:\", root.find('email').get('hide')) # get retuns an attribute"
   ]
  },
  {
   "cell_type": "markdown",
   "metadata": {},
   "source": [
    "### what happens if there is an error in the xml?"
   ]
  },
  {
   "cell_type": "code",
   "execution_count": null,
   "metadata": {},
   "outputs": [],
   "source": [
    "\n",
    "data = '''<person>\n",
    "  <name>Chuck</name>\n",
    "  <phone type=\"intl\">\n",
    "     +1 734 303 4456\n",
    "   </phone>\n",
    "   <email hide=\"yes\"/>\n",
    "</person'''\n",
    "\n",
    "from lxml import etree\n",
    "root = etree.XML(data)\n",
    "print(\"Name:\", root.find('name').text)\n",
    "print(\"Attr:\", root.find('email').get('hide')) # get retuns an attribute"
   ]
  },
  {
   "cell_type": "code",
   "execution_count": null,
   "metadata": {},
   "outputs": [],
   "source": [
    "input = '''<stuff>\n",
    "    <users>\n",
    "        <user x=\"2\">\n",
    "            <id>001</id>\n",
    "            <name>Chuck</name>\n",
    "        </user>\n",
    "        <user x=\"7\">\n",
    "            <id>009</id>\n",
    "            <name>Brent</name>\n",
    "        </user>\n",
    "    </users>\n",
    "</stuff>'''\n",
    "\n",
    "stuff = etree.XML(input)\n",
    "lst = stuff.findall('users/user')\n",
    "print('User count:', len(lst))\n",
    "for item in lst:\n",
    "#     print(type(item))\n",
    "    print('Name', item.find('name').text)\n",
    "    print('Id', item.find('id').text)\n",
    "    print('Attribute', item.get(\"x\"))\n"
   ]
  },
  {
   "cell_type": "code",
   "execution_count": null,
   "metadata": {},
   "outputs": [],
   "source": [
    "lst = stuff.findall('users/user/name')\n",
    "print('User count:', len(lst))\n",
    "for item in lst:\n",
    "    print(item.text)"
   ]
  },
  {
   "cell_type": "code",
   "execution_count": null,
   "metadata": {},
   "outputs": [],
   "source": [
    "data_string = \"\"\"\n",
    "<Bookstore>\n",
    "   <Book ISBN=\"ISBN-13:978-1599620787\" Price=\"15.23\" Weight=\"1.5\">\n",
    "      <Title>New York Deco</Title>\n",
    "      <Authors>\n",
    "         <Author Residence=\"New York City\">\n",
    "            <First_Name>Richard</First_Name>\n",
    "            <Last_Name>Berenholtz</Last_Name>\n",
    "         </Author>\n",
    "      </Authors>\n",
    "   </Book>\n",
    "   <Book ISBN=\"ISBN-13:978-1579128562\" Price=\"15.80\">\n",
    "      <Remark>\n",
    "      Five Hundred Buildings of New York and over one million other books are available for Amazon Kindle.\n",
    "      </Remark>\n",
    "      <Title>Five Hundred Buildings of New York</Title>\n",
    "      <Authors>\n",
    "         <Author Residence=\"Beijing\">\n",
    "            <First_Name>Bill</First_Name>\n",
    "            <Last_Name>Harris</Last_Name>\n",
    "         </Author>\n",
    "         <Author Residence=\"New York City\">\n",
    "            <First_Name>Jorg</First_Name>\n",
    "            <Last_Name>Brockmann</Last_Name>\n",
    "         </Author>\n",
    "      </Authors>\n",
    "   </Book>\n",
    "</Bookstore>\n",
    "\"\"\"\n",
    "\n",
    "from lxml import etree\n",
    "root = etree.XML(data_string)"
   ]
  },
  {
   "cell_type": "code",
   "execution_count": null,
   "metadata": {},
   "outputs": [],
   "source": [
    "from lxml import etree\n",
    "root = etree.XML(data_string)\n",
    "print(root.tag,type(root.tag))"
   ]
  },
  {
   "cell_type": "code",
   "execution_count": null,
   "metadata": {},
   "outputs": [],
   "source": [
    "print(etree.tostring(root, pretty_print=True).decode(\"utf-8\"))"
   ]
  },
  {
   "cell_type": "markdown",
   "metadata": {},
   "source": [
    "<h3>Iterating over an XML tree</h3>\n",
    "<li>Use an iterator. \n",
    "<li>The iterator will generate every tree element for a given subtree"
   ]
  },
  {
   "cell_type": "code",
   "execution_count": null,
   "metadata": {},
   "outputs": [],
   "source": [
    "for element in root.iter():\n",
    "    print(element)"
   ]
  },
  {
   "cell_type": "markdown",
   "metadata": {},
   "source": [
    "<h4>Or just use the child in subtree construction"
   ]
  },
  {
   "cell_type": "code",
   "execution_count": null,
   "metadata": {},
   "outputs": [],
   "source": [
    "for child in root:\n",
    "    print(child)"
   ]
  },
  {
   "cell_type": "markdown",
   "metadata": {},
   "source": [
    "<h4>Accessing the tag</h4>\n"
   ]
  },
  {
   "cell_type": "code",
   "execution_count": null,
   "metadata": {},
   "outputs": [],
   "source": [
    "for child in root:\n",
    "    print(child.tag)"
   ]
  },
  {
   "cell_type": "markdown",
   "metadata": {},
   "source": [
    "<h4>Using the iterator to get specific tags<h4>\n",
    "<li>In the below example, only the author tags are accessed\n",
    "<li>For each author tag, the .find function accesses the First_Name and Last_Name tags\n",
    "<li>The .find function only looks at the children, not other descendants, so be careful!\n",
    "<li>The .text attribute prints the text in a leaf node"
   ]
  },
  {
   "cell_type": "code",
   "execution_count": null,
   "metadata": {},
   "outputs": [],
   "source": [
    "for element in root.iter(\"Author\"):\n",
    "    print(element.find('First_Name').text,element.find('Last_Name').text)"
   ]
  },
  {
   "cell_type": "markdown",
   "metadata": {},
   "source": [
    "<h4>Problem: Find the last names of all authors in the tree “root” using xpath</h4>"
   ]
  },
  {
   "cell_type": "code",
   "execution_count": null,
   "metadata": {},
   "outputs": [],
   "source": [
    "for element in root.findall('Book/Authors/Author/Last_Name'):\n",
    "    print(element.text)"
   ]
  },
  {
   "cell_type": "markdown",
   "metadata": {},
   "source": [
    "<h4>Using values of attributes as filters</h4>\n",
    "<li>Example: Find the first name of the author of a book that weighs 1.5 oz"
   ]
  },
  {
   "cell_type": "code",
   "execution_count": null,
   "metadata": {},
   "outputs": [],
   "source": [
    "root.find('Book[@Weight=\"1.5\"]/Authors/Author/First_Name').text"
   ]
  },
  {
   "cell_type": "markdown",
   "metadata": {},
   "source": [
    "<h4>Problem: Print first and last names of all authors who live in New York City</h4>"
   ]
  },
  {
   "cell_type": "code",
   "execution_count": null,
   "metadata": {},
   "outputs": [],
   "source": [
    "for element in root.iter(\"Authors\"):\n",
    "    print(element.find('Author[@Residence=\"New York City\"]/First_Name').text,\n",
    "          element.find('Author[@Residence=\"New York City\"]/Last_Name').text)\n"
   ]
  },
  {
   "cell_type": "code",
   "execution_count": null,
   "metadata": {},
   "outputs": [],
   "source": [
    "root.find(\"Book/Remark\").text"
   ]
  },
  {
   "cell_type": "code",
   "execution_count": null,
   "metadata": {},
   "outputs": [],
   "source": []
  },
  {
   "cell_type": "code",
   "execution_count": null,
   "metadata": {},
   "outputs": [],
   "source": []
  },
  {
   "cell_type": "markdown",
   "metadata": {},
   "source": [
    "## Oauth"
   ]
  },
  {
   "cell_type": "code",
   "execution_count": null,
   "metadata": {},
   "outputs": [],
   "source": [
    "!pip install oauth2"
   ]
  },
  {
   "cell_type": "code",
   "execution_count": null,
   "metadata": {},
   "outputs": [],
   "source": [
    "##### save this code in hidden.py #####\n",
    "\n",
    "def oauth():\n",
    "    return {\"consumer_key\": \"H8z7......7MW6T\",\n",
    "            \"consumer_secret\": \"dWa6F39......vi3RZy\",\n",
    "            \"token_key\": \"1092......dBnDzavJ\",\n",
    "            \"token_secret\": \"whdB......2XjRcqx1\"}"
   ]
  },
  {
   "cell_type": "code",
   "execution_count": null,
   "metadata": {},
   "outputs": [],
   "source": [
    "#### save this code in twurl.py #######\n",
    "\n",
    "import urllib.request, urllib.parse, urllib.error\n",
    "import oauth2 as oauth\n",
    "import hidden\n",
    "\n",
    "# https://apps.twitter.com/\n",
    "# Create App and get the four strings, put them in hidden.py\n",
    "\n",
    "def augment(url, parameters):\n",
    "    secrets = hidden.oauth()\n",
    "\n",
    "    consumer = oauth.Consumer(secrets['consumer_key'],\n",
    "                              secrets['consumer_secret'])\n",
    "    token = oauth.Token(secrets['token_key'], secrets['token_secret'])\n",
    "\n",
    "    oauth_request = oauth.Request.from_consumer_and_token(consumer,\n",
    "                    token=token, http_method='GET', http_url=url,\n",
    "                    parameters=parameters)\n",
    "    oauth_request.sign_request(oauth.SignatureMethod_HMAC_SHA1(),\n",
    "                               consumer, token)\n",
    "    return oauth_request.to_url()\n",
    "\n"
   ]
  },
  {
   "cell_type": "code",
   "execution_count": null,
   "metadata": {},
   "outputs": [],
   "source": []
  },
  {
   "cell_type": "code",
   "execution_count": null,
   "metadata": {},
   "outputs": [],
   "source": [
    "import urllib.request, urllib.parse, urllib.error\n",
    "import twurl\n",
    "\n",
    "import json\n",
    "\n",
    "TWITTER_URL = 'https://api.twitter.com/1.1/friends/list.json'\n",
    "\n",
    "while True:\n",
    "    print('')\n",
    "    #acct = input('Enter Twitter Account:')\n",
    "    acct = \"goldanat\"\n",
    "    if (len(acct) < 1): break\n",
    "    url = twurl.augment(TWITTER_URL,\n",
    "                        {'screen_name': acct, 'count': '5'})\n",
    "    print('Retrieving', url)\n",
    "    connection = urllib.request.urlopen(url)\n",
    "    data = connection.read().decode()\n",
    "    headers = dict(connection.getheaders())\n",
    "    print('Remaining', headers['x-rate-limit-remaining'])\n",
    "    js = json.loads(data)\n",
    "    print(json.dumps(js, indent=4))\n",
    "\n",
    "    for u in js['users']:\n",
    "        print(u['screen_name'])\n",
    "        s = u['status']['text']\n",
    "        print('  ', s[:50])\n",
    "\n",
    "        \n"
   ]
  }
 ],
 "metadata": {
  "anaconda-cloud": {},
  "kernelspec": {
   "display_name": "Python 3 (ipykernel)",
   "language": "python",
   "name": "python3"
  },
  "language_info": {
   "codemirror_mode": {
    "name": "ipython",
    "version": 3
   },
   "file_extension": ".py",
   "mimetype": "text/x-python",
   "name": "python",
   "nbconvert_exporter": "python",
   "pygments_lexer": "ipython3",
   "version": "3.9.7"
  }
 },
 "nbformat": 4,
 "nbformat_minor": 2
}
